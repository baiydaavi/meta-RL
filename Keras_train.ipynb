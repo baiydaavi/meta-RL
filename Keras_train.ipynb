{
 "cells": [
  {
   "cell_type": "code",
   "execution_count": 1,
   "metadata": {
    "ExecuteTime": {
     "end_time": "2020-10-07T22:32:39.423958Z",
     "start_time": "2020-10-07T22:32:37.383130Z"
    }
   },
   "outputs": [
    {
     "name": "stdout",
     "output_type": "stream",
     "text": [
      "Tensorflow version: 2.3.1\n"
     ]
    }
   ],
   "source": [
    "#importing the necessary modules\n",
    "import collections\n",
    "import gym\n",
    "import numpy as np\n",
    "import tensorflow as tf\n",
    "import tqdm\n",
    "import scipy.signal\n",
    "import os\n",
    "from PIL import Image\n",
    "from PIL import ImageDraw \n",
    "from PIL import ImageFont\n",
    "\n",
    "from helper import *\n",
    "\n",
    "from matplotlib import pyplot as plt\n",
    "from tensorflow.keras import layers\n",
    "from typing import Any, List, Sequence, Tuple\n",
    "\n",
    "# Small epsilon value for stabilizing division operations\n",
    "eps = np.finfo(np.float32).eps.item()\n",
    "\n",
    "print('Tensorflow version: {}'.format(tf.__version__))"
   ]
  },
  {
   "cell_type": "code",
   "execution_count": 2,
   "metadata": {
    "ExecuteTime": {
     "end_time": "2020-10-07T01:20:31.425097Z",
     "start_time": "2020-10-07T01:20:31.421858Z"
    }
   },
   "outputs": [],
   "source": [
    "from datetime import datetime\n",
    "\n",
    "# Directory that will store all the figures and training checkpoints\n",
    "dir_name = \"keras_train_\" + datetime.now().strftime(\"%m%d-%H%M%S\")"
   ]
  },
  {
   "cell_type": "code",
   "execution_count": 3,
   "metadata": {
    "ExecuteTime": {
     "end_time": "2020-10-07T01:20:31.431503Z",
     "start_time": "2020-10-07T01:20:31.427156Z"
    }
   },
   "outputs": [],
   "source": [
    "# initialize the directories' names to save the models for this particular seed\n",
    "model_path = dir_name+'/model'\n",
    "frame_path = dir_name+'/frames'\n",
    "\n",
    "# create the directories\n",
    "if not os.path.exists(model_path):\n",
    "    os.makedirs(model_path)\n",
    "\n",
    "if not os.path.exists(frame_path):\n",
    "    os.makedirs(frame_path)"
   ]
  },
  {
   "cell_type": "code",
   "execution_count": 2,
   "metadata": {
    "ExecuteTime": {
     "end_time": "2020-10-07T22:32:44.388304Z",
     "start_time": "2020-10-07T22:32:44.365584Z"
    }
   },
   "outputs": [],
   "source": [
    "#Defining the Bandit environment\n",
    "\n",
    "class dependent_bandit():\n",
    "    # the bandit takes as input the difficulty level for the task or if the choice of reward probability is uniform\n",
    "    def __init__(self,difficulty):\n",
    "        self.num_actions = 2\n",
    "        self.difficulty = difficulty\n",
    "        self.reset()\n",
    "\n",
    "    # Choosing the reward probabilities for the left and right choice    \n",
    "    def reset(self):\n",
    "        self.timestep = 0\n",
    "        if self.difficulty == 'easy': bandit_prob = np.random.choice([0.9,0.1])\n",
    "        if self.difficulty == 'medium': bandit_prob = np.random.choice([0.75,0.25])\n",
    "        if self.difficulty == 'hard': bandit_prob = np.random.choice([0.6,0.4])\n",
    "        if self.difficulty == 'uniform': bandit_prob = np.random.uniform()\n",
    "        \n",
    "        self.bandit = np.array([bandit_prob,1 - bandit_prob])\n",
    "  \n",
    "    def step(self,action):\n",
    "        \n",
    "        self.timestep += 1\n",
    "\n",
    "        # Finding the reward probability of the chosen action\n",
    "        bandit = self.bandit[action]\n",
    "\n",
    "        #choosing a random number between 0 and 1\n",
    "        result = np.random.uniform()\n",
    "\n",
    "        # Reward is provided according to the reward probability of the chosen action\n",
    "        if result < bandit:\n",
    "            #return a positive reward.\n",
    "            reward = 1\n",
    "        else:\n",
    "            #return a negative reward.\n",
    "            reward = 0\n",
    "\n",
    "        # End the episode after 100 trials\n",
    "        if self.timestep > 99: \n",
    "            done = True\n",
    "        else: done = False\n",
    "            \n",
    "        return reward,done,self.timestep"
   ]
  },
  {
   "cell_type": "code",
   "execution_count": 3,
   "metadata": {
    "ExecuteTime": {
     "end_time": "2020-10-07T22:32:45.799701Z",
     "start_time": "2020-10-07T22:32:45.787384Z"
    }
   },
   "outputs": [],
   "source": [
    "class A2C_LSTM(tf.keras.Model):\n",
    "    \"\"\"Combined actor-critic network.\"\"\"\n",
    "\n",
    "    def __init__(\n",
    "        self, \n",
    "        num_actions: int, \n",
    "        num_hidden_units: int):\n",
    "        \"\"\"Initialize.\"\"\"\n",
    "        super().__init__()\n",
    "\n",
    "        self.common_LSTM = layers.LSTM(num_hidden_units, return_state=True, return_sequences=True)\n",
    "        self.actor = layers.Dense(num_actions)\n",
    "        self.critic = layers.Dense(1)\n",
    "\n",
    "    def call(self, inputs: tf.Tensor, lstm_state: tf.Tensor) -> Tuple[tf.Tensor, tf.Tensor, tf.Tensor, tf.Tensor]:\n",
    "\n",
    "        x, state_h, state_c = self.common_LSTM(inputs, initial_state=lstm_state)\n",
    "        return self.actor(x), self.critic(x), state_h, state_c"
   ]
  },
  {
   "cell_type": "code",
   "execution_count": 4,
   "metadata": {
    "ExecuteTime": {
     "end_time": "2020-10-07T22:32:46.479920Z",
     "start_time": "2020-10-07T22:32:46.395051Z"
    }
   },
   "outputs": [],
   "source": [
    "env = dependent_bandit('uniform')\n",
    "num_actions = 2 \n",
    "num_hidden_units = 48\n",
    "\n",
    "model = A2C_LSTM(num_actions, num_hidden_units)"
   ]
  },
  {
   "cell_type": "code",
   "execution_count": 5,
   "metadata": {
    "ExecuteTime": {
     "end_time": "2020-10-07T22:32:46.990516Z",
     "start_time": "2020-10-07T22:32:46.979970Z"
    }
   },
   "outputs": [],
   "source": [
    "def env_step(action: np.ndarray) -> Tuple[np.ndarray, np.ndarray, np.ndarray]:\n",
    "    \"\"\"Returns state, reward and done flag given an action.\"\"\"\n",
    "\n",
    "    reward, done, timestep = env.step(action)\n",
    "    return (np.array(reward, np.float32), \n",
    "        np.array(done, np.bool), \n",
    "        np.array(timestep, np.int32))\n",
    "\n",
    "\n",
    "def tf_env_step(action: tf.Tensor) -> List[tf.Tensor]:\n",
    "    return tf.numpy_function(env_step, [action], \n",
    "                           [tf.float32, tf.bool, tf.int32])"
   ]
  },
  {
   "cell_type": "code",
   "execution_count": 37,
   "metadata": {
    "ExecuteTime": {
     "end_time": "2020-10-07T22:58:05.805525Z",
     "start_time": "2020-10-07T22:58:05.781374Z"
    }
   },
   "outputs": [],
   "source": [
    "def run_episode(\n",
    "    initial_obs: tf.Tensor,\n",
    "    initial_state: tf.Tensor,\n",
    "    model: tf.keras.Model, \n",
    "    max_steps: int) -> List[tf.Tensor]:\n",
    "    \"\"\"Runs a single episode to collect training data.\"\"\"\n",
    "    \n",
    "    obs_seq = tf.TensorArray(dtype=tf.float32, size=0, dynamic_size=True)\n",
    "    actions = tf.TensorArray(dtype=tf.int32, size=0, dynamic_size=True)\n",
    "    rew_probs = tf.TensorArray(dtype=tf.float32, size=0, dynamic_size=True)\n",
    "    timesteps = tf.TensorArray(dtype=tf.int32, size=0, dynamic_size=True)\n",
    "    rewards = tf.TensorArray(dtype=tf.float32, size=0, dynamic_size=True)\n",
    "    values = tf.TensorArray(dtype=tf.float32, size=0, dynamic_size=True)\n",
    "    \n",
    "    obs = initial_obs\n",
    "    state = initial_state\n",
    "        \n",
    "    for t in tf.range(max_steps):\n",
    "        \n",
    "        obs_seq = obs_seq.write(t, obs)\n",
    "        \n",
    "        # Convert state into a batched tensor (batch size = 1)\n",
    "        obs = tf.expand_dims(tf.expand_dims(obs, 0), 0)\n",
    "\n",
    "        # Run the model and to get action probabilities and critic value\n",
    "        action_logits_t, value, temp_h, temp_c = model(obs, state)\n",
    "        \n",
    "        print(value)\n",
    "        \n",
    "        values = values.write(t, tf.squeeze(value))\n",
    "        \n",
    "        # LSTM state for the next timestep\n",
    "        state = [temp_h, temp_c]\n",
    "        \n",
    "        # Sample next action from the action probability distribution\n",
    "        action = tf.random.categorical(tf.expand_dims(tf.squeeze(action_logits_t),0), 1)[0, 0]\n",
    "\n",
    "        # Apply action to the environment to get next state and reward\n",
    "        reward, done, timestep = tf_env_step(action)\n",
    "\n",
    "        # Observation for the next step\n",
    "        obs = tf.concat([[reward], tf.one_hot(action, num_actions, dtype=tf.float32)],0)\n",
    "\n",
    "        # Store reward\n",
    "        rewards = rewards.write(t, reward)\n",
    "\n",
    "        # Store action\n",
    "        actions = actions.write(t, tf.cast(action, tf.int32)) \n",
    "\n",
    "        # Store timestep\n",
    "        timesteps = timesteps.write(t, timestep)\n",
    "\n",
    "        # Store reward probability\n",
    "        rew_probs = rew_probs.write(t, env.bandit)\n",
    "        \n",
    "        if done:\n",
    "            break\n",
    "    \n",
    "    obs_seq = obs_seq.stack()\n",
    "    actions = actions.stack()\n",
    "    timesteps = timesteps.stack()\n",
    "    rew_probs = rew_probs.stack()\n",
    "    rewards = rewards.stack()\n",
    "    values = values.stack()\n",
    "  \n",
    "    return obs_seq, actions, timesteps, rew_probs, rewards, values"
   ]
  },
  {
   "cell_type": "code",
   "execution_count": 7,
   "metadata": {
    "ExecuteTime": {
     "end_time": "2020-10-07T22:32:48.556997Z",
     "start_time": "2020-10-07T22:32:48.543984Z"
    }
   },
   "outputs": [],
   "source": [
    "def get_expected_return(\n",
    "    rewards: tf.Tensor, \n",
    "    gamma: float = 0.9, \n",
    "    standardize: bool = False) -> tf.Tensor:\n",
    "    \"\"\"Compute expected returns per timestep.\"\"\"\n",
    "\n",
    "    n = tf.shape(rewards)[0]\n",
    "    returns = tf.TensorArray(dtype=tf.float32, size=n)\n",
    "\n",
    "    # Start from the end of `rewards` and accumulate reward sums\n",
    "    # into the `returns` array\n",
    "    rewards = tf.cast(rewards[::-1], dtype=tf.float32)\n",
    "    discounted_sum = tf.constant(0.0)\n",
    "    discounted_sum_shape = discounted_sum.shape\n",
    "    for i in tf.range(n):\n",
    "        reward = rewards[i]\n",
    "        discounted_sum = reward + gamma * discounted_sum\n",
    "        discounted_sum.set_shape(discounted_sum_shape)\n",
    "        returns = returns.write(i, discounted_sum)\n",
    "    returns = returns.stack()[::-1]\n",
    "\n",
    "    if standardize:\n",
    "        returns = ((returns - tf.math.reduce_mean(returns)) / \n",
    "                   (tf.math.reduce_std(returns) + eps))\n",
    "\n",
    "    return returns"
   ]
  },
  {
   "cell_type": "code",
   "execution_count": 8,
   "metadata": {
    "ExecuteTime": {
     "end_time": "2020-10-07T22:32:49.124427Z",
     "start_time": "2020-10-07T22:32:49.116155Z"
    }
   },
   "outputs": [],
   "source": [
    "def compute_loss_policy(\n",
    "    action_probs: tf.Tensor,\n",
    "    probs: tf.Tensor,  \n",
    "    advantages: tf.Tensor,\n",
    "    entropy_coef: float = 0.05) -> tf.Tensor:\n",
    "    \"\"\"Computes the combined actor-critic loss.\"\"\"\n",
    "    \n",
    "    policy_loss = - tf.math.reduce_sum(tf.math.log(action_probs) * advantages)\n",
    "    \n",
    "    entropy_loss = - tf.math.reduce_sum(probs * tf.math.log(probs))\n",
    "\n",
    "    return policy_loss - entropy_coef*entropy_loss"
   ]
  },
  {
   "cell_type": "code",
   "execution_count": 9,
   "metadata": {
    "ExecuteTime": {
     "end_time": "2020-10-07T22:32:49.812453Z",
     "start_time": "2020-10-07T22:32:49.805510Z"
    }
   },
   "outputs": [],
   "source": [
    "def compute_loss_value(\n",
    "    values: tf.Tensor,  \n",
    "    returns: tf.Tensor,\n",
    "    value_coef: float = 0.05) -> tf.Tensor:\n",
    "    \"\"\"Computes the combined actor-critic loss.\"\"\"\n",
    "\n",
    "    val_err = returns - values\n",
    "    \n",
    "    value_loss = 0.5 * tf.math.reduce_sum(tf.math.square(val_err))\n",
    "\n",
    "    return value_coef*value_loss"
   ]
  },
  {
   "cell_type": "code",
   "execution_count": 10,
   "metadata": {
    "ExecuteTime": {
     "end_time": "2020-10-07T22:32:50.634251Z",
     "start_time": "2020-10-07T22:32:50.616709Z"
    }
   },
   "outputs": [],
   "source": [
    "optimizer = tf.keras.optimizers.RMSprop(learning_rate=0.014)\n",
    "\n",
    "@tf.function\n",
    "def train_step(\n",
    "    obs: tf.Tensor,\n",
    "    actions: tf.Tensor,\n",
    "    returns: tf.Tensor,\n",
    "    advantages: tf.Tensor,\n",
    "    initial_state: tf.Tensor,\n",
    "    model: tf.keras.Model) -> tf.Tensor:\n",
    "    \"\"\"Runs a model training step.\"\"\"\n",
    "    \n",
    "    state = initial_state\n",
    "\n",
    "    obs = tf.expand_dims(obs, 0)\n",
    "    \n",
    "    with tf.GradientTape() as tape:\n",
    "\n",
    "        logits, values, _, _ = model(obs, state) \n",
    "        \n",
    "        logits = tf.squeeze(logits)\n",
    "        values = tf.squeeze(values)\n",
    "        \n",
    "        probs = tf.nn.softmax(logits)\n",
    "        action_probs = tf.TensorArray(dtype=tf.float32, size=0, dynamic_size=True)\n",
    "        \n",
    "        for t in tf.range(len(actions)):\n",
    "            action_probs = action_probs.write(t, probs[t, actions[t]])\n",
    "            \n",
    "        action_probs = action_probs.stack()\n",
    "\n",
    "        # Convert training data to appropriate TF tensor shapes\n",
    "        action_probs, values, returns, advantages = [\n",
    "            tf.expand_dims(x, 1) for x in [action_probs, values, returns, advantages]] \n",
    "        \n",
    "        # Calculating loss values to update our network\n",
    "        loss = compute_loss_policy(action_probs, probs, advantages) + compute_loss_value(values, returns)\n",
    "    \n",
    "    # Compute the gradients from the loss\n",
    "    grads = tape.gradient(loss, model.trainable_variables)\n",
    "    grads, grad_norms = tf.clip_by_global_norm(grads,999.0)\n",
    "\n",
    "    # Apply the gradients to the model's parameters\n",
    "    optimizer.apply_gradients(zip(grads, model.trainable_variables))\n",
    "\n",
    "    return loss"
   ]
  },
  {
   "cell_type": "code",
   "execution_count": 11,
   "metadata": {
    "ExecuteTime": {
     "end_time": "2020-10-07T22:32:52.466615Z",
     "start_time": "2020-10-07T22:32:52.458720Z"
    }
   },
   "outputs": [],
   "source": [
    "def create_gif(episode_frames):\n",
    "    img_list = []\n",
    "    ep_reward = [0,0]\n",
    "    for i in range(len(episode_frames[0])):\n",
    "        img_list.append(set_image_bandit(ep_reward,episode_frames[1][i],\n",
    "                                         episode_frames[2][i],episode_frames[3][i]))\n",
    "        ep_reward[episode_frames[2][i]] += episode_frames[0][i]\n",
    "        \n",
    "    return img_list"
   ]
  },
  {
   "cell_type": "code",
   "execution_count": 14,
   "metadata": {
    "ExecuteTime": {
     "end_time": "2020-10-07T04:35:35.301892Z",
     "start_time": "2020-10-07T01:20:31.596251Z"
    }
   },
   "outputs": [
    {
     "name": "stderr",
     "output_type": "stream",
     "text": [
      "Episode 0:   0%|          | 0/20001 [00:03<?, ?it/s, episode_loss=tf.Tensor(322.57068, shape=(), dtype=float32), episode_reward=tf.Tensor(44.0, shape=(), dtype=float32)]\n",
      "t:   0%|          | 0/100 [00:00<?, ?it/s, now=None]\u001b[A\n",
      "t:  10%|█         | 10/100 [00:00<00:00, 95.99it/s, now=None]\u001b[A"
     ]
    },
    {
     "name": "stdout",
     "output_type": "stream",
     "text": [
      "MoviePy - Building file keras_train_1006-182031/frames/train_0.gif with imageio.\n"
     ]
    },
    {
     "name": "stderr",
     "output_type": "stream",
     "text": [
      "\n",
      "t:  19%|█▉        | 19/100 [00:00<00:00, 93.66it/s, now=None]\u001b[A\n",
      "t:  28%|██▊       | 28/100 [00:00<00:00, 92.36it/s, now=None]\u001b[A\n",
      "t:  38%|███▊      | 38/100 [00:00<00:00, 91.74it/s, now=None]\u001b[A\n",
      "t:  48%|████▊     | 48/100 [00:00<00:00, 91.29it/s, now=None]\u001b[A\n",
      "t:  59%|█████▉    | 59/100 [00:00<00:00, 95.35it/s, now=None]\u001b[A\n",
      "t:  71%|███████   | 71/100 [00:00<00:00, 101.08it/s, now=None]\u001b[A\n",
      "t:  83%|████████▎ | 83/100 [00:00<00:00, 106.04it/s, now=None]\u001b[A\n",
      "t:  96%|█████████▌| 96/100 [00:00<00:00, 112.23it/s, now=None]\u001b[A\n",
      "Episode 100:   0%|          | 100/20001 [01:15<4:17:58,  1.29it/s, episode_loss=tf.Tensor(2.2341795, shape=(), dtype=float32), episode_reward=tf.Tensor(22.0, shape=(), dtype=float32)] \n",
      "t:   0%|          | 0/100 [00:00<?, ?it/s, now=None]\u001b[A\n",
      "t:  13%|█▎        | 13/100 [00:00<00:00, 119.49it/s, now=None]\u001b[A"
     ]
    },
    {
     "name": "stdout",
     "output_type": "stream",
     "text": [
      "MoviePy - Building file keras_train_1006-182031/frames/train_100.gif with imageio.\n"
     ]
    },
    {
     "name": "stderr",
     "output_type": "stream",
     "text": [
      "\n",
      "t:  24%|██▍       | 24/100 [00:00<00:00, 115.34it/s, now=None]\u001b[A\n",
      "t:  35%|███▌      | 35/100 [00:00<00:00, 113.10it/s, now=None]\u001b[A\n",
      "t:  46%|████▌     | 46/100 [00:00<00:00, 111.80it/s, now=None]\u001b[A\n",
      "t:  58%|█████▊    | 58/100 [00:00<00:00, 112.01it/s, now=None]\u001b[A\n",
      "t:  69%|██████▉   | 69/100 [00:00<00:00, 110.19it/s, now=None]\u001b[A\n",
      "t:  80%|████████  | 80/100 [00:00<00:00, 108.98it/s, now=None]\u001b[A\n",
      "t:  91%|█████████ | 91/100 [00:00<00:00, 108.93it/s, now=None]\u001b[A\n",
      "Episode 200:   1%|          | 200/20001 [02:26<3:26:28,  1.60it/s, episode_loss=tf.Tensor(5.102634, shape=(), dtype=float32), episode_reward=tf.Tensor(44.0, shape=(), dtype=float32)]  \n",
      "t:   0%|          | 0/100 [00:00<?, ?it/s, now=None]\u001b[A\n",
      "t:   9%|▉         | 9/100 [00:00<00:01, 88.99it/s, now=None]\u001b[A"
     ]
    },
    {
     "name": "stdout",
     "output_type": "stream",
     "text": [
      "MoviePy - Building file keras_train_1006-182031/frames/train_200.gif with imageio.\n"
     ]
    },
    {
     "name": "stderr",
     "output_type": "stream",
     "text": [
      "\n",
      "t:  18%|█▊        | 18/100 [00:00<00:00, 86.63it/s, now=None]\u001b[A\n",
      "t:  30%|███       | 30/100 [00:00<00:00, 93.04it/s, now=None]\u001b[A\n",
      "t:  42%|████▏     | 42/100 [00:00<00:00, 98.89it/s, now=None]\u001b[A\n",
      "t:  54%|█████▍    | 54/100 [00:00<00:00, 102.57it/s, now=None]\u001b[A\n",
      "t:  64%|██████▍   | 64/100 [00:00<00:00, 97.24it/s, now=None] \u001b[A\n",
      "t:  73%|███████▎  | 73/100 [00:00<00:00, 90.39it/s, now=None]\u001b[A\n",
      "t:  82%|████████▏ | 82/100 [00:00<00:00, 87.64it/s, now=None]\u001b[A\n",
      "t:  91%|█████████ | 91/100 [00:00<00:00, 85.47it/s, now=None]\u001b[A\n",
      "t: 100%|██████████| 100/100 [00:01<00:00, 84.21it/s, now=None]\u001b[A\n",
      "Episode 300:   1%|▏         | 300/20001 [03:35<3:18:50,  1.65it/s, episode_loss=tf.Tensor(-60.25969, shape=(), dtype=float32), episode_reward=tf.Tensor(30.0, shape=(), dtype=float32)]  \n",
      "t:   0%|          | 0/100 [00:00<?, ?it/s, now=None]\u001b[A\n",
      "t:  13%|█▎        | 13/100 [00:00<00:00, 126.50it/s, now=None]\u001b[A"
     ]
    },
    {
     "name": "stdout",
     "output_type": "stream",
     "text": [
      "MoviePy - Building file keras_train_1006-182031/frames/train_300.gif with imageio.\n"
     ]
    },
    {
     "name": "stderr",
     "output_type": "stream",
     "text": [
      "\n",
      "t:  24%|██▍       | 24/100 [00:00<00:00, 120.64it/s, now=None]\u001b[A\n",
      "t:  36%|███▌      | 36/100 [00:00<00:00, 119.43it/s, now=None]\u001b[A\n",
      "t:  48%|████▊     | 48/100 [00:00<00:00, 118.57it/s, now=None]\u001b[A\n",
      "t:  60%|██████    | 60/100 [00:00<00:00, 116.17it/s, now=None]\u001b[A\n",
      "t:  72%|███████▏  | 72/100 [00:00<00:00, 114.91it/s, now=None]\u001b[A\n",
      "t:  84%|████████▍ | 84/100 [00:00<00:00, 114.03it/s, now=None]\u001b[A\n",
      "t:  96%|█████████▌| 96/100 [00:00<00:00, 114.84it/s, now=None]\u001b[A\n",
      "Episode 400:   2%|▏         | 400/20001 [04:41<3:57:45,  1.37it/s, episode_loss=tf.Tensor(-2.3752346, shape=(), dtype=float32), episode_reward=tf.Tensor(44.0, shape=(), dtype=float32)] \n",
      "t:   0%|          | 0/100 [00:00<?, ?it/s, now=None]\u001b[A\n",
      "t:  13%|█▎        | 13/100 [00:00<00:00, 128.56it/s, now=None]\u001b[A"
     ]
    },
    {
     "name": "stdout",
     "output_type": "stream",
     "text": [
      "MoviePy - Building file keras_train_1006-182031/frames/train_400.gif with imageio.\n"
     ]
    },
    {
     "name": "stderr",
     "output_type": "stream",
     "text": [
      "\n",
      "t:  25%|██▌       | 25/100 [00:00<00:00, 124.22it/s, now=None]\u001b[A\n",
      "t:  37%|███▋      | 37/100 [00:00<00:00, 120.80it/s, now=None]\u001b[A\n",
      "t:  49%|████▉     | 49/100 [00:00<00:00, 119.87it/s, now=None]\u001b[A\n",
      "t:  61%|██████    | 61/100 [00:00<00:00, 119.08it/s, now=None]\u001b[A\n",
      "t:  74%|███████▍  | 74/100 [00:00<00:00, 119.73it/s, now=None]\u001b[A\n",
      "t:  86%|████████▌ | 86/100 [00:00<00:00, 119.39it/s, now=None]\u001b[A\n",
      "t:  98%|█████████▊| 98/100 [00:00<00:00, 118.90it/s, now=None]\u001b[A\n",
      "Episode 500:   2%|▏         | 500/20001 [05:48<3:16:49,  1.65it/s, episode_loss=tf.Tensor(2.1893072, shape=(), dtype=float32), episode_reward=tf.Tensor(64.0, shape=(), dtype=float32)] \n",
      "t:   0%|          | 0/100 [00:00<?, ?it/s, now=None]\u001b[A\n",
      "t:  14%|█▍        | 14/100 [00:00<00:00, 139.63it/s, now=None]\u001b[A"
     ]
    },
    {
     "name": "stdout",
     "output_type": "stream",
     "text": [
      "MoviePy - Building file keras_train_1006-182031/frames/train_500.gif with imageio.\n"
     ]
    },
    {
     "name": "stderr",
     "output_type": "stream",
     "text": [
      "\n",
      "t:  27%|██▋       | 27/100 [00:00<00:00, 134.07it/s, now=None]\u001b[A\n",
      "t:  40%|████      | 40/100 [00:00<00:00, 131.91it/s, now=None]\u001b[A\n",
      "t:  54%|█████▍    | 54/100 [00:00<00:00, 131.48it/s, now=None]\u001b[A\n",
      "t:  67%|██████▋   | 67/100 [00:00<00:00, 128.32it/s, now=None]\u001b[A\n",
      "t:  80%|████████  | 80/100 [00:00<00:00, 126.36it/s, now=None]\u001b[A\n",
      "t:  93%|█████████▎| 93/100 [00:00<00:00, 125.33it/s, now=None]\u001b[A\n",
      "Episode 600:   3%|▎         | 600/20001 [06:56<3:16:02,  1.65it/s, episode_loss=tf.Tensor(11.500326, shape=(), dtype=float32), episode_reward=tf.Tensor(45.0, shape=(), dtype=float32)]  \n",
      "t:   0%|          | 0/100 [00:00<?, ?it/s, now=None]\u001b[A\n",
      "t:  13%|█▎        | 13/100 [00:00<00:00, 128.09it/s, now=None]\u001b[A"
     ]
    },
    {
     "name": "stdout",
     "output_type": "stream",
     "text": [
      "MoviePy - Building file keras_train_1006-182031/frames/train_600.gif with imageio.\n"
     ]
    },
    {
     "name": "stderr",
     "output_type": "stream",
     "text": [
      "\n",
      "t:  25%|██▌       | 25/100 [00:00<00:00, 122.55it/s, now=None]\u001b[A\n",
      "t:  37%|███▋      | 37/100 [00:00<00:00, 120.87it/s, now=None]\u001b[A\n",
      "t:  49%|████▉     | 49/100 [00:00<00:00, 120.42it/s, now=None]\u001b[A\n",
      "t:  61%|██████    | 61/100 [00:00<00:00, 119.64it/s, now=None]\u001b[A\n",
      "t:  74%|███████▍  | 74/100 [00:00<00:00, 120.44it/s, now=None]\u001b[A\n",
      "t:  86%|████████▌ | 86/100 [00:00<00:00, 119.73it/s, now=None]\u001b[A\n",
      "t:  99%|█████████▉| 99/100 [00:00<00:00, 120.61it/s, now=None]\u001b[A\n",
      "Episode 700:   3%|▎         | 700/20001 [07:57<3:05:51,  1.73it/s, episode_loss=tf.Tensor(1.7092795, shape=(), dtype=float32), episode_reward=tf.Tensor(92.0, shape=(), dtype=float32)]   \n",
      "t:   0%|          | 0/100 [00:00<?, ?it/s, now=None]\u001b[A\n",
      "t:  15%|█▌        | 15/100 [00:00<00:00, 142.60it/s, now=None]\u001b[A"
     ]
    },
    {
     "name": "stdout",
     "output_type": "stream",
     "text": [
      "MoviePy - Building file keras_train_1006-182031/frames/train_700.gif with imageio.\n"
     ]
    },
    {
     "name": "stderr",
     "output_type": "stream",
     "text": [
      "\n",
      "t:  29%|██▉       | 29/100 [00:00<00:00, 139.51it/s, now=None]\u001b[A\n",
      "t:  43%|████▎     | 43/100 [00:00<00:00, 137.53it/s, now=None]\u001b[A\n",
      "t:  57%|█████▋    | 57/100 [00:00<00:00, 136.20it/s, now=None]\u001b[A\n",
      "t:  71%|███████   | 71/100 [00:00<00:00, 135.81it/s, now=None]\u001b[A\n",
      "t:  85%|████████▌ | 85/100 [00:00<00:00, 135.33it/s, now=None]\u001b[A\n",
      "t:  99%|█████████▉| 99/100 [00:00<00:00, 135.94it/s, now=None]\u001b[A\n",
      "Episode 800:   4%|▍         | 800/20001 [08:56<3:06:51,  1.71it/s, episode_loss=tf.Tensor(11.315033, shape=(), dtype=float32), episode_reward=tf.Tensor(92.0, shape=(), dtype=float32)] \n",
      "t:   0%|          | 0/100 [00:00<?, ?it/s, now=None]\u001b[A\n",
      "t:  13%|█▎        | 13/100 [00:00<00:00, 128.57it/s, now=None]\u001b[A"
     ]
    },
    {
     "name": "stdout",
     "output_type": "stream",
     "text": [
      "MoviePy - Building file keras_train_1006-182031/frames/train_800.gif with imageio.\n"
     ]
    },
    {
     "name": "stderr",
     "output_type": "stream",
     "text": [
      "\n",
      "t:  25%|██▌       | 25/100 [00:00<00:00, 124.74it/s, now=None]\u001b[A\n",
      "t:  37%|███▋      | 37/100 [00:00<00:00, 120.57it/s, now=None]\u001b[A\n",
      "t:  49%|████▉     | 49/100 [00:00<00:00, 119.40it/s, now=None]\u001b[A\n",
      "t:  61%|██████    | 61/100 [00:00<00:00, 119.18it/s, now=None]\u001b[A\n",
      "t:  74%|███████▍  | 74/100 [00:00<00:00, 120.23it/s, now=None]\u001b[A\n",
      "t:  87%|████████▋ | 87/100 [00:00<00:00, 120.34it/s, now=None]\u001b[A\n",
      "t:  99%|█████████▉| 99/100 [00:00<00:00, 120.01it/s, now=None]\u001b[A\n",
      "Episode 900:   4%|▍         | 900/20001 [09:56<3:20:48,  1.59it/s, episode_loss=tf.Tensor(10.467672, shape=(), dtype=float32), episode_reward=tf.Tensor(64.0, shape=(), dtype=float32)]  \n",
      "t:   0%|          | 0/100 [00:00<?, ?it/s, now=None]\u001b[A\n",
      "t:  14%|█▍        | 14/100 [00:00<00:00, 132.35it/s, now=None]\u001b[A"
     ]
    },
    {
     "name": "stdout",
     "output_type": "stream",
     "text": [
      "MoviePy - Building file keras_train_1006-182031/frames/train_900.gif with imageio.\n"
     ]
    },
    {
     "name": "stderr",
     "output_type": "stream",
     "text": [
      "\n",
      "t:  27%|██▋       | 27/100 [00:00<00:00, 128.72it/s, now=None]\u001b[A\n",
      "t:  40%|████      | 40/100 [00:00<00:00, 129.05it/s, now=None]\u001b[A\n",
      "t:  53%|█████▎    | 53/100 [00:00<00:00, 127.76it/s, now=None]\u001b[A\n",
      "t:  66%|██████▌   | 66/100 [00:00<00:00, 127.18it/s, now=None]\u001b[A\n",
      "t:  79%|███████▉  | 79/100 [00:00<00:00, 126.03it/s, now=None]\u001b[A\n",
      "t:  93%|█████████▎| 93/100 [00:00<00:00, 127.70it/s, now=None]\u001b[A\n",
      "Episode 1000:   5%|▍         | 1000/20001 [10:58<3:10:59,  1.66it/s, episode_loss=tf.Tensor(9.297941, shape=(), dtype=float32), episode_reward=tf.Tensor(77.0, shape=(), dtype=float32)] \n",
      "t:   0%|          | 0/100 [00:00<?, ?it/s, now=None]\u001b[A\n",
      "t:  14%|█▍        | 14/100 [00:00<00:00, 131.07it/s, now=None]\u001b[A"
     ]
    },
    {
     "name": "stdout",
     "output_type": "stream",
     "text": [
      "MoviePy - Building file keras_train_1006-182031/frames/train_1000.gif with imageio.\n"
     ]
    },
    {
     "name": "stderr",
     "output_type": "stream",
     "text": [
      "\n",
      "t:  26%|██▌       | 26/100 [00:00<00:00, 126.74it/s, now=None]\u001b[A\n",
      "t:  38%|███▊      | 38/100 [00:00<00:00, 123.79it/s, now=None]\u001b[A\n",
      "t:  51%|█████     | 51/100 [00:00<00:00, 122.82it/s, now=None]\u001b[A\n",
      "t:  63%|██████▎   | 63/100 [00:00<00:00, 121.80it/s, now=None]\u001b[A\n",
      "t:  76%|███████▌  | 76/100 [00:00<00:00, 121.89it/s, now=None]\u001b[A\n",
      "t:  88%|████████▊ | 88/100 [00:00<00:00, 118.73it/s, now=None]\u001b[A\n",
      "t: 100%|██████████| 100/100 [00:00<00:00, 117.23it/s, now=None]\u001b[A\n",
      "Episode 1100:   5%|▌         | 1100/20001 [11:56<2:56:57,  1.78it/s, episode_loss=tf.Tensor(0.24803352, shape=(), dtype=float32), episode_reward=tf.Tensor(34.0, shape=(), dtype=float32)] \n",
      "t:   0%|          | 0/100 [00:00<?, ?it/s, now=None]\u001b[A\n",
      "t:  15%|█▌        | 15/100 [00:00<00:00, 145.73it/s, now=None]\u001b[A"
     ]
    },
    {
     "name": "stdout",
     "output_type": "stream",
     "text": [
      "MoviePy - Building file keras_train_1006-182031/frames/train_1100.gif with imageio.\n"
     ]
    },
    {
     "name": "stderr",
     "output_type": "stream",
     "text": [
      "\n",
      "t:  29%|██▉       | 29/100 [00:00<00:00, 141.28it/s, now=None]\u001b[A\n",
      "t:  43%|████▎     | 43/100 [00:00<00:00, 138.62it/s, now=None]\u001b[A\n",
      "t:  57%|█████▋    | 57/100 [00:00<00:00, 137.47it/s, now=None]\u001b[A\n",
      "t:  71%|███████   | 71/100 [00:00<00:00, 137.46it/s, now=None]\u001b[A\n",
      "t:  85%|████████▌ | 85/100 [00:00<00:00, 136.91it/s, now=None]\u001b[A\n",
      "t:  99%|█████████▉| 99/100 [00:00<00:00, 135.19it/s, now=None]\u001b[A\n",
      "Episode 1200:   6%|▌         | 1200/20001 [12:53<3:06:45,  1.68it/s, episode_loss=tf.Tensor(-18.688602, shape=(), dtype=float32), episode_reward=tf.Tensor(42.0, shape=(), dtype=float32)]  \n",
      "t:   0%|          | 0/100 [00:00<?, ?it/s, now=None]\u001b[A\n",
      "t:  14%|█▍        | 14/100 [00:00<00:00, 135.91it/s, now=None]\u001b[A"
     ]
    },
    {
     "name": "stdout",
     "output_type": "stream",
     "text": [
      "MoviePy - Building file keras_train_1006-182031/frames/train_1200.gif with imageio.\n"
     ]
    },
    {
     "name": "stderr",
     "output_type": "stream",
     "text": [
      "\n",
      "t:  27%|██▋       | 27/100 [00:00<00:00, 132.79it/s, now=None]\u001b[A\n",
      "t:  41%|████      | 41/100 [00:00<00:00, 132.51it/s, now=None]\u001b[A\n",
      "t:  54%|█████▍    | 54/100 [00:00<00:00, 129.62it/s, now=None]\u001b[A\n",
      "t:  67%|██████▋   | 67/100 [00:00<00:00, 128.60it/s, now=None]\u001b[A\n",
      "t:  80%|████████  | 80/100 [00:00<00:00, 127.39it/s, now=None]\u001b[A\n",
      "t:  93%|█████████▎| 93/100 [00:00<00:00, 126.94it/s, now=None]\u001b[A\n",
      "Episode 1300:   6%|▋         | 1300/20001 [13:52<3:03:58,  1.69it/s, episode_loss=tf.Tensor(15.386648, shape=(), dtype=float32), episode_reward=tf.Tensor(65.0, shape=(), dtype=float32)]  \n",
      "t:   0%|          | 0/100 [00:00<?, ?it/s, now=None]\u001b[A\n",
      "t:  14%|█▍        | 14/100 [00:00<00:00, 130.68it/s, now=None]\u001b[A"
     ]
    },
    {
     "name": "stdout",
     "output_type": "stream",
     "text": [
      "MoviePy - Building file keras_train_1006-182031/frames/train_1300.gif with imageio.\n"
     ]
    },
    {
     "name": "stderr",
     "output_type": "stream",
     "text": [
      "\n",
      "t:  26%|██▌       | 26/100 [00:00<00:00, 126.64it/s, now=None]\u001b[A\n",
      "t:  38%|███▊      | 38/100 [00:00<00:00, 123.96it/s, now=None]\u001b[A\n",
      "t:  51%|█████     | 51/100 [00:00<00:00, 124.19it/s, now=None]\u001b[A\n",
      "t:  64%|██████▍   | 64/100 [00:00<00:00, 124.26it/s, now=None]\u001b[A\n",
      "t:  77%|███████▋  | 77/100 [00:00<00:00, 123.42it/s, now=None]\u001b[A\n",
      "t:  89%|████████▉ | 89/100 [00:00<00:00, 120.75it/s, now=None]\u001b[A\n",
      "Episode 1400:   7%|▋         | 1400/20001 [14:52<3:02:35,  1.70it/s, episode_loss=tf.Tensor(8.244724, shape=(), dtype=float32), episode_reward=tf.Tensor(97.0, shape=(), dtype=float32)]   \n",
      "t:   0%|          | 0/100 [00:00<?, ?it/s, now=None]\u001b[A\n",
      "t:  13%|█▎        | 13/100 [00:00<00:00, 129.33it/s, now=None]\u001b[A"
     ]
    },
    {
     "name": "stdout",
     "output_type": "stream",
     "text": [
      "MoviePy - Building file keras_train_1006-182031/frames/train_1400.gif with imageio.\n"
     ]
    },
    {
     "name": "stderr",
     "output_type": "stream",
     "text": [
      "\n",
      "t:  25%|██▌       | 25/100 [00:00<00:00, 123.85it/s, now=None]\u001b[A\n",
      "t:  37%|███▋      | 37/100 [00:00<00:00, 120.70it/s, now=None]\u001b[A\n",
      "t:  49%|████▉     | 49/100 [00:00<00:00, 119.82it/s, now=None]\u001b[A\n",
      "t:  61%|██████    | 61/100 [00:00<00:00, 117.97it/s, now=None]\u001b[A\n",
      "t:  73%|███████▎  | 73/100 [00:00<00:00, 118.36it/s, now=None]\u001b[A\n",
      "t:  86%|████████▌ | 86/100 [00:00<00:00, 118.98it/s, now=None]\u001b[A\n",
      "t:  98%|█████████▊| 98/100 [00:00<00:00, 118.90it/s, now=None]\u001b[A\n",
      "Episode 1500:   7%|▋         | 1500/20001 [15:50<2:54:50,  1.76it/s, episode_loss=tf.Tensor(8.917079, shape=(), dtype=float32), episode_reward=tf.Tensor(49.0, shape=(), dtype=float32)]   \n",
      "t:   0%|          | 0/100 [00:00<?, ?it/s, now=None]\u001b[A\n",
      "t:  14%|█▍        | 14/100 [00:00<00:00, 131.14it/s, now=None]\u001b[A"
     ]
    },
    {
     "name": "stdout",
     "output_type": "stream",
     "text": [
      "MoviePy - Building file keras_train_1006-182031/frames/train_1500.gif with imageio.\n"
     ]
    },
    {
     "name": "stderr",
     "output_type": "stream",
     "text": [
      "\n",
      "t:  26%|██▌       | 26/100 [00:00<00:00, 127.27it/s, now=None]\u001b[A\n",
      "t:  38%|███▊      | 38/100 [00:00<00:00, 124.42it/s, now=None]\u001b[A\n",
      "t:  50%|█████     | 50/100 [00:00<00:00, 122.67it/s, now=None]\u001b[A\n",
      "t:  62%|██████▏   | 62/100 [00:00<00:00, 121.80it/s, now=None]\u001b[A\n",
      "t:  74%|███████▍  | 74/100 [00:00<00:00, 121.16it/s, now=None]\u001b[A\n",
      "t:  87%|████████▋ | 87/100 [00:00<00:00, 121.12it/s, now=None]\u001b[A\n",
      "t: 100%|██████████| 100/100 [00:00<00:00, 121.96it/s, now=None]\u001b[A\n",
      "Episode 1600:   8%|▊         | 1600/20001 [16:48<2:57:26,  1.73it/s, episode_loss=tf.Tensor(6.9054585, shape=(), dtype=float32), episode_reward=tf.Tensor(54.0, shape=(), dtype=float32)] \n",
      "t:   0%|          | 0/100 [00:00<?, ?it/s, now=None]\u001b[A\n",
      "t:  14%|█▍        | 14/100 [00:00<00:00, 133.80it/s, now=None]\u001b[A"
     ]
    },
    {
     "name": "stdout",
     "output_type": "stream",
     "text": [
      "MoviePy - Building file keras_train_1006-182031/frames/train_1600.gif with imageio.\n"
     ]
    },
    {
     "name": "stderr",
     "output_type": "stream",
     "text": [
      "\n",
      "t:  27%|██▋       | 27/100 [00:00<00:00, 129.93it/s, now=None]\u001b[A\n",
      "t:  40%|████      | 40/100 [00:00<00:00, 127.44it/s, now=None]\u001b[A\n",
      "t:  53%|█████▎    | 53/100 [00:00<00:00, 125.89it/s, now=None]\u001b[A\n",
      "t:  66%|██████▌   | 66/100 [00:00<00:00, 124.80it/s, now=None]\u001b[A\n",
      "t:  79%|███████▉  | 79/100 [00:00<00:00, 124.33it/s, now=None]\u001b[A\n",
      "t:  92%|█████████▏| 92/100 [00:00<00:00, 123.25it/s, now=None]\u001b[A\n",
      "Episode 1700:   8%|▊         | 1700/20001 [17:45<2:51:24,  1.78it/s, episode_loss=tf.Tensor(5.9381113, shape=(), dtype=float32), episode_reward=tf.Tensor(35.0, shape=(), dtype=float32)]   \n",
      "t:   0%|          | 0/100 [00:00<?, ?it/s, now=None]\u001b[A\n",
      "t:  14%|█▍        | 14/100 [00:00<00:00, 134.50it/s, now=None]\u001b[A"
     ]
    },
    {
     "name": "stdout",
     "output_type": "stream",
     "text": [
      "MoviePy - Building file keras_train_1006-182031/frames/train_1700.gif with imageio.\n"
     ]
    },
    {
     "name": "stderr",
     "output_type": "stream",
     "text": [
      "\n",
      "t:  27%|██▋       | 27/100 [00:00<00:00, 130.22it/s, now=None]\u001b[A\n",
      "t:  40%|████      | 40/100 [00:00<00:00, 127.85it/s, now=None]\u001b[A\n",
      "t:  53%|█████▎    | 53/100 [00:00<00:00, 126.04it/s, now=None]\u001b[A\n",
      "t:  66%|██████▌   | 66/100 [00:00<00:00, 124.68it/s, now=None]\u001b[A\n",
      "t:  79%|███████▉  | 79/100 [00:00<00:00, 123.98it/s, now=None]\u001b[A\n",
      "t:  92%|█████████▏| 92/100 [00:00<00:00, 123.74it/s, now=None]\u001b[A\n",
      "Episode 1800:   9%|▉         | 1800/20001 [18:42<2:49:35,  1.79it/s, episode_loss=tf.Tensor(15.144155, shape=(), dtype=float32), episode_reward=tf.Tensor(81.0, shape=(), dtype=float32)] \n",
      "t:   0%|          | 0/100 [00:00<?, ?it/s, now=None]\u001b[A\n",
      "t:  14%|█▍        | 14/100 [00:00<00:00, 131.53it/s, now=None]\u001b[A"
     ]
    },
    {
     "name": "stdout",
     "output_type": "stream",
     "text": [
      "MoviePy - Building file keras_train_1006-182031/frames/train_1800.gif with imageio.\n"
     ]
    },
    {
     "name": "stderr",
     "output_type": "stream",
     "text": [
      "\n",
      "t:  27%|██▋       | 27/100 [00:00<00:00, 128.03it/s, now=None]\u001b[A\n",
      "t:  40%|████      | 40/100 [00:00<00:00, 126.86it/s, now=None]\u001b[A\n",
      "t:  53%|█████▎    | 53/100 [00:00<00:00, 125.86it/s, now=None]\u001b[A\n",
      "t:  66%|██████▌   | 66/100 [00:00<00:00, 125.49it/s, now=None]\u001b[A\n",
      "t:  79%|███████▉  | 79/100 [00:00<00:00, 125.62it/s, now=None]\u001b[A\n",
      "t:  92%|█████████▏| 92/100 [00:00<00:00, 125.52it/s, now=None]\u001b[A\n",
      "Episode 1900:   9%|▉         | 1900/20001 [19:39<2:48:19,  1.79it/s, episode_loss=tf.Tensor(9.930207, shape=(), dtype=float32), episode_reward=tf.Tensor(62.0, shape=(), dtype=float32)]   \n",
      "t:   0%|          | 0/100 [00:00<?, ?it/s, now=None]\u001b[A\n",
      "t:  14%|█▍        | 14/100 [00:00<00:00, 130.64it/s, now=None]\u001b[A"
     ]
    },
    {
     "name": "stdout",
     "output_type": "stream",
     "text": [
      "MoviePy - Building file keras_train_1006-182031/frames/train_1900.gif with imageio.\n"
     ]
    },
    {
     "name": "stderr",
     "output_type": "stream",
     "text": [
      "\n",
      "t:  26%|██▌       | 26/100 [00:00<00:00, 126.83it/s, now=None]\u001b[A\n",
      "t:  39%|███▉      | 39/100 [00:00<00:00, 125.89it/s, now=None]\u001b[A\n",
      "t:  51%|█████     | 51/100 [00:00<00:00, 124.06it/s, now=None]\u001b[A\n",
      "t:  63%|██████▎   | 63/100 [00:00<00:00, 122.54it/s, now=None]\u001b[A\n",
      "t:  75%|███████▌  | 75/100 [00:00<00:00, 121.52it/s, now=None]\u001b[A\n",
      "t:  87%|████████▋ | 87/100 [00:00<00:00, 118.95it/s, now=None]\u001b[A\n",
      "t: 100%|██████████| 100/100 [00:00<00:00, 120.32it/s, now=None]\u001b[A\n",
      "Episode 2000:  10%|▉         | 2000/20001 [20:36<2:51:08,  1.75it/s, episode_loss=tf.Tensor(8.385566, shape=(), dtype=float32), episode_reward=tf.Tensor(55.0, shape=(), dtype=float32)]   \n",
      "t:   0%|          | 0/100 [00:00<?, ?it/s, now=None]\u001b[A\n",
      "t:  14%|█▍        | 14/100 [00:00<00:00, 131.38it/s, now=None]\u001b[A"
     ]
    },
    {
     "name": "stdout",
     "output_type": "stream",
     "text": [
      "MoviePy - Building file keras_train_1006-182031/frames/train_2000.gif with imageio.\n"
     ]
    },
    {
     "name": "stderr",
     "output_type": "stream",
     "text": [
      "\n",
      "t:  26%|██▌       | 26/100 [00:00<00:00, 127.46it/s, now=None]\u001b[A\n",
      "t:  38%|███▊      | 38/100 [00:00<00:00, 124.95it/s, now=None]\u001b[A\n",
      "t:  50%|█████     | 50/100 [00:00<00:00, 123.41it/s, now=None]\u001b[A\n",
      "t:  63%|██████▎   | 63/100 [00:00<00:00, 122.84it/s, now=None]\u001b[A\n",
      "t:  76%|███████▌  | 76/100 [00:00<00:00, 123.31it/s, now=None]\u001b[A\n",
      "t:  88%|████████▊ | 88/100 [00:00<00:00, 122.00it/s, now=None]\u001b[A\n",
      "t: 100%|██████████| 100/100 [00:00<00:00, 121.23it/s, now=None]\u001b[A\n",
      "Episode 2100:  10%|█         | 2100/20001 [21:34<2:45:56,  1.80it/s, episode_loss=tf.Tensor(12.329578, shape=(), dtype=float32), episode_reward=tf.Tensor(81.0, shape=(), dtype=float32)] \n",
      "t:   0%|          | 0/100 [00:00<?, ?it/s, now=None]\u001b[A\n",
      "t:  14%|█▍        | 14/100 [00:00<00:00, 130.26it/s, now=None]\u001b[A"
     ]
    },
    {
     "name": "stdout",
     "output_type": "stream",
     "text": [
      "MoviePy - Building file keras_train_1006-182031/frames/train_2100.gif with imageio.\n"
     ]
    },
    {
     "name": "stderr",
     "output_type": "stream",
     "text": [
      "\n",
      "t:  26%|██▌       | 26/100 [00:00<00:00, 126.52it/s, now=None]\u001b[A\n",
      "t:  39%|███▉      | 39/100 [00:00<00:00, 124.91it/s, now=None]\u001b[A\n",
      "t:  52%|█████▏    | 52/100 [00:00<00:00, 124.45it/s, now=None]\u001b[A\n",
      "t:  64%|██████▍   | 64/100 [00:00<00:00, 122.45it/s, now=None]\u001b[A\n",
      "t:  76%|███████▌  | 76/100 [00:00<00:00, 121.40it/s, now=None]\u001b[A\n",
      "t:  89%|████████▉ | 89/100 [00:00<00:00, 121.61it/s, now=None]\u001b[A\n",
      "Episode 2200:  11%|█         | 2200/20001 [22:31<2:46:24,  1.78it/s, episode_loss=tf.Tensor(12.749138, shape=(), dtype=float32), episode_reward=tf.Tensor(78.0, shape=(), dtype=float32)]  \n",
      "t:   0%|          | 0/100 [00:00<?, ?it/s, now=None]\u001b[A\n",
      "t:  14%|█▍        | 14/100 [00:00<00:00, 134.94it/s, now=None]\u001b[A"
     ]
    },
    {
     "name": "stdout",
     "output_type": "stream",
     "text": [
      "MoviePy - Building file keras_train_1006-182031/frames/train_2200.gif with imageio.\n"
     ]
    },
    {
     "name": "stderr",
     "output_type": "stream",
     "text": [
      "\n",
      "t:  26%|██▌       | 26/100 [00:00<00:00, 129.80it/s, now=None]\u001b[A\n",
      "t:  39%|███▉      | 39/100 [00:00<00:00, 127.97it/s, now=None]\u001b[A\n",
      "t:  52%|█████▏    | 52/100 [00:00<00:00, 126.50it/s, now=None]\u001b[A\n",
      "t:  64%|██████▍   | 64/100 [00:00<00:00, 124.23it/s, now=None]\u001b[A\n",
      "t:  77%|███████▋  | 77/100 [00:00<00:00, 123.45it/s, now=None]\u001b[A\n",
      "t:  90%|█████████ | 90/100 [00:00<00:00, 124.18it/s, now=None]\u001b[A\n",
      "Episode 2300:  11%|█▏        | 2300/20001 [23:28<2:50:42,  1.73it/s, episode_loss=tf.Tensor(17.80651, shape=(), dtype=float32), episode_reward=tf.Tensor(61.0, shape=(), dtype=float32)]   \n",
      "t:   0%|          | 0/100 [00:00<?, ?it/s, now=None]\u001b[A\n",
      "t:  14%|█▍        | 14/100 [00:00<00:00, 136.07it/s, now=None]\u001b[A"
     ]
    },
    {
     "name": "stdout",
     "output_type": "stream",
     "text": [
      "MoviePy - Building file keras_train_1006-182031/frames/train_2300.gif with imageio.\n"
     ]
    },
    {
     "name": "stderr",
     "output_type": "stream",
     "text": [
      "\n",
      "t:  26%|██▌       | 26/100 [00:00<00:00, 130.71it/s, now=None]\u001b[A\n",
      "t:  38%|███▊      | 38/100 [00:00<00:00, 126.62it/s, now=None]\u001b[A\n",
      "t:  51%|█████     | 51/100 [00:00<00:00, 124.81it/s, now=None]\u001b[A\n",
      "t:  64%|██████▍   | 64/100 [00:00<00:00, 124.51it/s, now=None]\u001b[A\n",
      "t:  77%|███████▋  | 77/100 [00:00<00:00, 123.68it/s, now=None]\u001b[A\n",
      "t:  90%|█████████ | 90/100 [00:00<00:00, 123.30it/s, now=None]\u001b[A\n",
      "Episode 2400:  12%|█▏        | 2400/20001 [24:26<2:44:21,  1.78it/s, episode_loss=tf.Tensor(4.700039, shape=(), dtype=float32), episode_reward=tf.Tensor(61.0, shape=(), dtype=float32)]  \n",
      "t:   0%|          | 0/100 [00:00<?, ?it/s, now=None]\u001b[A\n",
      "t:  14%|█▍        | 14/100 [00:00<00:00, 129.06it/s, now=None]\u001b[A"
     ]
    },
    {
     "name": "stdout",
     "output_type": "stream",
     "text": [
      "MoviePy - Building file keras_train_1006-182031/frames/train_2400.gif with imageio.\n"
     ]
    },
    {
     "name": "stderr",
     "output_type": "stream",
     "text": [
      "\n",
      "t:  26%|██▌       | 26/100 [00:00<00:00, 126.01it/s, now=None]\u001b[A\n",
      "t:  38%|███▊      | 38/100 [00:00<00:00, 123.86it/s, now=None]\u001b[A\n",
      "t:  51%|█████     | 51/100 [00:00<00:00, 123.81it/s, now=None]\u001b[A\n",
      "t:  63%|██████▎   | 63/100 [00:00<00:00, 122.58it/s, now=None]\u001b[A\n",
      "t:  75%|███████▌  | 75/100 [00:00<00:00, 121.79it/s, now=None]\u001b[A\n",
      "t:  88%|████████▊ | 88/100 [00:00<00:00, 121.62it/s, now=None]\u001b[A\n",
      "Episode 2500:  12%|█▏        | 2500/20001 [25:23<2:46:30,  1.75it/s, episode_loss=tf.Tensor(-12.69125, shape=(), dtype=float32), episode_reward=tf.Tensor(81.0, shape=(), dtype=float32)] \n",
      "t:   0%|          | 0/100 [00:00<?, ?it/s, now=None]\u001b[A\n",
      "t:  14%|█▍        | 14/100 [00:00<00:00, 134.24it/s, now=None]\u001b[A"
     ]
    },
    {
     "name": "stdout",
     "output_type": "stream",
     "text": [
      "MoviePy - Building file keras_train_1006-182031/frames/train_2500.gif with imageio.\n"
     ]
    },
    {
     "name": "stderr",
     "output_type": "stream",
     "text": [
      "\n",
      "t:  27%|██▋       | 27/100 [00:00<00:00, 129.82it/s, now=None]\u001b[A\n",
      "t:  39%|███▉      | 39/100 [00:00<00:00, 126.68it/s, now=None]\u001b[A\n",
      "t:  52%|█████▏    | 52/100 [00:00<00:00, 125.53it/s, now=None]\u001b[A\n",
      "t:  65%|██████▌   | 65/100 [00:00<00:00, 124.12it/s, now=None]\u001b[A\n",
      "t:  78%|███████▊  | 78/100 [00:00<00:00, 123.23it/s, now=None]\u001b[A\n",
      "t:  91%|█████████ | 91/100 [00:00<00:00, 123.79it/s, now=None]\u001b[A\n",
      "Episode 2600:  13%|█▎        | 2600/20001 [26:20<2:42:24,  1.79it/s, episode_loss=tf.Tensor(30.13145, shape=(), dtype=float32), episode_reward=tf.Tensor(76.0, shape=(), dtype=float32)]  \n",
      "t:   0%|          | 0/100 [00:00<?, ?it/s, now=None]\u001b[A\n",
      "t:  14%|█▍        | 14/100 [00:00<00:00, 129.69it/s, now=None]\u001b[A"
     ]
    },
    {
     "name": "stdout",
     "output_type": "stream",
     "text": [
      "MoviePy - Building file keras_train_1006-182031/frames/train_2600.gif with imageio.\n"
     ]
    },
    {
     "name": "stderr",
     "output_type": "stream",
     "text": [
      "\n",
      "t:  26%|██▌       | 26/100 [00:00<00:00, 126.27it/s, now=None]\u001b[A\n",
      "t:  38%|███▊      | 38/100 [00:00<00:00, 124.22it/s, now=None]\u001b[A\n",
      "t:  50%|█████     | 50/100 [00:00<00:00, 122.67it/s, now=None]\u001b[A\n",
      "t:  63%|██████▎   | 63/100 [00:00<00:00, 121.94it/s, now=None]\u001b[A\n",
      "t:  76%|███████▌  | 76/100 [00:00<00:00, 121.89it/s, now=None]\u001b[A\n",
      "t:  89%|████████▉ | 89/100 [00:00<00:00, 122.22it/s, now=None]\u001b[A\n",
      "Episode 2700:  13%|█▎        | 2700/20001 [27:18<2:44:07,  1.76it/s, episode_loss=tf.Tensor(-16.275545, shape=(), dtype=float32), episode_reward=tf.Tensor(17.0, shape=(), dtype=float32)] \n",
      "t:   0%|          | 0/100 [00:00<?, ?it/s, now=None]\u001b[A\n",
      "t:  14%|█▍        | 14/100 [00:00<00:00, 134.51it/s, now=None]\u001b[A"
     ]
    },
    {
     "name": "stdout",
     "output_type": "stream",
     "text": [
      "MoviePy - Building file keras_train_1006-182031/frames/train_2700.gif with imageio.\n"
     ]
    },
    {
     "name": "stderr",
     "output_type": "stream",
     "text": [
      "\n",
      "t:  26%|██▌       | 26/100 [00:00<00:00, 128.92it/s, now=None]\u001b[A\n",
      "t:  39%|███▉      | 39/100 [00:00<00:00, 126.51it/s, now=None]\u001b[A\n",
      "t:  52%|█████▏    | 52/100 [00:00<00:00, 125.30it/s, now=None]\u001b[A\n",
      "t:  65%|██████▌   | 65/100 [00:00<00:00, 124.43it/s, now=None]\u001b[A\n",
      "t:  77%|███████▋  | 77/100 [00:00<00:00, 122.79it/s, now=None]\u001b[A\n",
      "t:  89%|████████▉ | 89/100 [00:00<00:00, 121.87it/s, now=None]\u001b[A\n",
      "Episode 2800:  14%|█▍        | 2800/20001 [28:15<2:40:37,  1.78it/s, episode_loss=tf.Tensor(9.094043, shape=(), dtype=float32), episode_reward=tf.Tensor(73.0, shape=(), dtype=float32)]   \n",
      "t:   0%|          | 0/100 [00:00<?, ?it/s, now=None]\u001b[A\n",
      "t:  15%|█▌        | 15/100 [00:00<00:00, 142.48it/s, now=None]\u001b[A"
     ]
    },
    {
     "name": "stdout",
     "output_type": "stream",
     "text": [
      "MoviePy - Building file keras_train_1006-182031/frames/train_2800.gif with imageio.\n"
     ]
    },
    {
     "name": "stderr",
     "output_type": "stream",
     "text": [
      "\n",
      "t:  29%|██▉       | 29/100 [00:00<00:00, 138.92it/s, now=None]\u001b[A\n",
      "t:  43%|████▎     | 43/100 [00:00<00:00, 136.98it/s, now=None]\u001b[A\n",
      "t:  57%|█████▋    | 57/100 [00:00<00:00, 135.38it/s, now=None]\u001b[A\n",
      "t:  71%|███████   | 71/100 [00:00<00:00, 134.77it/s, now=None]\u001b[A\n",
      "t:  85%|████████▌ | 85/100 [00:00<00:00, 134.52it/s, now=None]\u001b[A\n",
      "t:  99%|█████████▉| 99/100 [00:00<00:00, 133.72it/s, now=None]\u001b[A\n",
      "Episode 2900:  14%|█▍        | 2900/20001 [29:12<2:38:33,  1.80it/s, episode_loss=tf.Tensor(-19.260893, shape=(), dtype=float32), episode_reward=tf.Tensor(48.0, shape=(), dtype=float32)] \n",
      "t:   0%|          | 0/100 [00:00<?, ?it/s, now=None]\u001b[A\n",
      "t:  13%|█▎        | 13/100 [00:00<00:00, 128.04it/s, now=None]\u001b[A"
     ]
    },
    {
     "name": "stdout",
     "output_type": "stream",
     "text": [
      "MoviePy - Building file keras_train_1006-182031/frames/train_2900.gif with imageio.\n"
     ]
    },
    {
     "name": "stderr",
     "output_type": "stream",
     "text": [
      "\n",
      "t:  25%|██▌       | 25/100 [00:00<00:00, 125.03it/s, now=None]\u001b[A\n",
      "t:  38%|███▊      | 38/100 [00:00<00:00, 124.43it/s, now=None]\u001b[A\n",
      "t:  50%|█████     | 50/100 [00:00<00:00, 122.87it/s, now=None]\u001b[A\n",
      "t:  63%|██████▎   | 63/100 [00:00<00:00, 123.24it/s, now=None]\u001b[A\n",
      "t:  76%|███████▌  | 76/100 [00:00<00:00, 123.48it/s, now=None]\u001b[A\n",
      "t:  88%|████████▊ | 88/100 [00:00<00:00, 122.15it/s, now=None]\u001b[A\n",
      "t: 100%|██████████| 100/100 [00:00<00:00, 121.17it/s, now=None]\u001b[A\n",
      "Episode 3000:  15%|█▍        | 3000/20001 [30:09<2:41:41,  1.75it/s, episode_loss=tf.Tensor(19.379875, shape=(), dtype=float32), episode_reward=tf.Tensor(78.0, shape=(), dtype=float32)] \n",
      "t:   0%|          | 0/100 [00:00<?, ?it/s, now=None]\u001b[A\n",
      "t:  14%|█▍        | 14/100 [00:00<00:00, 131.03it/s, now=None]\u001b[A"
     ]
    },
    {
     "name": "stdout",
     "output_type": "stream",
     "text": [
      "MoviePy - Building file keras_train_1006-182031/frames/train_3000.gif with imageio.\n"
     ]
    },
    {
     "name": "stderr",
     "output_type": "stream",
     "text": [
      "\n",
      "t:  27%|██▋       | 27/100 [00:00<00:00, 127.79it/s, now=None]\u001b[A\n",
      "t:  39%|███▉      | 39/100 [00:00<00:00, 124.70it/s, now=None]\u001b[A\n",
      "t:  52%|█████▏    | 52/100 [00:00<00:00, 124.37it/s, now=None]\u001b[A\n",
      "t:  65%|██████▌   | 65/100 [00:00<00:00, 124.38it/s, now=None]\u001b[A\n",
      "t:  77%|███████▋  | 77/100 [00:00<00:00, 122.80it/s, now=None]\u001b[A\n",
      "t:  90%|█████████ | 90/100 [00:00<00:00, 122.29it/s, now=None]\u001b[A\n",
      "Episode 3100:  15%|█▌        | 3100/20001 [31:06<2:36:27,  1.80it/s, episode_loss=tf.Tensor(-9.545786, shape=(), dtype=float32), episode_reward=tf.Tensor(44.0, shape=(), dtype=float32)] \n",
      "t:   0%|          | 0/100 [00:00<?, ?it/s, now=None]\u001b[A\n",
      "t:  13%|█▎        | 13/100 [00:00<00:00, 127.20it/s, now=None]\u001b[A"
     ]
    },
    {
     "name": "stdout",
     "output_type": "stream",
     "text": [
      "MoviePy - Building file keras_train_1006-182031/frames/train_3100.gif with imageio.\n"
     ]
    },
    {
     "name": "stderr",
     "output_type": "stream",
     "text": [
      "\n",
      "t:  25%|██▌       | 25/100 [00:00<00:00, 123.84it/s, now=None]\u001b[A\n",
      "t:  37%|███▋      | 37/100 [00:00<00:00, 122.44it/s, now=None]\u001b[A\n",
      "t:  49%|████▉     | 49/100 [00:00<00:00, 121.22it/s, now=None]\u001b[A\n",
      "t:  61%|██████    | 61/100 [00:00<00:00, 120.66it/s, now=None]\u001b[A\n",
      "t:  73%|███████▎  | 73/100 [00:00<00:00, 120.06it/s, now=None]\u001b[A\n",
      "t:  85%|████████▌ | 85/100 [00:00<00:00, 119.70it/s, now=None]\u001b[A\n",
      "t:  97%|█████████▋| 97/100 [00:00<00:00, 119.17it/s, now=None]\u001b[A\n",
      "Episode 3200:  16%|█▌        | 3200/20001 [32:03<2:36:35,  1.79it/s, episode_loss=tf.Tensor(9.385166, shape=(), dtype=float32), episode_reward=tf.Tensor(75.0, shape=(), dtype=float32)]   \n",
      "t:   0%|          | 0/100 [00:00<?, ?it/s, now=None]\u001b[A\n",
      "t:  14%|█▍        | 14/100 [00:00<00:00, 133.86it/s, now=None]\u001b[A"
     ]
    },
    {
     "name": "stdout",
     "output_type": "stream",
     "text": [
      "MoviePy - Building file keras_train_1006-182031/frames/train_3200.gif with imageio.\n"
     ]
    },
    {
     "name": "stderr",
     "output_type": "stream",
     "text": [
      "\n",
      "t:  26%|██▌       | 26/100 [00:00<00:00, 128.15it/s, now=None]\u001b[A\n",
      "t:  38%|███▊      | 38/100 [00:00<00:00, 125.00it/s, now=None]\u001b[A\n",
      "t:  51%|█████     | 51/100 [00:00<00:00, 124.29it/s, now=None]\u001b[A\n",
      "t:  63%|██████▎   | 63/100 [00:00<00:00, 122.61it/s, now=None]\u001b[A\n",
      "t:  75%|███████▌  | 75/100 [00:00<00:00, 121.30it/s, now=None]\u001b[A\n",
      "t:  87%|████████▋ | 87/100 [00:00<00:00, 120.24it/s, now=None]\u001b[A\n",
      "t:  99%|█████████▉| 99/100 [00:00<00:00, 119.89it/s, now=None]\u001b[A\n",
      "Episode 3300:  16%|█▋        | 3300/20001 [33:04<3:22:35,  1.37it/s, episode_loss=tf.Tensor(6.6719394, shape=(), dtype=float32), episode_reward=tf.Tensor(87.0, shape=(), dtype=float32)]  \n",
      "t:   0%|          | 0/100 [00:00<?, ?it/s, now=None]\u001b[A\n",
      "t:  14%|█▍        | 14/100 [00:00<00:00, 133.32it/s, now=None]\u001b[A"
     ]
    },
    {
     "name": "stdout",
     "output_type": "stream",
     "text": [
      "MoviePy - Building file keras_train_1006-182031/frames/train_3300.gif with imageio.\n"
     ]
    },
    {
     "name": "stderr",
     "output_type": "stream",
     "text": [
      "\n",
      "t:  27%|██▋       | 27/100 [00:00<00:00, 130.01it/s, now=None]\u001b[A\n",
      "t:  40%|████      | 40/100 [00:00<00:00, 127.34it/s, now=None]\u001b[A\n",
      "t:  53%|█████▎    | 53/100 [00:00<00:00, 125.85it/s, now=None]\u001b[A\n",
      "t:  66%|██████▌   | 66/100 [00:00<00:00, 124.60it/s, now=None]\u001b[A\n",
      "t:  79%|███████▉  | 79/100 [00:00<00:00, 124.53it/s, now=None]\u001b[A\n",
      "t:  92%|█████████▏| 92/100 [00:00<00:00, 123.92it/s, now=None]\u001b[A\n",
      "Episode 3400:  17%|█▋        | 3400/20001 [34:09<3:08:40,  1.47it/s, episode_loss=tf.Tensor(0.6031523, shape=(), dtype=float32), episode_reward=tf.Tensor(54.0, shape=(), dtype=float32)] \n",
      "t:   0%|          | 0/100 [00:00<?, ?it/s, now=None]\u001b[A\n",
      "t:  14%|█▍        | 14/100 [00:00<00:00, 131.20it/s, now=None]\u001b[A"
     ]
    },
    {
     "name": "stdout",
     "output_type": "stream",
     "text": [
      "MoviePy - Building file keras_train_1006-182031/frames/train_3400.gif with imageio.\n"
     ]
    },
    {
     "name": "stderr",
     "output_type": "stream",
     "text": [
      "\n",
      "t:  26%|██▌       | 26/100 [00:00<00:00, 126.86it/s, now=None]\u001b[A\n",
      "t:  39%|███▉      | 39/100 [00:00<00:00, 125.65it/s, now=None]\u001b[A\n",
      "t:  51%|█████     | 51/100 [00:00<00:00, 123.64it/s, now=None]\u001b[A\n",
      "t:  63%|██████▎   | 63/100 [00:00<00:00, 122.08it/s, now=None]\u001b[A\n",
      "t:  75%|███████▌  | 75/100 [00:00<00:00, 120.85it/s, now=None]\u001b[A\n",
      "t:  87%|████████▋ | 87/100 [00:00<00:00, 118.92it/s, now=None]\u001b[A\n",
      "t: 100%|██████████| 100/100 [00:00<00:00, 119.89it/s, now=None]\u001b[A\n",
      "Episode 3500:  17%|█▋        | 3500/20001 [35:11<2:59:29,  1.53it/s, episode_loss=tf.Tensor(9.4526415, shape=(), dtype=float32), episode_reward=tf.Tensor(45.0, shape=(), dtype=float32)]  \n",
      "t:   0%|          | 0/100 [00:00<?, ?it/s, now=None]\u001b[A\n",
      "t:  13%|█▎        | 13/100 [00:00<00:00, 124.99it/s, now=None]\u001b[A"
     ]
    },
    {
     "name": "stdout",
     "output_type": "stream",
     "text": [
      "MoviePy - Building file keras_train_1006-182031/frames/train_3500.gif with imageio.\n"
     ]
    },
    {
     "name": "stderr",
     "output_type": "stream",
     "text": [
      "\n",
      "t:  24%|██▍       | 24/100 [00:00<00:00, 119.44it/s, now=None]\u001b[A\n",
      "t:  36%|███▌      | 36/100 [00:00<00:00, 117.69it/s, now=None]\u001b[A\n",
      "t:  48%|████▊     | 48/100 [00:00<00:00, 117.09it/s, now=None]\u001b[A\n",
      "t:  60%|██████    | 60/100 [00:00<00:00, 115.23it/s, now=None]\u001b[A\n",
      "t:  72%|███████▏  | 72/100 [00:00<00:00, 114.23it/s, now=None]\u001b[A\n",
      "t:  84%|████████▍ | 84/100 [00:00<00:00, 114.28it/s, now=None]\u001b[A\n",
      "t:  96%|█████████▌| 96/100 [00:00<00:00, 113.77it/s, now=None]\u001b[A\n",
      "Episode 3600:  18%|█▊        | 3600/20001 [36:21<2:39:20,  1.72it/s, episode_loss=tf.Tensor(11.653263, shape=(), dtype=float32), episode_reward=tf.Tensor(76.0, shape=(), dtype=float32)]  \n",
      "t:   0%|          | 0/100 [00:00<?, ?it/s, now=None]\u001b[A\n",
      "t:  14%|█▍        | 14/100 [00:00<00:00, 133.22it/s, now=None]\u001b[A"
     ]
    },
    {
     "name": "stdout",
     "output_type": "stream",
     "text": [
      "MoviePy - Building file keras_train_1006-182031/frames/train_3600.gif with imageio.\n"
     ]
    },
    {
     "name": "stderr",
     "output_type": "stream",
     "text": [
      "\n",
      "t:  27%|██▋       | 27/100 [00:00<00:00, 130.26it/s, now=None]\u001b[A\n",
      "t:  40%|████      | 40/100 [00:00<00:00, 128.05it/s, now=None]\u001b[A\n",
      "t:  53%|█████▎    | 53/100 [00:00<00:00, 126.53it/s, now=None]\u001b[A\n",
      "t:  66%|██████▌   | 66/100 [00:00<00:00, 126.42it/s, now=None]\u001b[A\n",
      "t:  79%|███████▉  | 79/100 [00:00<00:00, 127.20it/s, now=None]\u001b[A\n",
      "t:  92%|█████████▏| 92/100 [00:00<00:00, 125.99it/s, now=None]\u001b[A\n",
      "Episode 3700:  18%|█▊        | 3700/20001 [37:32<3:20:23,  1.36it/s, episode_loss=tf.Tensor(4.777978, shape=(), dtype=float32), episode_reward=tf.Tensor(8.0, shape=(), dtype=float32)]   \n",
      "t:   0%|          | 0/100 [00:00<?, ?it/s, now=None]\u001b[A\n",
      "t:   9%|▉         | 9/100 [00:00<00:01, 82.23it/s, now=None]\u001b[A"
     ]
    },
    {
     "name": "stdout",
     "output_type": "stream",
     "text": [
      "MoviePy - Building file keras_train_1006-182031/frames/train_3700.gif with imageio.\n"
     ]
    },
    {
     "name": "stderr",
     "output_type": "stream",
     "text": [
      "\n",
      "t:  18%|█▊        | 18/100 [00:00<00:00, 84.20it/s, now=None]\u001b[A\n",
      "t:  27%|██▋       | 27/100 [00:00<00:00, 85.53it/s, now=None]\u001b[A\n",
      "t:  36%|███▌      | 36/100 [00:00<00:00, 86.54it/s, now=None]\u001b[A\n",
      "t:  45%|████▌     | 45/100 [00:00<00:00, 87.15it/s, now=None]\u001b[A\n",
      "t:  56%|█████▌    | 56/100 [00:00<00:00, 91.52it/s, now=None]\u001b[A\n",
      "t:  69%|██████▉   | 69/100 [00:00<00:00, 98.99it/s, now=None]\u001b[A\n",
      "t:  82%|████████▏ | 82/100 [00:00<00:00, 105.38it/s, now=None]\u001b[A\n",
      "t:  95%|█████████▌| 95/100 [00:00<00:00, 111.03it/s, now=None]\u001b[A\n",
      "Episode 3800:  19%|█▉        | 3800/20001 [38:33<2:43:14,  1.65it/s, episode_loss=tf.Tensor(-4.7375984, shape=(), dtype=float32), episode_reward=tf.Tensor(49.0, shape=(), dtype=float32)] \n",
      "t:   0%|          | 0/100 [00:00<?, ?it/s, now=None]\u001b[A\n",
      "t:  13%|█▎        | 13/100 [00:00<00:00, 129.44it/s, now=None]\u001b[A"
     ]
    },
    {
     "name": "stdout",
     "output_type": "stream",
     "text": [
      "MoviePy - Building file keras_train_1006-182031/frames/train_3800.gif with imageio.\n"
     ]
    },
    {
     "name": "stderr",
     "output_type": "stream",
     "text": [
      "\n",
      "t:  25%|██▌       | 25/100 [00:00<00:00, 123.30it/s, now=None]\u001b[A\n",
      "t:  37%|███▋      | 37/100 [00:00<00:00, 119.58it/s, now=None]\u001b[A\n",
      "t:  50%|█████     | 50/100 [00:00<00:00, 120.32it/s, now=None]\u001b[A\n",
      "t:  62%|██████▏   | 62/100 [00:00<00:00, 118.13it/s, now=None]\u001b[A\n",
      "t:  74%|███████▍  | 74/100 [00:00<00:00, 115.83it/s, now=None]\u001b[A\n",
      "t:  86%|████████▌ | 86/100 [00:00<00:00, 114.83it/s, now=None]\u001b[A\n",
      "t:  98%|█████████▊| 98/100 [00:00<00:00, 113.93it/s, now=None]\u001b[A\n",
      "Episode 3900:  19%|█▉        | 3900/20001 [39:34<2:45:46,  1.62it/s, episode_loss=tf.Tensor(10.350242, shape=(), dtype=float32), episode_reward=tf.Tensor(89.0, shape=(), dtype=float32)] \n",
      "t:   0%|          | 0/100 [00:00<?, ?it/s, now=None]\u001b[A\n",
      "t:  13%|█▎        | 13/100 [00:00<00:00, 129.75it/s, now=None]\u001b[A"
     ]
    },
    {
     "name": "stdout",
     "output_type": "stream",
     "text": [
      "MoviePy - Building file keras_train_1006-182031/frames/train_3900.gif with imageio.\n"
     ]
    },
    {
     "name": "stderr",
     "output_type": "stream",
     "text": [
      "\n",
      "t:  25%|██▌       | 25/100 [00:00<00:00, 126.15it/s, now=None]\u001b[A\n",
      "t:  37%|███▋      | 37/100 [00:00<00:00, 122.43it/s, now=None]\u001b[A\n",
      "t:  49%|████▉     | 49/100 [00:00<00:00, 118.69it/s, now=None]\u001b[A\n",
      "t:  61%|██████    | 61/100 [00:00<00:00, 117.83it/s, now=None]\u001b[A\n",
      "t:  73%|███████▎  | 73/100 [00:00<00:00, 117.19it/s, now=None]\u001b[A\n",
      "t:  85%|████████▌ | 85/100 [00:00<00:00, 117.25it/s, now=None]\u001b[A\n",
      "t:  96%|█████████▌| 96/100 [00:00<00:00, 103.07it/s, now=None]\u001b[A\n",
      "Episode 4000:  20%|█▉        | 4000/20001 [40:36<2:53:54,  1.53it/s, episode_loss=tf.Tensor(8.609449, shape=(), dtype=float32), episode_reward=tf.Tensor(62.0, shape=(), dtype=float32)]   \n",
      "t:   0%|          | 0/100 [00:00<?, ?it/s, now=None]\u001b[A\n",
      "t:  13%|█▎        | 13/100 [00:00<00:00, 124.25it/s, now=None]\u001b[A"
     ]
    },
    {
     "name": "stdout",
     "output_type": "stream",
     "text": [
      "MoviePy - Building file keras_train_1006-182031/frames/train_4000.gif with imageio.\n"
     ]
    },
    {
     "name": "stderr",
     "output_type": "stream",
     "text": [
      "\n",
      "t:  25%|██▌       | 25/100 [00:00<00:00, 121.15it/s, now=None]\u001b[A\n",
      "t:  37%|███▋      | 37/100 [00:00<00:00, 118.98it/s, now=None]\u001b[A\n",
      "t:  49%|████▉     | 49/100 [00:00<00:00, 116.98it/s, now=None]\u001b[A\n",
      "t:  61%|██████    | 61/100 [00:00<00:00, 117.03it/s, now=None]\u001b[A\n",
      "t:  73%|███████▎  | 73/100 [00:00<00:00, 116.62it/s, now=None]\u001b[A\n",
      "t:  85%|████████▌ | 85/100 [00:00<00:00, 116.52it/s, now=None]\u001b[A\n",
      "t:  97%|█████████▋| 97/100 [00:00<00:00, 116.90it/s, now=None]\u001b[A\n",
      "Episode 4100:  20%|██        | 4100/20001 [41:35<2:37:29,  1.68it/s, episode_loss=tf.Tensor(6.5022526, shape=(), dtype=float32), episode_reward=tf.Tensor(40.0, shape=(), dtype=float32)]  \n",
      "t:   0%|          | 0/100 [00:00<?, ?it/s, now=None]\u001b[A\n",
      "t:  14%|█▍        | 14/100 [00:00<00:00, 136.20it/s, now=None]\u001b[A"
     ]
    },
    {
     "name": "stdout",
     "output_type": "stream",
     "text": [
      "MoviePy - Building file keras_train_1006-182031/frames/train_4100.gif with imageio.\n"
     ]
    },
    {
     "name": "stderr",
     "output_type": "stream",
     "text": [
      "\n",
      "t:  27%|██▋       | 27/100 [00:00<00:00, 131.71it/s, now=None]\u001b[A\n",
      "t:  40%|████      | 40/100 [00:00<00:00, 128.32it/s, now=None]\u001b[A\n",
      "t:  52%|█████▏    | 52/100 [00:00<00:00, 121.87it/s, now=None]\u001b[A\n",
      "t:  62%|██████▏   | 62/100 [00:00<00:00, 100.59it/s, now=None]\u001b[A\n",
      "t:  71%|███████   | 71/100 [00:00<00:00, 95.76it/s, now=None] \u001b[A\n",
      "t:  83%|████████▎ | 83/100 [00:00<00:00, 101.66it/s, now=None]\u001b[A\n",
      "t:  96%|█████████▌| 96/100 [00:00<00:00, 107.04it/s, now=None]\u001b[A\n",
      "Episode 4200:  21%|██        | 4200/20001 [42:37<2:32:36,  1.73it/s, episode_loss=tf.Tensor(14.194963, shape=(), dtype=float32), episode_reward=tf.Tensor(47.0, shape=(), dtype=float32)]  \n",
      "t:   0%|          | 0/100 [00:00<?, ?it/s, now=None]\u001b[A\n",
      "t:  13%|█▎        | 13/100 [00:00<00:00, 128.84it/s, now=None]\u001b[A"
     ]
    },
    {
     "name": "stdout",
     "output_type": "stream",
     "text": [
      "MoviePy - Building file keras_train_1006-182031/frames/train_4200.gif with imageio.\n"
     ]
    },
    {
     "name": "stderr",
     "output_type": "stream",
     "text": [
      "\n",
      "t:  25%|██▌       | 25/100 [00:00<00:00, 124.28it/s, now=None]\u001b[A\n",
      "t:  37%|███▋      | 37/100 [00:00<00:00, 120.79it/s, now=None]\u001b[A\n",
      "t:  49%|████▉     | 49/100 [00:00<00:00, 119.92it/s, now=None]\u001b[A\n",
      "t:  62%|██████▏   | 62/100 [00:00<00:00, 120.20it/s, now=None]\u001b[A\n",
      "t:  74%|███████▍  | 74/100 [00:00<00:00, 119.96it/s, now=None]\u001b[A\n",
      "t:  86%|████████▌ | 86/100 [00:00<00:00, 119.68it/s, now=None]\u001b[A\n",
      "t:  98%|█████████▊| 98/100 [00:00<00:00, 119.49it/s, now=None]\u001b[A\n",
      "Episode 4300:  21%|██▏       | 4300/20001 [43:36<2:32:10,  1.72it/s, episode_loss=tf.Tensor(0.5113411, shape=(), dtype=float32), episode_reward=tf.Tensor(29.0, shape=(), dtype=float32)]  \n",
      "t:   0%|          | 0/100 [00:00<?, ?it/s, now=None]\u001b[A\n",
      "t:  14%|█▍        | 14/100 [00:00<00:00, 130.57it/s, now=None]\u001b[A"
     ]
    },
    {
     "name": "stdout",
     "output_type": "stream",
     "text": [
      "MoviePy - Building file keras_train_1006-182031/frames/train_4300.gif with imageio.\n"
     ]
    },
    {
     "name": "stderr",
     "output_type": "stream",
     "text": [
      "\n",
      "t:  26%|██▌       | 26/100 [00:00<00:00, 126.89it/s, now=None]\u001b[A\n",
      "t:  39%|███▉      | 39/100 [00:00<00:00, 125.76it/s, now=None]\u001b[A\n",
      "t:  52%|█████▏    | 52/100 [00:00<00:00, 124.30it/s, now=None]\u001b[A\n",
      "t:  64%|██████▍   | 64/100 [00:00<00:00, 122.55it/s, now=None]\u001b[A\n",
      "t:  76%|███████▌  | 76/100 [00:00<00:00, 121.38it/s, now=None]\u001b[A\n",
      "t:  88%|████████▊ | 88/100 [00:00<00:00, 120.66it/s, now=None]\u001b[A\n",
      "t: 100%|██████████| 100/100 [00:00<00:00, 119.31it/s, now=None]\u001b[A\n",
      "Episode 4400:  22%|██▏       | 4400/20001 [44:36<2:36:16,  1.66it/s, episode_loss=tf.Tensor(11.339065, shape=(), dtype=float32), episode_reward=tf.Tensor(78.0, shape=(), dtype=float32)]  \n",
      "t:   0%|          | 0/100 [00:00<?, ?it/s, now=None]\u001b[A\n",
      "t:  15%|█▌        | 15/100 [00:00<00:00, 146.19it/s, now=None]\u001b[A"
     ]
    },
    {
     "name": "stdout",
     "output_type": "stream",
     "text": [
      "MoviePy - Building file keras_train_1006-182031/frames/train_4400.gif with imageio.\n"
     ]
    },
    {
     "name": "stderr",
     "output_type": "stream",
     "text": [
      "\n",
      "t:  28%|██▊       | 28/100 [00:00<00:00, 140.16it/s, now=None]\u001b[A\n",
      "t:  42%|████▏     | 42/100 [00:00<00:00, 137.69it/s, now=None]\u001b[A\n",
      "t:  56%|█████▌    | 56/100 [00:00<00:00, 135.80it/s, now=None]\u001b[A\n",
      "t:  70%|███████   | 70/100 [00:00<00:00, 135.40it/s, now=None]\u001b[A\n",
      "t:  84%|████████▍ | 84/100 [00:00<00:00, 135.06it/s, now=None]\u001b[A\n",
      "t:  98%|█████████▊| 98/100 [00:00<00:00, 134.04it/s, now=None]\u001b[A\n",
      "Episode 4500:  22%|██▏       | 4500/20001 [45:35<2:29:25,  1.73it/s, episode_loss=tf.Tensor(-17.97211, shape=(), dtype=float32), episode_reward=tf.Tensor(49.0, shape=(), dtype=float32)]  \n",
      "t:   0%|          | 0/100 [00:00<?, ?it/s, now=None]\u001b[A\n",
      "t:  13%|█▎        | 13/100 [00:00<00:00, 126.61it/s, now=None]\u001b[A"
     ]
    },
    {
     "name": "stdout",
     "output_type": "stream",
     "text": [
      "MoviePy - Building file keras_train_1006-182031/frames/train_4500.gif with imageio.\n"
     ]
    },
    {
     "name": "stderr",
     "output_type": "stream",
     "text": [
      "\n",
      "t:  25%|██▌       | 25/100 [00:00<00:00, 122.43it/s, now=None]\u001b[A\n",
      "t:  37%|███▋      | 37/100 [00:00<00:00, 121.39it/s, now=None]\u001b[A\n",
      "t:  50%|█████     | 50/100 [00:00<00:00, 121.32it/s, now=None]\u001b[A\n",
      "t:  63%|██████▎   | 63/100 [00:00<00:00, 121.68it/s, now=None]\u001b[A\n",
      "t:  76%|███████▌  | 76/100 [00:00<00:00, 122.38it/s, now=None]\u001b[A\n",
      "t:  88%|████████▊ | 88/100 [00:00<00:00, 121.24it/s, now=None]\u001b[A\n",
      "Episode 4600:  23%|██▎       | 4600/20001 [46:34<2:28:34,  1.73it/s, episode_loss=tf.Tensor(5.197236, shape=(), dtype=float32), episode_reward=tf.Tensor(89.0, shape=(), dtype=float32)]  \n",
      "t:   0%|          | 0/100 [00:00<?, ?it/s, now=None]\u001b[A\n",
      "t:  14%|█▍        | 14/100 [00:00<00:00, 130.76it/s, now=None]\u001b[A"
     ]
    },
    {
     "name": "stdout",
     "output_type": "stream",
     "text": [
      "MoviePy - Building file keras_train_1006-182031/frames/train_4600.gif with imageio.\n"
     ]
    },
    {
     "name": "stderr",
     "output_type": "stream",
     "text": [
      "\n",
      "t:  26%|██▌       | 26/100 [00:00<00:00, 126.56it/s, now=None]\u001b[A\n",
      "t:  38%|███▊      | 38/100 [00:00<00:00, 124.26it/s, now=None]\u001b[A\n",
      "t:  50%|█████     | 50/100 [00:00<00:00, 122.59it/s, now=None]\u001b[A\n",
      "t:  62%|██████▏   | 62/100 [00:00<00:00, 121.58it/s, now=None]\u001b[A\n",
      "t:  74%|███████▍  | 74/100 [00:00<00:00, 120.78it/s, now=None]\u001b[A\n",
      "t:  86%|████████▌ | 86/100 [00:00<00:00, 120.29it/s, now=None]\u001b[A\n",
      "t:  99%|█████████▉| 99/100 [00:00<00:00, 120.80it/s, now=None]\u001b[A\n",
      "Episode 4700:  23%|██▎       | 4700/20001 [47:33<2:27:34,  1.73it/s, episode_loss=tf.Tensor(6.9607725, shape=(), dtype=float32), episode_reward=tf.Tensor(70.0, shape=(), dtype=float32)] \n",
      "t:   0%|          | 0/100 [00:00<?, ?it/s, now=None]\u001b[A\n",
      "t:  14%|█▍        | 14/100 [00:00<00:00, 130.51it/s, now=None]\u001b[A"
     ]
    },
    {
     "name": "stdout",
     "output_type": "stream",
     "text": [
      "MoviePy - Building file keras_train_1006-182031/frames/train_4700.gif with imageio.\n"
     ]
    },
    {
     "name": "stderr",
     "output_type": "stream",
     "text": [
      "\n",
      "t:  26%|██▌       | 26/100 [00:00<00:00, 126.70it/s, now=None]\u001b[A\n",
      "t:  39%|███▉      | 39/100 [00:00<00:00, 125.44it/s, now=None]\u001b[A\n",
      "t:  51%|█████     | 51/100 [00:00<00:00, 123.47it/s, now=None]\u001b[A\n",
      "t:  63%|██████▎   | 63/100 [00:00<00:00, 121.96it/s, now=None]\u001b[A\n",
      "t:  75%|███████▌  | 75/100 [00:00<00:00, 120.89it/s, now=None]\u001b[A\n",
      "t:  87%|████████▋ | 87/100 [00:00<00:00, 120.53it/s, now=None]\u001b[A\n",
      "t: 100%|██████████| 100/100 [00:00<00:00, 120.52it/s, now=None]\u001b[A\n",
      "Episode 4800:  24%|██▍       | 4800/20001 [48:33<2:29:35,  1.69it/s, episode_loss=tf.Tensor(8.031017, shape=(), dtype=float32), episode_reward=tf.Tensor(90.0, shape=(), dtype=float32)]  \n",
      "t:   0%|          | 0/100 [00:00<?, ?it/s, now=None]\u001b[A\n",
      "t:  14%|█▍        | 14/100 [00:00<00:00, 129.52it/s, now=None]\u001b[A"
     ]
    },
    {
     "name": "stdout",
     "output_type": "stream",
     "text": [
      "MoviePy - Building file keras_train_1006-182031/frames/train_4800.gif with imageio.\n"
     ]
    },
    {
     "name": "stderr",
     "output_type": "stream",
     "text": [
      "\n",
      "t:  26%|██▌       | 26/100 [00:00<00:00, 125.81it/s, now=None]\u001b[A\n",
      "t:  38%|███▊      | 38/100 [00:00<00:00, 123.67it/s, now=None]\u001b[A\n",
      "t:  50%|█████     | 50/100 [00:00<00:00, 122.36it/s, now=None]\u001b[A\n",
      "t:  62%|██████▏   | 62/100 [00:00<00:00, 121.17it/s, now=None]\u001b[A\n",
      "t:  74%|███████▍  | 74/100 [00:00<00:00, 120.81it/s, now=None]\u001b[A\n",
      "t:  86%|████████▌ | 86/100 [00:00<00:00, 120.11it/s, now=None]\u001b[A\n",
      "t:  99%|█████████▉| 99/100 [00:00<00:00, 120.46it/s, now=None]\u001b[A\n",
      "Episode 4900:  24%|██▍       | 4900/20001 [49:32<2:25:24,  1.73it/s, episode_loss=tf.Tensor(13.941233, shape=(), dtype=float32), episode_reward=tf.Tensor(87.0, shape=(), dtype=float32)] \n",
      "t:   0%|          | 0/100 [00:00<?, ?it/s, now=None]\u001b[A\n",
      "t:  14%|█▍        | 14/100 [00:00<00:00, 133.84it/s, now=None]\u001b[A"
     ]
    },
    {
     "name": "stdout",
     "output_type": "stream",
     "text": [
      "MoviePy - Building file keras_train_1006-182031/frames/train_4900.gif with imageio.\n"
     ]
    },
    {
     "name": "stderr",
     "output_type": "stream",
     "text": [
      "\n",
      "t:  26%|██▌       | 26/100 [00:00<00:00, 128.35it/s, now=None]\u001b[A\n",
      "t:  39%|███▉      | 39/100 [00:00<00:00, 126.49it/s, now=None]\u001b[A\n",
      "t:  51%|█████     | 51/100 [00:00<00:00, 124.44it/s, now=None]\u001b[A\n",
      "t:  64%|██████▍   | 64/100 [00:00<00:00, 123.30it/s, now=None]\u001b[A\n",
      "t:  77%|███████▋  | 77/100 [00:00<00:00, 122.63it/s, now=None]\u001b[A\n",
      "t:  89%|████████▉ | 89/100 [00:00<00:00, 121.80it/s, now=None]\u001b[A\n",
      "Episode 5000:  25%|██▍       | 5000/20001 [50:31<2:24:35,  1.73it/s, episode_loss=tf.Tensor(6.4007225, shape=(), dtype=float32), episode_reward=tf.Tensor(3.0, shape=(), dtype=float32)]  \n",
      "t:   0%|          | 0/100 [00:00<?, ?it/s, now=None]\u001b[A\n",
      "t:  14%|█▍        | 14/100 [00:00<00:00, 130.88it/s, now=None]\u001b[A"
     ]
    },
    {
     "name": "stdout",
     "output_type": "stream",
     "text": [
      "MoviePy - Building file keras_train_1006-182031/frames/train_5000.gif with imageio.\n"
     ]
    },
    {
     "name": "stderr",
     "output_type": "stream",
     "text": [
      "\n",
      "t:  26%|██▌       | 26/100 [00:00<00:00, 126.72it/s, now=None]\u001b[A\n",
      "t:  39%|███▉      | 39/100 [00:00<00:00, 125.15it/s, now=None]\u001b[A\n",
      "t:  52%|█████▏    | 52/100 [00:00<00:00, 124.13it/s, now=None]\u001b[A\n",
      "t:  64%|██████▍   | 64/100 [00:00<00:00, 122.70it/s, now=None]\u001b[A\n",
      "t:  76%|███████▌  | 76/100 [00:00<00:00, 121.05it/s, now=None]\u001b[A\n",
      "t:  88%|████████▊ | 88/100 [00:00<00:00, 120.00it/s, now=None]\u001b[A\n",
      "t: 100%|██████████| 100/100 [00:00<00:00, 119.03it/s, now=None]\u001b[A\n",
      "Episode 5100:  25%|██▌       | 5100/20001 [51:30<2:28:10,  1.68it/s, episode_loss=tf.Tensor(8.401404, shape=(), dtype=float32), episode_reward=tf.Tensor(22.0, shape=(), dtype=float32)]  \n",
      "t:   0%|          | 0/100 [00:00<?, ?it/s, now=None]\u001b[A\n",
      "t:  14%|█▍        | 14/100 [00:00<00:00, 130.28it/s, now=None]\u001b[A"
     ]
    },
    {
     "name": "stdout",
     "output_type": "stream",
     "text": [
      "MoviePy - Building file keras_train_1006-182031/frames/train_5100.gif with imageio.\n"
     ]
    },
    {
     "name": "stderr",
     "output_type": "stream",
     "text": [
      "\n",
      "t:  26%|██▌       | 26/100 [00:00<00:00, 126.55it/s, now=None]\u001b[A\n",
      "t:  38%|███▊      | 38/100 [00:00<00:00, 124.24it/s, now=None]\u001b[A\n",
      "t:  50%|█████     | 50/100 [00:00<00:00, 122.52it/s, now=None]\u001b[A\n",
      "t:  62%|██████▏   | 62/100 [00:00<00:00, 121.72it/s, now=None]\u001b[A\n",
      "t:  74%|███████▍  | 74/100 [00:00<00:00, 120.90it/s, now=None]\u001b[A\n",
      "t:  86%|████████▌ | 86/100 [00:00<00:00, 120.26it/s, now=None]\u001b[A\n",
      "t:  98%|█████████▊| 98/100 [00:00<00:00, 120.14it/s, now=None]\u001b[A\n",
      "Episode 5200:  26%|██▌       | 5200/20001 [52:30<2:27:35,  1.67it/s, episode_loss=tf.Tensor(10.763236, shape=(), dtype=float32), episode_reward=tf.Tensor(93.0, shape=(), dtype=float32)]  \n",
      "t:   0%|          | 0/100 [00:00<?, ?it/s, now=None]\u001b[A\n",
      "t:  12%|█▏        | 12/100 [00:00<00:00, 112.29it/s, now=None]\u001b[A"
     ]
    },
    {
     "name": "stdout",
     "output_type": "stream",
     "text": [
      "MoviePy - Building file keras_train_1006-182031/frames/train_5200.gif with imageio.\n"
     ]
    },
    {
     "name": "stderr",
     "output_type": "stream",
     "text": [
      "\n",
      "t:  23%|██▎       | 23/100 [00:00<00:00, 109.56it/s, now=None]\u001b[A\n",
      "t:  34%|███▍      | 34/100 [00:00<00:00, 109.28it/s, now=None]\u001b[A\n",
      "t:  45%|████▌     | 45/100 [00:00<00:00, 109.43it/s, now=None]\u001b[A\n",
      "t:  57%|█████▋    | 57/100 [00:00<00:00, 110.03it/s, now=None]\u001b[A\n",
      "t:  69%|██████▉   | 69/100 [00:00<00:00, 110.45it/s, now=None]\u001b[A\n",
      "t:  81%|████████  | 81/100 [00:00<00:00, 111.34it/s, now=None]\u001b[A\n",
      "t:  93%|█████████▎| 93/100 [00:00<00:00, 111.54it/s, now=None]\u001b[A\n",
      "Episode 5300:  26%|██▋       | 5300/20001 [53:34<2:21:34,  1.73it/s, episode_loss=tf.Tensor(6.8465557, shape=(), dtype=float32), episode_reward=tf.Tensor(92.0, shape=(), dtype=float32)] \n",
      "t:   0%|          | 0/100 [00:00<?, ?it/s, now=None]\u001b[A\n",
      "t:  13%|█▎        | 13/100 [00:00<00:00, 128.84it/s, now=None]\u001b[A"
     ]
    },
    {
     "name": "stdout",
     "output_type": "stream",
     "text": [
      "MoviePy - Building file keras_train_1006-182031/frames/train_5300.gif with imageio.\n"
     ]
    },
    {
     "name": "stderr",
     "output_type": "stream",
     "text": [
      "\n",
      "t:  25%|██▌       | 25/100 [00:00<00:00, 124.83it/s, now=None]\u001b[A\n",
      "t:  37%|███▋      | 37/100 [00:00<00:00, 122.79it/s, now=None]\u001b[A\n",
      "t:  49%|████▉     | 49/100 [00:00<00:00, 121.31it/s, now=None]\u001b[A\n",
      "t:  62%|██████▏   | 62/100 [00:00<00:00, 121.73it/s, now=None]\u001b[A\n",
      "t:  74%|███████▍  | 74/100 [00:00<00:00, 120.80it/s, now=None]\u001b[A\n",
      "t:  86%|████████▌ | 86/100 [00:00<00:00, 120.51it/s, now=None]\u001b[A\n",
      "t:  98%|█████████▊| 98/100 [00:00<00:00, 119.96it/s, now=None]\u001b[A\n",
      "Episode 5400:  27%|██▋       | 5400/20001 [54:33<2:19:37,  1.74it/s, episode_loss=tf.Tensor(8.557219, shape=(), dtype=float32), episode_reward=tf.Tensor(85.0, shape=(), dtype=float32)]   \n",
      "t:   0%|          | 0/100 [00:00<?, ?it/s, now=None]\u001b[A\n",
      "t:  15%|█▌        | 15/100 [00:00<00:00, 147.86it/s, now=None]\u001b[A"
     ]
    },
    {
     "name": "stdout",
     "output_type": "stream",
     "text": [
      "MoviePy - Building file keras_train_1006-182031/frames/train_5400.gif with imageio.\n"
     ]
    },
    {
     "name": "stderr",
     "output_type": "stream",
     "text": [
      "\n",
      "t:  29%|██▉       | 29/100 [00:00<00:00, 143.74it/s, now=None]\u001b[A\n",
      "t:  43%|████▎     | 43/100 [00:00<00:00, 140.62it/s, now=None]\u001b[A\n",
      "t:  57%|█████▋    | 57/100 [00:00<00:00, 139.14it/s, now=None]\u001b[A\n",
      "t:  71%|███████   | 71/100 [00:00<00:00, 137.14it/s, now=None]\u001b[A\n",
      "t:  84%|████████▍ | 84/100 [00:00<00:00, 133.94it/s, now=None]\u001b[A\n",
      "t:  97%|█████████▋| 97/100 [00:00<00:00, 131.87it/s, now=None]\u001b[A\n",
      "Episode 5500:  27%|██▋       | 5500/20001 [55:36<2:28:25,  1.63it/s, episode_loss=tf.Tensor(9.063058, shape=(), dtype=float32), episode_reward=tf.Tensor(66.0, shape=(), dtype=float32)]   \n",
      "t:   0%|          | 0/100 [00:00<?, ?it/s, now=None]\u001b[A\n",
      "t:  13%|█▎        | 13/100 [00:00<00:00, 128.38it/s, now=None]\u001b[A"
     ]
    },
    {
     "name": "stdout",
     "output_type": "stream",
     "text": [
      "MoviePy - Building file keras_train_1006-182031/frames/train_5500.gif with imageio.\n"
     ]
    },
    {
     "name": "stderr",
     "output_type": "stream",
     "text": [
      "\n",
      "t:  25%|██▌       | 25/100 [00:00<00:00, 124.86it/s, now=None]\u001b[A\n",
      "t:  37%|███▋      | 37/100 [00:00<00:00, 120.40it/s, now=None]\u001b[A\n",
      "t:  49%|████▉     | 49/100 [00:00<00:00, 119.28it/s, now=None]\u001b[A\n",
      "t:  61%|██████    | 61/100 [00:00<00:00, 117.49it/s, now=None]\u001b[A\n",
      "t:  73%|███████▎  | 73/100 [00:00<00:00, 115.94it/s, now=None]\u001b[A\n",
      "t:  85%|████████▌ | 85/100 [00:00<00:00, 114.85it/s, now=None]\u001b[A\n",
      "t:  97%|█████████▋| 97/100 [00:00<00:00, 115.13it/s, now=None]\u001b[A\n",
      "Episode 5600:  28%|██▊       | 5600/20001 [56:46<2:53:57,  1.38it/s, episode_loss=tf.Tensor(8.238763, shape=(), dtype=float32), episode_reward=tf.Tensor(63.0, shape=(), dtype=float32)]  \n",
      "t:   0%|          | 0/100 [00:00<?, ?it/s, now=None]\u001b[A\n",
      "t:  10%|█         | 10/100 [00:00<00:00, 90.75it/s, now=None]\u001b[A"
     ]
    },
    {
     "name": "stdout",
     "output_type": "stream",
     "text": [
      "MoviePy - Building file keras_train_1006-182031/frames/train_5600.gif with imageio.\n"
     ]
    },
    {
     "name": "stderr",
     "output_type": "stream",
     "text": [
      "\n",
      "t:  19%|█▉        | 19/100 [00:00<00:00, 87.82it/s, now=None]\u001b[A\n",
      "t:  28%|██▊       | 28/100 [00:00<00:00, 86.26it/s, now=None]\u001b[A\n",
      "t:  40%|████      | 40/100 [00:00<00:00, 92.77it/s, now=None]\u001b[A\n",
      "t:  52%|█████▏    | 52/100 [00:00<00:00, 97.94it/s, now=None]\u001b[A\n",
      "t:  64%|██████▍   | 64/100 [00:00<00:00, 101.84it/s, now=None]\u001b[A\n",
      "t:  76%|███████▌  | 76/100 [00:00<00:00, 105.04it/s, now=None]\u001b[A\n",
      "t:  88%|████████▊ | 88/100 [00:00<00:00, 107.33it/s, now=None]\u001b[A\n",
      "t: 100%|██████████| 100/100 [00:00<00:00, 109.14it/s, now=None]\u001b[A\n",
      "Episode 5700:  28%|██▊       | 5700/20001 [57:51<2:18:00,  1.73it/s, episode_loss=tf.Tensor(8.361808, shape=(), dtype=float32), episode_reward=tf.Tensor(98.0, shape=(), dtype=float32)]   \n",
      "t:   0%|          | 0/100 [00:00<?, ?it/s, now=None]\u001b[A\n",
      "t:  14%|█▍        | 14/100 [00:00<00:00, 137.63it/s, now=None]\u001b[A"
     ]
    },
    {
     "name": "stdout",
     "output_type": "stream",
     "text": [
      "MoviePy - Building file keras_train_1006-182031/frames/train_5700.gif with imageio.\n"
     ]
    },
    {
     "name": "stderr",
     "output_type": "stream",
     "text": [
      "\n",
      "t:  27%|██▋       | 27/100 [00:00<00:00, 134.69it/s, now=None]\u001b[A\n",
      "t:  41%|████      | 41/100 [00:00<00:00, 133.79it/s, now=None]\u001b[A\n",
      "t:  54%|█████▍    | 54/100 [00:00<00:00, 131.00it/s, now=None]\u001b[A\n",
      "t:  67%|██████▋   | 67/100 [00:00<00:00, 128.70it/s, now=None]\u001b[A\n",
      "t:  81%|████████  | 81/100 [00:00<00:00, 129.69it/s, now=None]\u001b[A\n",
      "t:  94%|█████████▍| 94/100 [00:00<00:00, 129.41it/s, now=None]\u001b[A\n",
      "Episode 5800:  29%|██▉       | 5800/20001 [58:54<2:22:05,  1.67it/s, episode_loss=tf.Tensor(-1.6856213, shape=(), dtype=float32), episode_reward=tf.Tensor(70.0, shape=(), dtype=float32)]\n",
      "t:   0%|          | 0/100 [00:00<?, ?it/s, now=None]\u001b[A\n",
      "t:  13%|█▎        | 13/100 [00:00<00:00, 126.04it/s, now=None]\u001b[A"
     ]
    },
    {
     "name": "stdout",
     "output_type": "stream",
     "text": [
      "MoviePy - Building file keras_train_1006-182031/frames/train_5800.gif with imageio.\n"
     ]
    },
    {
     "name": "stderr",
     "output_type": "stream",
     "text": [
      "\n",
      "t:  25%|██▌       | 25/100 [00:00<00:00, 121.28it/s, now=None]\u001b[A\n",
      "t:  37%|███▋      | 37/100 [00:00<00:00, 118.15it/s, now=None]\u001b[A\n",
      "t:  49%|████▉     | 49/100 [00:00<00:00, 116.22it/s, now=None]\u001b[A\n",
      "t:  61%|██████    | 61/100 [00:00<00:00, 115.05it/s, now=None]\u001b[A\n",
      "t:  73%|███████▎  | 73/100 [00:00<00:00, 116.37it/s, now=None]\u001b[A\n",
      "t:  85%|████████▌ | 85/100 [00:00<00:00, 114.94it/s, now=None]\u001b[A\n",
      "t:  97%|█████████▋| 97/100 [00:00<00:00, 115.59it/s, now=None]\u001b[A\n",
      "Episode 5900:  29%|██▉       | 5900/20001 [59:56<2:20:13,  1.68it/s, episode_loss=tf.Tensor(3.3952785, shape=(), dtype=float32), episode_reward=tf.Tensor(81.0, shape=(), dtype=float32)] \n",
      "t:   0%|          | 0/100 [00:00<?, ?it/s, now=None]\u001b[A\n",
      "t:  13%|█▎        | 13/100 [00:00<00:00, 121.81it/s, now=None]\u001b[A"
     ]
    },
    {
     "name": "stdout",
     "output_type": "stream",
     "text": [
      "MoviePy - Building file keras_train_1006-182031/frames/train_5900.gif with imageio.\n"
     ]
    },
    {
     "name": "stderr",
     "output_type": "stream",
     "text": [
      "\n",
      "t:  25%|██▌       | 25/100 [00:00<00:00, 119.08it/s, now=None]\u001b[A\n",
      "t:  37%|███▋      | 37/100 [00:00<00:00, 116.78it/s, now=None]\u001b[A\n",
      "t:  49%|████▉     | 49/100 [00:00<00:00, 115.90it/s, now=None]\u001b[A\n",
      "t:  61%|██████    | 61/100 [00:00<00:00, 114.95it/s, now=None]\u001b[A\n",
      "t:  73%|███████▎  | 73/100 [00:00<00:00, 114.42it/s, now=None]\u001b[A\n",
      "t:  85%|████████▌ | 85/100 [00:00<00:00, 113.68it/s, now=None]\u001b[A\n",
      "t:  97%|█████████▋| 97/100 [00:00<00:00, 113.26it/s, now=None]\u001b[A\n",
      "Episode 6000:  30%|██▉       | 6000/20001 [1:00:57<2:19:21,  1.67it/s, episode_loss=tf.Tensor(5.5447307, shape=(), dtype=float32), episode_reward=tf.Tensor(80.0, shape=(), dtype=float32)]  \n",
      "t:   0%|          | 0/100 [00:00<?, ?it/s, now=None]\u001b[A\n",
      "t:  13%|█▎        | 13/100 [00:00<00:00, 128.77it/s, now=None]\u001b[A"
     ]
    },
    {
     "name": "stdout",
     "output_type": "stream",
     "text": [
      "MoviePy - Building file keras_train_1006-182031/frames/train_6000.gif with imageio.\n"
     ]
    },
    {
     "name": "stderr",
     "output_type": "stream",
     "text": [
      "\n",
      "t:  25%|██▌       | 25/100 [00:00<00:00, 125.08it/s, now=None]\u001b[A\n",
      "t:  37%|███▋      | 37/100 [00:00<00:00, 123.48it/s, now=None]\u001b[A\n",
      "t:  50%|█████     | 50/100 [00:00<00:00, 123.10it/s, now=None]\u001b[A\n",
      "t:  63%|██████▎   | 63/100 [00:00<00:00, 122.35it/s, now=None]\u001b[A\n",
      "t:  75%|███████▌  | 75/100 [00:00<00:00, 120.22it/s, now=None]\u001b[A\n",
      "t:  86%|████████▌ | 86/100 [00:00<00:00, 116.75it/s, now=None]\u001b[A\n",
      "t:  98%|█████████▊| 98/100 [00:00<00:00, 115.02it/s, now=None]\u001b[A\n",
      "Episode 6100:  30%|███       | 6100/20001 [1:01:58<2:21:13,  1.64it/s, episode_loss=tf.Tensor(-30.826548, shape=(), dtype=float32), episode_reward=tf.Tensor(34.0, shape=(), dtype=float32)]  \n",
      "t:   0%|          | 0/100 [00:00<?, ?it/s, now=None]\u001b[A\n",
      "t:  14%|█▍        | 14/100 [00:00<00:00, 139.13it/s, now=None]\u001b[A"
     ]
    },
    {
     "name": "stdout",
     "output_type": "stream",
     "text": [
      "MoviePy - Building file keras_train_1006-182031/frames/train_6100.gif with imageio.\n"
     ]
    },
    {
     "name": "stderr",
     "output_type": "stream",
     "text": [
      "\n",
      "t:  27%|██▋       | 27/100 [00:00<00:00, 133.92it/s, now=None]\u001b[A\n",
      "t:  40%|████      | 40/100 [00:00<00:00, 130.72it/s, now=None]\u001b[A\n",
      "t:  53%|█████▎    | 53/100 [00:00<00:00, 128.80it/s, now=None]\u001b[A\n",
      "t:  66%|██████▌   | 66/100 [00:00<00:00, 127.32it/s, now=None]\u001b[A\n",
      "t:  79%|███████▉  | 79/100 [00:00<00:00, 126.45it/s, now=None]\u001b[A\n",
      "t:  92%|█████████▏| 92/100 [00:00<00:00, 125.80it/s, now=None]\u001b[A\n",
      "Episode 6200:  31%|███       | 6200/20001 [1:03:02<2:20:17,  1.64it/s, episode_loss=tf.Tensor(5.8364844, shape=(), dtype=float32), episode_reward=tf.Tensor(83.0, shape=(), dtype=float32)] \n",
      "t:   0%|          | 0/100 [00:00<?, ?it/s, now=None]\u001b[A\n",
      "t:  14%|█▍        | 14/100 [00:00<00:00, 138.67it/s, now=None]\u001b[A"
     ]
    },
    {
     "name": "stdout",
     "output_type": "stream",
     "text": [
      "MoviePy - Building file keras_train_1006-182031/frames/train_6200.gif with imageio.\n"
     ]
    },
    {
     "name": "stderr",
     "output_type": "stream",
     "text": [
      "\n",
      "t:  27%|██▋       | 27/100 [00:00<00:00, 133.51it/s, now=None]\u001b[A\n",
      "t:  40%|████      | 40/100 [00:00<00:00, 130.12it/s, now=None]\u001b[A\n",
      "t:  54%|█████▍    | 54/100 [00:00<00:00, 130.60it/s, now=None]\u001b[A\n",
      "t:  68%|██████▊   | 68/100 [00:00<00:00, 130.93it/s, now=None]\u001b[A\n",
      "t:  81%|████████  | 81/100 [00:00<00:00, 130.19it/s, now=None]\u001b[A\n",
      "t:  95%|█████████▌| 95/100 [00:00<00:00, 131.80it/s, now=None]\u001b[A\n",
      "Episode 6300:  31%|███▏      | 6300/20001 [1:04:01<2:10:38,  1.75it/s, episode_loss=tf.Tensor(9.432067, shape=(), dtype=float32), episode_reward=tf.Tensor(61.0, shape=(), dtype=float32)]   \n",
      "t:   0%|          | 0/100 [00:00<?, ?it/s, now=None]\u001b[A\n",
      "t:  15%|█▌        | 15/100 [00:00<00:00, 141.86it/s, now=None]\u001b[A"
     ]
    },
    {
     "name": "stdout",
     "output_type": "stream",
     "text": [
      "MoviePy - Building file keras_train_1006-182031/frames/train_6300.gif with imageio.\n"
     ]
    },
    {
     "name": "stderr",
     "output_type": "stream",
     "text": [
      "\n",
      "t:  28%|██▊       | 28/100 [00:00<00:00, 136.27it/s, now=None]\u001b[A\n",
      "t:  41%|████      | 41/100 [00:00<00:00, 132.37it/s, now=None]\u001b[A\n",
      "t:  54%|█████▍    | 54/100 [00:00<00:00, 129.83it/s, now=None]\u001b[A\n",
      "t:  68%|██████▊   | 68/100 [00:00<00:00, 130.54it/s, now=None]\u001b[A\n",
      "t:  82%|████████▏ | 82/100 [00:00<00:00, 130.77it/s, now=None]\u001b[A\n",
      "t:  95%|█████████▌| 95/100 [00:00<00:00, 129.25it/s, now=None]\u001b[A\n",
      "Episode 6400:  32%|███▏      | 6400/20001 [1:05:04<2:09:57,  1.74it/s, episode_loss=tf.Tensor(5.916493, shape=(), dtype=float32), episode_reward=tf.Tensor(61.0, shape=(), dtype=float32)]  \n",
      "t:   0%|          | 0/100 [00:00<?, ?it/s, now=None]\u001b[A\n",
      "t:  14%|█▍        | 14/100 [00:00<00:00, 138.24it/s, now=None]\u001b[A"
     ]
    },
    {
     "name": "stdout",
     "output_type": "stream",
     "text": [
      "MoviePy - Building file keras_train_1006-182031/frames/train_6400.gif with imageio.\n"
     ]
    },
    {
     "name": "stderr",
     "output_type": "stream",
     "text": [
      "\n",
      "t:  27%|██▋       | 27/100 [00:00<00:00, 133.53it/s, now=None]\u001b[A\n",
      "t:  40%|████      | 40/100 [00:00<00:00, 130.88it/s, now=None]\u001b[A\n",
      "t:  53%|█████▎    | 53/100 [00:00<00:00, 130.40it/s, now=None]\u001b[A\n",
      "t:  66%|██████▌   | 66/100 [00:00<00:00, 128.43it/s, now=None]\u001b[A\n",
      "t:  79%|███████▉  | 79/100 [00:00<00:00, 127.51it/s, now=None]\u001b[A\n",
      "t:  92%|█████████▏| 92/100 [00:00<00:00, 126.63it/s, now=None]\u001b[A\n",
      "Episode 6500:  32%|███▏      | 6500/20001 [1:06:06<2:24:38,  1.56it/s, episode_loss=tf.Tensor(17.694742, shape=(), dtype=float32), episode_reward=tf.Tensor(92.0, shape=(), dtype=float32)] \n",
      "t:   0%|          | 0/100 [00:00<?, ?it/s, now=None]\u001b[A\n",
      "t:  14%|█▍        | 14/100 [00:00<00:00, 129.31it/s, now=None]\u001b[A"
     ]
    },
    {
     "name": "stdout",
     "output_type": "stream",
     "text": [
      "MoviePy - Building file keras_train_1006-182031/frames/train_6500.gif with imageio.\n"
     ]
    },
    {
     "name": "stderr",
     "output_type": "stream",
     "text": [
      "\n",
      "t:  25%|██▌       | 25/100 [00:00<00:00, 122.06it/s, now=None]\u001b[A\n",
      "t:  36%|███▌      | 36/100 [00:00<00:00, 117.87it/s, now=None]\u001b[A\n",
      "t:  48%|████▊     | 48/100 [00:00<00:00, 116.15it/s, now=None]\u001b[A\n",
      "t:  60%|██████    | 60/100 [00:00<00:00, 115.05it/s, now=None]\u001b[A\n",
      "t:  72%|███████▏  | 72/100 [00:00<00:00, 113.99it/s, now=None]\u001b[A\n",
      "t:  84%|████████▍ | 84/100 [00:00<00:00, 113.72it/s, now=None]\u001b[A\n",
      "t:  96%|█████████▌| 96/100 [00:00<00:00, 113.51it/s, now=None]\u001b[A\n",
      "Episode 6600:  33%|███▎      | 6600/20001 [1:07:09<2:04:38,  1.79it/s, episode_loss=tf.Tensor(5.776329, shape=(), dtype=float32), episode_reward=tf.Tensor(72.0, shape=(), dtype=float32)]   \n",
      "t:   0%|          | 0/100 [00:00<?, ?it/s, now=None]\u001b[A\n",
      "t:  14%|█▍        | 14/100 [00:00<00:00, 133.31it/s, now=None]\u001b[A"
     ]
    },
    {
     "name": "stdout",
     "output_type": "stream",
     "text": [
      "MoviePy - Building file keras_train_1006-182031/frames/train_6600.gif with imageio.\n"
     ]
    },
    {
     "name": "stderr",
     "output_type": "stream",
     "text": [
      "\n",
      "t:  26%|██▌       | 26/100 [00:00<00:00, 126.94it/s, now=None]\u001b[A\n",
      "t:  39%|███▉      | 39/100 [00:00<00:00, 125.44it/s, now=None]\u001b[A\n",
      "t:  52%|█████▏    | 52/100 [00:00<00:00, 125.55it/s, now=None]\u001b[A\n",
      "t:  65%|██████▌   | 65/100 [00:00<00:00, 124.90it/s, now=None]\u001b[A\n",
      "t:  78%|███████▊  | 78/100 [00:00<00:00, 124.49it/s, now=None]\u001b[A\n",
      "t:  91%|█████████ | 91/100 [00:00<00:00, 123.71it/s, now=None]\u001b[A\n",
      "Episode 6700:  33%|███▎      | 6700/20001 [1:08:06<2:02:52,  1.80it/s, episode_loss=tf.Tensor(34.896454, shape=(), dtype=float32), episode_reward=tf.Tensor(93.0, shape=(), dtype=float32)] \n",
      "t:   0%|          | 0/100 [00:00<?, ?it/s, now=None]\u001b[A\n",
      "t:  14%|█▍        | 14/100 [00:00<00:00, 131.30it/s, now=None]\u001b[A"
     ]
    },
    {
     "name": "stdout",
     "output_type": "stream",
     "text": [
      "MoviePy - Building file keras_train_1006-182031/frames/train_6700.gif with imageio.\n"
     ]
    },
    {
     "name": "stderr",
     "output_type": "stream",
     "text": [
      "\n",
      "t:  26%|██▌       | 26/100 [00:00<00:00, 127.39it/s, now=None]\u001b[A\n",
      "t:  38%|███▊      | 38/100 [00:00<00:00, 124.86it/s, now=None]\u001b[A\n",
      "t:  50%|█████     | 50/100 [00:00<00:00, 122.94it/s, now=None]\u001b[A\n",
      "t:  62%|██████▏   | 62/100 [00:00<00:00, 120.59it/s, now=None]\u001b[A\n",
      "t:  74%|███████▍  | 74/100 [00:00<00:00, 120.36it/s, now=None]\u001b[A\n",
      "t:  87%|████████▋ | 87/100 [00:00<00:00, 120.75it/s, now=None]\u001b[A\n",
      "t: 100%|██████████| 100/100 [00:00<00:00, 121.13it/s, now=None]\u001b[A\n",
      "Episode 6800:  34%|███▍      | 6800/20001 [1:09:03<2:03:01,  1.79it/s, episode_loss=tf.Tensor(6.0494347, shape=(), dtype=float32), episode_reward=tf.Tensor(73.0, shape=(), dtype=float32)] \n",
      "t:   0%|          | 0/100 [00:00<?, ?it/s, now=None]\u001b[A\n",
      "t:  13%|█▎        | 13/100 [00:00<00:00, 129.31it/s, now=None]\u001b[A"
     ]
    },
    {
     "name": "stdout",
     "output_type": "stream",
     "text": [
      "MoviePy - Building file keras_train_1006-182031/frames/train_6800.gif with imageio.\n"
     ]
    },
    {
     "name": "stderr",
     "output_type": "stream",
     "text": [
      "\n",
      "t:  25%|██▌       | 25/100 [00:00<00:00, 125.99it/s, now=None]\u001b[A\n",
      "t:  38%|███▊      | 38/100 [00:00<00:00, 125.29it/s, now=None]\u001b[A\n",
      "t:  51%|█████     | 51/100 [00:00<00:00, 123.84it/s, now=None]\u001b[A\n",
      "t:  64%|██████▍   | 64/100 [00:00<00:00, 124.01it/s, now=None]\u001b[A\n",
      "t:  77%|███████▋  | 77/100 [00:00<00:00, 124.29it/s, now=None]\u001b[A\n",
      "t:  90%|█████████ | 90/100 [00:00<00:00, 124.12it/s, now=None]\u001b[A\n",
      "Episode 6900:  34%|███▍      | 6900/20001 [1:10:00<2:05:27,  1.74it/s, episode_loss=tf.Tensor(13.105926, shape=(), dtype=float32), episode_reward=tf.Tensor(36.0, shape=(), dtype=float32)]  \n",
      "t:   0%|          | 0/100 [00:00<?, ?it/s, now=None]\u001b[A\n",
      "t:  15%|█▌        | 15/100 [00:00<00:00, 145.85it/s, now=None]\u001b[A"
     ]
    },
    {
     "name": "stdout",
     "output_type": "stream",
     "text": [
      "MoviePy - Building file keras_train_1006-182031/frames/train_6900.gif with imageio.\n"
     ]
    },
    {
     "name": "stderr",
     "output_type": "stream",
     "text": [
      "\n",
      "t:  29%|██▉       | 29/100 [00:00<00:00, 141.52it/s, now=None]\u001b[A\n",
      "t:  43%|████▎     | 43/100 [00:00<00:00, 138.94it/s, now=None]\u001b[A\n",
      "t:  57%|█████▋    | 57/100 [00:00<00:00, 136.93it/s, now=None]\u001b[A\n",
      "t:  71%|███████   | 71/100 [00:00<00:00, 135.59it/s, now=None]\u001b[A\n",
      "t:  85%|████████▌ | 85/100 [00:00<00:00, 134.90it/s, now=None]\u001b[A\n",
      "t:  99%|█████████▉| 99/100 [00:00<00:00, 134.66it/s, now=None]\u001b[A\n",
      "Episode 7000:  35%|███▍      | 7000/20001 [1:10:57<2:01:14,  1.79it/s, episode_loss=tf.Tensor(29.983006, shape=(), dtype=float32), episode_reward=tf.Tensor(14.0, shape=(), dtype=float32)] \n",
      "t:   0%|          | 0/100 [00:00<?, ?it/s, now=None]\u001b[A\n",
      "t:  14%|█▍        | 14/100 [00:00<00:00, 133.68it/s, now=None]\u001b[A"
     ]
    },
    {
     "name": "stdout",
     "output_type": "stream",
     "text": [
      "MoviePy - Building file keras_train_1006-182031/frames/train_7000.gif with imageio.\n"
     ]
    },
    {
     "name": "stderr",
     "output_type": "stream",
     "text": [
      "\n",
      "t:  26%|██▌       | 26/100 [00:00<00:00, 128.84it/s, now=None]\u001b[A\n",
      "t:  38%|███▊      | 38/100 [00:00<00:00, 125.79it/s, now=None]\u001b[A\n",
      "t:  50%|█████     | 50/100 [00:00<00:00, 123.58it/s, now=None]\u001b[A\n",
      "t:  62%|██████▏   | 62/100 [00:00<00:00, 121.98it/s, now=None]\u001b[A\n",
      "t:  75%|███████▌  | 75/100 [00:00<00:00, 121.95it/s, now=None]\u001b[A\n",
      "t:  87%|████████▋ | 87/100 [00:00<00:00, 121.25it/s, now=None]\u001b[A\n",
      "t:  99%|█████████▉| 99/100 [00:00<00:00, 120.75it/s, now=None]\u001b[A\n",
      "Episode 7100:  35%|███▌      | 7100/20001 [1:11:53<1:59:05,  1.81it/s, episode_loss=tf.Tensor(6.0088706, shape=(), dtype=float32), episode_reward=tf.Tensor(67.0, shape=(), dtype=float32)] \n",
      "t:   0%|          | 0/100 [00:00<?, ?it/s, now=None]\u001b[A\n",
      "t:  14%|█▍        | 14/100 [00:00<00:00, 135.74it/s, now=None]\u001b[A"
     ]
    },
    {
     "name": "stdout",
     "output_type": "stream",
     "text": [
      "MoviePy - Building file keras_train_1006-182031/frames/train_7100.gif with imageio.\n"
     ]
    },
    {
     "name": "stderr",
     "output_type": "stream",
     "text": [
      "\n",
      "t:  27%|██▋       | 27/100 [00:00<00:00, 130.67it/s, now=None]\u001b[A\n",
      "t:  40%|████      | 40/100 [00:00<00:00, 127.75it/s, now=None]\u001b[A\n",
      "t:  52%|█████▏    | 52/100 [00:00<00:00, 124.50it/s, now=None]\u001b[A\n",
      "t:  65%|██████▌   | 65/100 [00:00<00:00, 123.50it/s, now=None]\u001b[A\n",
      "t:  78%|███████▊  | 78/100 [00:00<00:00, 122.74it/s, now=None]\u001b[A\n",
      "t:  91%|█████████ | 91/100 [00:00<00:00, 123.19it/s, now=None]\u001b[A\n",
      "Episode 7200:  36%|███▌      | 7200/20001 [1:12:50<2:02:58,  1.73it/s, episode_loss=tf.Tensor(5.199032, shape=(), dtype=float32), episode_reward=tf.Tensor(41.0, shape=(), dtype=float32)]  \n",
      "t:   0%|          | 0/100 [00:00<?, ?it/s, now=None]\u001b[A\n",
      "t:  14%|█▍        | 14/100 [00:00<00:00, 131.44it/s, now=None]\u001b[A"
     ]
    },
    {
     "name": "stdout",
     "output_type": "stream",
     "text": [
      "MoviePy - Building file keras_train_1006-182031/frames/train_7200.gif with imageio.\n"
     ]
    },
    {
     "name": "stderr",
     "output_type": "stream",
     "text": [
      "\n",
      "t:  27%|██▋       | 27/100 [00:00<00:00, 128.06it/s, now=None]\u001b[A\n",
      "t:  39%|███▉      | 39/100 [00:00<00:00, 125.03it/s, now=None]\u001b[A\n",
      "t:  52%|█████▏    | 52/100 [00:00<00:00, 123.85it/s, now=None]\u001b[A\n",
      "t:  65%|██████▌   | 65/100 [00:00<00:00, 123.91it/s, now=None]\u001b[A\n",
      "t:  77%|███████▋  | 77/100 [00:00<00:00, 122.51it/s, now=None]\u001b[A\n",
      "t:  90%|█████████ | 90/100 [00:00<00:00, 122.00it/s, now=None]\u001b[A\n",
      "Episode 7300:  36%|███▋      | 7300/20001 [1:13:46<1:56:43,  1.81it/s, episode_loss=tf.Tensor(6.8063974, shape=(), dtype=float32), episode_reward=tf.Tensor(100.0, shape=(), dtype=float32)]\n",
      "t:   0%|          | 0/100 [00:00<?, ?it/s, now=None]\u001b[A\n",
      "t:  15%|█▌        | 15/100 [00:00<00:00, 148.29it/s, now=None]\u001b[A"
     ]
    },
    {
     "name": "stdout",
     "output_type": "stream",
     "text": [
      "MoviePy - Building file keras_train_1006-182031/frames/train_7300.gif with imageio.\n"
     ]
    },
    {
     "name": "stderr",
     "output_type": "stream",
     "text": [
      "\n",
      "t:  29%|██▉       | 29/100 [00:00<00:00, 142.86it/s, now=None]\u001b[A\n",
      "t:  43%|████▎     | 43/100 [00:00<00:00, 140.08it/s, now=None]\u001b[A\n",
      "t:  57%|█████▋    | 57/100 [00:00<00:00, 139.19it/s, now=None]\u001b[A\n",
      "t:  71%|███████   | 71/100 [00:00<00:00, 138.13it/s, now=None]\u001b[A\n",
      "t:  85%|████████▌ | 85/100 [00:00<00:00, 136.70it/s, now=None]\u001b[A\n",
      "t:  99%|█████████▉| 99/100 [00:00<00:00, 135.78it/s, now=None]\u001b[A\n",
      "Episode 7400:  37%|███▋      | 7400/20001 [1:14:43<1:56:15,  1.81it/s, episode_loss=tf.Tensor(6.552123, shape=(), dtype=float32), episode_reward=tf.Tensor(70.0, shape=(), dtype=float32)]  \n",
      "t:   0%|          | 0/100 [00:00<?, ?it/s, now=None]\u001b[A\n",
      "t:  14%|█▍        | 14/100 [00:00<00:00, 134.49it/s, now=None]\u001b[A"
     ]
    },
    {
     "name": "stdout",
     "output_type": "stream",
     "text": [
      "MoviePy - Building file keras_train_1006-182031/frames/train_7400.gif with imageio.\n"
     ]
    },
    {
     "name": "stderr",
     "output_type": "stream",
     "text": [
      "\n",
      "t:  27%|██▋       | 27/100 [00:00<00:00, 130.27it/s, now=None]\u001b[A\n",
      "t:  40%|████      | 40/100 [00:00<00:00, 127.96it/s, now=None]\u001b[A\n",
      "t:  53%|█████▎    | 53/100 [00:00<00:00, 126.64it/s, now=None]\u001b[A\n",
      "t:  65%|██████▌   | 65/100 [00:00<00:00, 123.18it/s, now=None]\u001b[A\n",
      "t:  77%|███████▋  | 77/100 [00:00<00:00, 121.70it/s, now=None]\u001b[A\n",
      "t:  90%|█████████ | 90/100 [00:00<00:00, 122.08it/s, now=None]\u001b[A\n",
      "Episode 7500:  37%|███▋      | 7500/20001 [1:15:39<1:55:16,  1.81it/s, episode_loss=tf.Tensor(4.748447, shape=(), dtype=float32), episode_reward=tf.Tensor(85.0, shape=(), dtype=float32)]  \n",
      "t:   0%|          | 0/100 [00:00<?, ?it/s, now=None]\u001b[A\n",
      "t:  15%|█▌        | 15/100 [00:00<00:00, 149.92it/s, now=None]\u001b[A"
     ]
    },
    {
     "name": "stdout",
     "output_type": "stream",
     "text": [
      "MoviePy - Building file keras_train_1006-182031/frames/train_7500.gif with imageio.\n"
     ]
    },
    {
     "name": "stderr",
     "output_type": "stream",
     "text": [
      "\n",
      "t:  29%|██▉       | 29/100 [00:00<00:00, 144.59it/s, now=None]\u001b[A\n",
      "t:  43%|████▎     | 43/100 [00:00<00:00, 142.06it/s, now=None]\u001b[A\n",
      "t:  57%|█████▋    | 57/100 [00:00<00:00, 139.46it/s, now=None]\u001b[A\n",
      "t:  71%|███████   | 71/100 [00:00<00:00, 137.55it/s, now=None]\u001b[A\n",
      "t:  85%|████████▌ | 85/100 [00:00<00:00, 136.81it/s, now=None]\u001b[A\n",
      "t:  99%|█████████▉| 99/100 [00:00<00:00, 136.97it/s, now=None]\u001b[A\n",
      "Episode 7600:  38%|███▊      | 7600/20001 [1:16:36<1:56:57,  1.77it/s, episode_loss=tf.Tensor(11.317059, shape=(), dtype=float32), episode_reward=tf.Tensor(77.0, shape=(), dtype=float32)] \n",
      "t:   0%|          | 0/100 [00:00<?, ?it/s, now=None]\u001b[A\n",
      "t:  14%|█▍        | 14/100 [00:00<00:00, 131.16it/s, now=None]\u001b[A"
     ]
    },
    {
     "name": "stdout",
     "output_type": "stream",
     "text": [
      "MoviePy - Building file keras_train_1006-182031/frames/train_7600.gif with imageio.\n"
     ]
    },
    {
     "name": "stderr",
     "output_type": "stream",
     "text": [
      "\n",
      "t:  26%|██▌       | 26/100 [00:00<00:00, 127.55it/s, now=None]\u001b[A\n",
      "t:  38%|███▊      | 38/100 [00:00<00:00, 125.08it/s, now=None]\u001b[A\n",
      "t:  51%|█████     | 51/100 [00:00<00:00, 124.13it/s, now=None]\u001b[A\n",
      "t:  64%|██████▍   | 64/100 [00:00<00:00, 123.88it/s, now=None]\u001b[A\n",
      "t:  77%|███████▋  | 77/100 [00:00<00:00, 123.07it/s, now=None]\u001b[A\n",
      "t:  90%|█████████ | 90/100 [00:00<00:00, 124.29it/s, now=None]\u001b[A\n",
      "Episode 7700:  38%|███▊      | 7700/20001 [1:17:32<1:53:08,  1.81it/s, episode_loss=tf.Tensor(3.3446112, shape=(), dtype=float32), episode_reward=tf.Tensor(71.0, shape=(), dtype=float32)] \n",
      "t:   0%|          | 0/100 [00:00<?, ?it/s, now=None]\u001b[A\n",
      "t:  14%|█▍        | 14/100 [00:00<00:00, 133.06it/s, now=None]\u001b[A"
     ]
    },
    {
     "name": "stdout",
     "output_type": "stream",
     "text": [
      "MoviePy - Building file keras_train_1006-182031/frames/train_7700.gif with imageio.\n"
     ]
    },
    {
     "name": "stderr",
     "output_type": "stream",
     "text": [
      "\n",
      "t:  26%|██▌       | 26/100 [00:00<00:00, 127.51it/s, now=None]\u001b[A\n",
      "t:  38%|███▊      | 38/100 [00:00<00:00, 122.85it/s, now=None]\u001b[A\n",
      "t:  51%|█████     | 51/100 [00:00<00:00, 123.38it/s, now=None]\u001b[A\n",
      "t:  64%|██████▍   | 64/100 [00:00<00:00, 123.82it/s, now=None]\u001b[A\n",
      "t:  77%|███████▋  | 77/100 [00:00<00:00, 124.29it/s, now=None]\u001b[A\n",
      "t:  90%|█████████ | 90/100 [00:00<00:00, 123.61it/s, now=None]\u001b[A\n",
      "Episode 7800:  39%|███▉      | 7800/20001 [1:18:29<1:54:33,  1.78it/s, episode_loss=tf.Tensor(7.437245, shape=(), dtype=float32), episode_reward=tf.Tensor(94.0, shape=(), dtype=float32)]  \n",
      "t:   0%|          | 0/100 [00:00<?, ?it/s, now=None]\u001b[A\n",
      "t:  14%|█▍        | 14/100 [00:00<00:00, 131.17it/s, now=None]\u001b[A"
     ]
    },
    {
     "name": "stdout",
     "output_type": "stream",
     "text": [
      "MoviePy - Building file keras_train_1006-182031/frames/train_7800.gif with imageio.\n"
     ]
    },
    {
     "name": "stderr",
     "output_type": "stream",
     "text": [
      "\n",
      "t:  26%|██▌       | 26/100 [00:00<00:00, 125.73it/s, now=None]\u001b[A\n",
      "t:  38%|███▊      | 38/100 [00:00<00:00, 121.73it/s, now=None]\u001b[A\n",
      "t:  50%|█████     | 50/100 [00:00<00:00, 120.15it/s, now=None]\u001b[A\n",
      "t:  62%|██████▏   | 62/100 [00:00<00:00, 118.67it/s, now=None]\u001b[A\n",
      "t:  74%|███████▍  | 74/100 [00:00<00:00, 117.46it/s, now=None]\u001b[A\n",
      "t:  87%|████████▋ | 87/100 [00:00<00:00, 118.94it/s, now=None]\u001b[A\n",
      "t:  99%|█████████▉| 99/100 [00:00<00:00, 117.99it/s, now=None]\u001b[A\n",
      "Episode 7900:  39%|███▉      | 7900/20001 [1:19:25<1:54:27,  1.76it/s, episode_loss=tf.Tensor(6.660561, shape=(), dtype=float32), episode_reward=tf.Tensor(94.0, shape=(), dtype=float32)]  \n",
      "t:   0%|          | 0/100 [00:00<?, ?it/s, now=None]\u001b[A\n",
      "t:  14%|█▍        | 14/100 [00:00<00:00, 131.47it/s, now=None]\u001b[A"
     ]
    },
    {
     "name": "stdout",
     "output_type": "stream",
     "text": [
      "MoviePy - Building file keras_train_1006-182031/frames/train_7900.gif with imageio.\n"
     ]
    },
    {
     "name": "stderr",
     "output_type": "stream",
     "text": [
      "\n",
      "t:  26%|██▌       | 26/100 [00:00<00:00, 127.39it/s, now=None]\u001b[A\n",
      "t:  38%|███▊      | 38/100 [00:00<00:00, 125.07it/s, now=None]\u001b[A\n",
      "t:  51%|█████     | 51/100 [00:00<00:00, 123.96it/s, now=None]\u001b[A\n",
      "t:  63%|██████▎   | 63/100 [00:00<00:00, 122.60it/s, now=None]\u001b[A\n",
      "t:  75%|███████▌  | 75/100 [00:00<00:00, 120.53it/s, now=None]\u001b[A\n",
      "t:  88%|████████▊ | 88/100 [00:00<00:00, 121.02it/s, now=None]\u001b[A\n",
      "Episode 8000:  40%|███▉      | 8000/20001 [1:20:22<1:50:52,  1.80it/s, episode_loss=tf.Tensor(37.048714, shape=(), dtype=float32), episode_reward=tf.Tensor(71.0, shape=(), dtype=float32)] \n",
      "t:   0%|          | 0/100 [00:00<?, ?it/s, now=None]\u001b[A\n",
      "t:  14%|█▍        | 14/100 [00:00<00:00, 130.57it/s, now=None]\u001b[A"
     ]
    },
    {
     "name": "stdout",
     "output_type": "stream",
     "text": [
      "MoviePy - Building file keras_train_1006-182031/frames/train_8000.gif with imageio.\n"
     ]
    },
    {
     "name": "stderr",
     "output_type": "stream",
     "text": [
      "\n",
      "t:  26%|██▌       | 26/100 [00:00<00:00, 127.11it/s, now=None]\u001b[A\n",
      "t:  39%|███▉      | 39/100 [00:00<00:00, 125.08it/s, now=None]\u001b[A\n",
      "t:  52%|█████▏    | 52/100 [00:00<00:00, 123.84it/s, now=None]\u001b[A\n",
      "t:  65%|██████▌   | 65/100 [00:00<00:00, 123.27it/s, now=None]\u001b[A\n",
      "t:  78%|███████▊  | 78/100 [00:00<00:00, 123.42it/s, now=None]\u001b[A\n",
      "t:  91%|█████████ | 91/100 [00:00<00:00, 123.69it/s, now=None]\u001b[A\n",
      "Episode 8100:  40%|████      | 8100/20001 [1:21:18<1:49:42,  1.81it/s, episode_loss=tf.Tensor(4.0411463, shape=(), dtype=float32), episode_reward=tf.Tensor(60.0, shape=(), dtype=float32)] \n",
      "t:   0%|          | 0/100 [00:00<?, ?it/s, now=None]\u001b[A\n",
      "t:  14%|█▍        | 14/100 [00:00<00:00, 131.57it/s, now=None]\u001b[A"
     ]
    },
    {
     "name": "stdout",
     "output_type": "stream",
     "text": [
      "MoviePy - Building file keras_train_1006-182031/frames/train_8100.gif with imageio.\n"
     ]
    },
    {
     "name": "stderr",
     "output_type": "stream",
     "text": [
      "\n",
      "t:  27%|██▋       | 27/100 [00:00<00:00, 128.67it/s, now=None]\u001b[A\n",
      "t:  40%|████      | 40/100 [00:00<00:00, 126.11it/s, now=None]\u001b[A\n",
      "t:  53%|█████▎    | 53/100 [00:00<00:00, 124.67it/s, now=None]\u001b[A\n",
      "t:  66%|██████▌   | 66/100 [00:00<00:00, 123.77it/s, now=None]\u001b[A\n",
      "t:  79%|███████▉  | 79/100 [00:00<00:00, 123.92it/s, now=None]\u001b[A\n",
      "t:  92%|█████████▏| 92/100 [00:00<00:00, 124.00it/s, now=None]\u001b[A\n",
      "Episode 8200:  41%|████      | 8200/20001 [1:22:15<1:49:14,  1.80it/s, episode_loss=tf.Tensor(5.503786, shape=(), dtype=float32), episode_reward=tf.Tensor(83.0, shape=(), dtype=float32)]  \n",
      "t:   0%|          | 0/100 [00:00<?, ?it/s, now=None]\u001b[A\n",
      "t:  14%|█▍        | 14/100 [00:00<00:00, 132.05it/s, now=None]\u001b[A"
     ]
    },
    {
     "name": "stdout",
     "output_type": "stream",
     "text": [
      "MoviePy - Building file keras_train_1006-182031/frames/train_8200.gif with imageio.\n"
     ]
    },
    {
     "name": "stderr",
     "output_type": "stream",
     "text": [
      "\n",
      "t:  26%|██▌       | 26/100 [00:00<00:00, 125.93it/s, now=None]\u001b[A\n",
      "t:  38%|███▊      | 38/100 [00:00<00:00, 123.76it/s, now=None]\u001b[A\n",
      "t:  50%|█████     | 50/100 [00:00<00:00, 122.52it/s, now=None]\u001b[A\n",
      "t:  62%|██████▏   | 62/100 [00:00<00:00, 121.62it/s, now=None]\u001b[A\n",
      "t:  75%|███████▌  | 75/100 [00:00<00:00, 121.98it/s, now=None]\u001b[A\n",
      "t:  88%|████████▊ | 88/100 [00:00<00:00, 122.50it/s, now=None]\u001b[A\n",
      "t: 100%|██████████| 100/100 [00:00<00:00, 121.44it/s, now=None]\u001b[A\n",
      "Episode 8300:  41%|████▏     | 8300/20001 [1:23:11<1:49:29,  1.78it/s, episode_loss=tf.Tensor(5.2008095, shape=(), dtype=float32), episode_reward=tf.Tensor(78.0, shape=(), dtype=float32)]  \n",
      "t:   0%|          | 0/100 [00:00<?, ?it/s, now=None]\u001b[A\n",
      "t:  14%|█▍        | 14/100 [00:00<00:00, 132.65it/s, now=None]\u001b[A"
     ]
    },
    {
     "name": "stdout",
     "output_type": "stream",
     "text": [
      "MoviePy - Building file keras_train_1006-182031/frames/train_8300.gif with imageio.\n"
     ]
    },
    {
     "name": "stderr",
     "output_type": "stream",
     "text": [
      "\n",
      "t:  27%|██▋       | 27/100 [00:00<00:00, 129.11it/s, now=None]\u001b[A\n",
      "t:  40%|████      | 40/100 [00:00<00:00, 126.66it/s, now=None]\u001b[A\n",
      "t:  53%|█████▎    | 53/100 [00:00<00:00, 125.30it/s, now=None]\u001b[A\n",
      "t:  66%|██████▌   | 66/100 [00:00<00:00, 124.30it/s, now=None]\u001b[A\n",
      "t:  79%|███████▉  | 79/100 [00:00<00:00, 125.01it/s, now=None]\u001b[A\n",
      "t:  92%|█████████▏| 92/100 [00:00<00:00, 124.23it/s, now=None]\u001b[A\n",
      "Episode 8400:  42%|████▏     | 8400/20001 [1:24:08<1:47:02,  1.81it/s, episode_loss=tf.Tensor(2.9049332, shape=(), dtype=float32), episode_reward=tf.Tensor(55.0, shape=(), dtype=float32)] \n",
      "t:   0%|          | 0/100 [00:00<?, ?it/s, now=None]\u001b[A\n",
      "t:  14%|█▍        | 14/100 [00:00<00:00, 130.37it/s, now=None]\u001b[A"
     ]
    },
    {
     "name": "stdout",
     "output_type": "stream",
     "text": [
      "MoviePy - Building file keras_train_1006-182031/frames/train_8400.gif with imageio.\n"
     ]
    },
    {
     "name": "stderr",
     "output_type": "stream",
     "text": [
      "\n",
      "t:  27%|██▋       | 27/100 [00:00<00:00, 127.43it/s, now=None]\u001b[A\n",
      "t:  39%|███▉      | 39/100 [00:00<00:00, 124.49it/s, now=None]\u001b[A\n",
      "t:  51%|█████     | 51/100 [00:00<00:00, 122.94it/s, now=None]\u001b[A\n",
      "t:  63%|██████▎   | 63/100 [00:00<00:00, 120.70it/s, now=None]\u001b[A\n",
      "t:  76%|███████▌  | 76/100 [00:00<00:00, 121.87it/s, now=None]\u001b[A\n",
      "t:  89%|████████▉ | 89/100 [00:00<00:00, 121.72it/s, now=None]\u001b[A\n",
      "Episode 8500:  42%|████▏     | 8500/20001 [1:25:05<1:46:02,  1.81it/s, episode_loss=tf.Tensor(5.1548314, shape=(), dtype=float32), episode_reward=tf.Tensor(72.0, shape=(), dtype=float32)] \n",
      "t:   0%|          | 0/100 [00:00<?, ?it/s, now=None]\u001b[A\n",
      "t:  14%|█▍        | 14/100 [00:00<00:00, 136.16it/s, now=None]\u001b[A"
     ]
    },
    {
     "name": "stdout",
     "output_type": "stream",
     "text": [
      "MoviePy - Building file keras_train_1006-182031/frames/train_8500.gif with imageio.\n"
     ]
    },
    {
     "name": "stderr",
     "output_type": "stream",
     "text": [
      "\n",
      "t:  27%|██▋       | 27/100 [00:00<00:00, 131.01it/s, now=None]\u001b[A\n",
      "t:  40%|████      | 40/100 [00:00<00:00, 128.16it/s, now=None]\u001b[A\n",
      "t:  53%|█████▎    | 53/100 [00:00<00:00, 126.24it/s, now=None]\u001b[A\n",
      "t:  65%|██████▌   | 65/100 [00:00<00:00, 124.16it/s, now=None]\u001b[A\n",
      "t:  78%|███████▊  | 78/100 [00:00<00:00, 123.38it/s, now=None]\u001b[A\n",
      "t:  91%|█████████ | 91/100 [00:00<00:00, 122.75it/s, now=None]\u001b[A\n",
      "Episode 8600:  43%|████▎     | 8600/20001 [1:26:01<1:46:48,  1.78it/s, episode_loss=tf.Tensor(6.3059397, shape=(), dtype=float32), episode_reward=tf.Tensor(71.0, shape=(), dtype=float32)] \n",
      "t:   0%|          | 0/100 [00:00<?, ?it/s, now=None]\u001b[A\n",
      "t:  14%|█▍        | 14/100 [00:00<00:00, 133.14it/s, now=None]\u001b[A"
     ]
    },
    {
     "name": "stdout",
     "output_type": "stream",
     "text": [
      "MoviePy - Building file keras_train_1006-182031/frames/train_8600.gif with imageio.\n"
     ]
    },
    {
     "name": "stderr",
     "output_type": "stream",
     "text": [
      "\n",
      "t:  27%|██▋       | 27/100 [00:00<00:00, 129.33it/s, now=None]\u001b[A\n",
      "t:  40%|████      | 40/100 [00:00<00:00, 126.89it/s, now=None]\u001b[A\n",
      "t:  53%|█████▎    | 53/100 [00:00<00:00, 125.08it/s, now=None]\u001b[A\n",
      "t:  66%|██████▌   | 66/100 [00:00<00:00, 124.41it/s, now=None]\u001b[A\n",
      "t:  79%|███████▉  | 79/100 [00:00<00:00, 123.84it/s, now=None]\u001b[A\n",
      "t:  92%|█████████▏| 92/100 [00:00<00:00, 122.85it/s, now=None]\u001b[A\n",
      "Episode 8700:  43%|████▎     | 8700/20001 [1:26:58<1:44:17,  1.81it/s, episode_loss=tf.Tensor(3.0897193, shape=(), dtype=float32), episode_reward=tf.Tensor(78.0, shape=(), dtype=float32)] \n",
      "t:   0%|          | 0/100 [00:00<?, ?it/s, now=None]\u001b[A\n",
      "t:  14%|█▍        | 14/100 [00:00<00:00, 135.54it/s, now=None]\u001b[A"
     ]
    },
    {
     "name": "stdout",
     "output_type": "stream",
     "text": [
      "MoviePy - Building file keras_train_1006-182031/frames/train_8700.gif with imageio.\n"
     ]
    },
    {
     "name": "stderr",
     "output_type": "stream",
     "text": [
      "\n",
      "t:  26%|██▌       | 26/100 [00:00<00:00, 129.88it/s, now=None]\u001b[A\n",
      "t:  39%|███▉      | 39/100 [00:00<00:00, 127.72it/s, now=None]\u001b[A\n",
      "t:  51%|█████     | 51/100 [00:00<00:00, 125.23it/s, now=None]\u001b[A\n",
      "t:  64%|██████▍   | 64/100 [00:00<00:00, 123.78it/s, now=None]\u001b[A\n",
      "t:  77%|███████▋  | 77/100 [00:00<00:00, 123.09it/s, now=None]\u001b[A\n",
      "t:  90%|█████████ | 90/100 [00:00<00:00, 122.94it/s, now=None]\u001b[A\n",
      "Episode 8800:  44%|████▍     | 8800/20001 [1:27:55<1:43:22,  1.81it/s, episode_loss=tf.Tensor(9.735967, shape=(), dtype=float32), episode_reward=tf.Tensor(48.0, shape=(), dtype=float32)]  \n",
      "t:   0%|          | 0/100 [00:00<?, ?it/s, now=None]\u001b[A\n",
      "t:  14%|█▍        | 14/100 [00:00<00:00, 134.95it/s, now=None]\u001b[A"
     ]
    },
    {
     "name": "stdout",
     "output_type": "stream",
     "text": [
      "MoviePy - Building file keras_train_1006-182031/frames/train_8800.gif with imageio.\n"
     ]
    },
    {
     "name": "stderr",
     "output_type": "stream",
     "text": [
      "\n",
      "t:  27%|██▋       | 27/100 [00:00<00:00, 130.33it/s, now=None]\u001b[A\n",
      "t:  39%|███▉      | 39/100 [00:00<00:00, 125.07it/s, now=None]\u001b[A\n",
      "t:  52%|█████▏    | 52/100 [00:00<00:00, 124.15it/s, now=None]\u001b[A\n",
      "t:  65%|██████▌   | 65/100 [00:00<00:00, 124.06it/s, now=None]\u001b[A\n",
      "t:  78%|███████▊  | 78/100 [00:00<00:00, 123.98it/s, now=None]\u001b[A\n",
      "t:  90%|█████████ | 90/100 [00:00<00:00, 122.62it/s, now=None]\u001b[A\n",
      "Episode 8900:  44%|████▍     | 8900/20001 [1:28:52<1:42:37,  1.80it/s, episode_loss=tf.Tensor(5.419061, shape=(), dtype=float32), episode_reward=tf.Tensor(91.0, shape=(), dtype=float32)]  \n",
      "t:   0%|          | 0/100 [00:00<?, ?it/s, now=None]\u001b[A\n",
      "t:  15%|█▌        | 15/100 [00:00<00:00, 142.49it/s, now=None]\u001b[A"
     ]
    },
    {
     "name": "stdout",
     "output_type": "stream",
     "text": [
      "MoviePy - Building file keras_train_1006-182031/frames/train_8900.gif with imageio.\n"
     ]
    },
    {
     "name": "stderr",
     "output_type": "stream",
     "text": [
      "\n",
      "t:  28%|██▊       | 28/100 [00:00<00:00, 138.24it/s, now=None]\u001b[A\n",
      "t:  42%|████▏     | 42/100 [00:00<00:00, 136.03it/s, now=None]\u001b[A\n",
      "t:  56%|█████▌    | 56/100 [00:00<00:00, 134.53it/s, now=None]\u001b[A\n",
      "t:  70%|███████   | 70/100 [00:00<00:00, 133.65it/s, now=None]\u001b[A\n",
      "t:  84%|████████▍ | 84/100 [00:00<00:00, 133.44it/s, now=None]\u001b[A\n",
      "t:  98%|█████████▊| 98/100 [00:00<00:00, 134.28it/s, now=None]\u001b[A\n",
      "Episode 9000:  45%|████▍     | 9000/20001 [1:29:49<1:43:00,  1.78it/s, episode_loss=tf.Tensor(4.7393947, shape=(), dtype=float32), episode_reward=tf.Tensor(55.0, shape=(), dtype=float32)] \n",
      "t:   0%|          | 0/100 [00:00<?, ?it/s, now=None]\u001b[A\n",
      "t:  13%|█▎        | 13/100 [00:00<00:00, 128.32it/s, now=None]\u001b[A"
     ]
    },
    {
     "name": "stdout",
     "output_type": "stream",
     "text": [
      "MoviePy - Building file keras_train_1006-182031/frames/train_9000.gif with imageio.\n"
     ]
    },
    {
     "name": "stderr",
     "output_type": "stream",
     "text": [
      "\n",
      "t:  25%|██▌       | 25/100 [00:00<00:00, 125.65it/s, now=None]\u001b[A\n",
      "t:  37%|███▋      | 37/100 [00:00<00:00, 123.72it/s, now=None]\u001b[A\n",
      "t:  49%|████▉     | 49/100 [00:00<00:00, 119.96it/s, now=None]\u001b[A\n",
      "t:  62%|██████▏   | 62/100 [00:00<00:00, 121.48it/s, now=None]\u001b[A\n",
      "t:  75%|███████▌  | 75/100 [00:00<00:00, 121.59it/s, now=None]\u001b[A\n",
      "t:  87%|████████▋ | 87/100 [00:00<00:00, 121.08it/s, now=None]\u001b[A\n",
      "t: 100%|██████████| 100/100 [00:00<00:00, 120.98it/s, now=None]\u001b[A\n",
      "Episode 9100:  45%|████▌     | 9100/20001 [1:30:45<1:41:07,  1.80it/s, episode_loss=tf.Tensor(4.801449, shape=(), dtype=float32), episode_reward=tf.Tensor(42.0, shape=(), dtype=float32)]  \n",
      "t:   0%|          | 0/100 [00:00<?, ?it/s, now=None]\u001b[A\n",
      "t:  14%|█▍        | 14/100 [00:00<00:00, 130.44it/s, now=None]\u001b[A"
     ]
    },
    {
     "name": "stdout",
     "output_type": "stream",
     "text": [
      "MoviePy - Building file keras_train_1006-182031/frames/train_9100.gif with imageio.\n"
     ]
    },
    {
     "name": "stderr",
     "output_type": "stream",
     "text": [
      "\n",
      "t:  26%|██▌       | 26/100 [00:00<00:00, 125.97it/s, now=None]\u001b[A\n",
      "t:  38%|███▊      | 38/100 [00:00<00:00, 123.79it/s, now=None]\u001b[A\n",
      "t:  51%|█████     | 51/100 [00:00<00:00, 123.66it/s, now=None]\u001b[A\n",
      "t:  64%|██████▍   | 64/100 [00:00<00:00, 123.03it/s, now=None]\u001b[A\n",
      "t:  77%|███████▋  | 77/100 [00:00<00:00, 123.01it/s, now=None]\u001b[A\n",
      "t:  90%|█████████ | 90/100 [00:00<00:00, 123.12it/s, now=None]\u001b[A\n",
      "Episode 9200:  46%|████▌     | 9200/20001 [1:31:42<1:40:08,  1.80it/s, episode_loss=tf.Tensor(5.82779, shape=(), dtype=float32), episode_reward=tf.Tensor(92.0, shape=(), dtype=float32)]    \n",
      "t:   0%|          | 0/100 [00:00<?, ?it/s, now=None]\u001b[A\n",
      "t:  14%|█▍        | 14/100 [00:00<00:00, 132.07it/s, now=None]\u001b[A"
     ]
    },
    {
     "name": "stdout",
     "output_type": "stream",
     "text": [
      "MoviePy - Building file keras_train_1006-182031/frames/train_9200.gif with imageio.\n"
     ]
    },
    {
     "name": "stderr",
     "output_type": "stream",
     "text": [
      "\n",
      "t:  26%|██▌       | 26/100 [00:00<00:00, 127.77it/s, now=None]\u001b[A\n",
      "t:  38%|███▊      | 38/100 [00:00<00:00, 125.15it/s, now=None]\u001b[A\n",
      "t:  50%|█████     | 50/100 [00:00<00:00, 122.93it/s, now=None]\u001b[A\n",
      "t:  63%|██████▎   | 63/100 [00:00<00:00, 122.32it/s, now=None]\u001b[A\n",
      "t:  76%|███████▌  | 76/100 [00:00<00:00, 121.90it/s, now=None]\u001b[A\n",
      "t:  88%|████████▊ | 88/100 [00:00<00:00, 121.31it/s, now=None]\u001b[A\n",
      "Episode 9300:  46%|████▋     | 9300/20001 [1:32:39<1:44:36,  1.70it/s, episode_loss=tf.Tensor(4.892925, shape=(), dtype=float32), episode_reward=tf.Tensor(19.0, shape=(), dtype=float32)] \n",
      "t:   0%|          | 0/100 [00:00<?, ?it/s, now=None]\u001b[A\n",
      "t:  13%|█▎        | 13/100 [00:00<00:00, 129.10it/s, now=None]\u001b[A"
     ]
    },
    {
     "name": "stdout",
     "output_type": "stream",
     "text": [
      "MoviePy - Building file keras_train_1006-182031/frames/train_9300.gif with imageio.\n"
     ]
    },
    {
     "name": "stderr",
     "output_type": "stream",
     "text": [
      "\n",
      "t:  25%|██▌       | 25/100 [00:00<00:00, 123.61it/s, now=None]\u001b[A\n",
      "t:  37%|███▋      | 37/100 [00:00<00:00, 120.65it/s, now=None]\u001b[A\n",
      "t:  49%|████▉     | 49/100 [00:00<00:00, 118.39it/s, now=None]\u001b[A\n",
      "t:  61%|██████    | 61/100 [00:00<00:00, 116.25it/s, now=None]\u001b[A\n",
      "t:  73%|███████▎  | 73/100 [00:00<00:00, 115.05it/s, now=None]\u001b[A\n",
      "t:  85%|████████▌ | 85/100 [00:00<00:00, 116.27it/s, now=None]\u001b[A\n",
      "t:  97%|█████████▋| 97/100 [00:00<00:00, 117.23it/s, now=None]\u001b[A\n",
      "Episode 9400:  47%|████▋     | 9400/20001 [1:33:36<1:38:08,  1.80it/s, episode_loss=tf.Tensor(10.061526, shape=(), dtype=float32), episode_reward=tf.Tensor(64.0, shape=(), dtype=float32)]  \n",
      "t:   0%|          | 0/100 [00:00<?, ?it/s, now=None]\u001b[A\n",
      "t:  14%|█▍        | 14/100 [00:00<00:00, 135.70it/s, now=None]\u001b[A"
     ]
    },
    {
     "name": "stdout",
     "output_type": "stream",
     "text": [
      "MoviePy - Building file keras_train_1006-182031/frames/train_9400.gif with imageio.\n"
     ]
    },
    {
     "name": "stderr",
     "output_type": "stream",
     "text": [
      "\n",
      "t:  26%|██▌       | 26/100 [00:00<00:00, 129.76it/s, now=None]\u001b[A\n",
      "t:  39%|███▉      | 39/100 [00:00<00:00, 127.16it/s, now=None]\u001b[A\n",
      "t:  52%|█████▏    | 52/100 [00:00<00:00, 125.34it/s, now=None]\u001b[A\n",
      "t:  65%|██████▌   | 65/100 [00:00<00:00, 124.94it/s, now=None]\u001b[A\n",
      "t:  78%|███████▊  | 78/100 [00:00<00:00, 125.29it/s, now=None]\u001b[A\n",
      "t:  91%|█████████ | 91/100 [00:00<00:00, 125.34it/s, now=None]\u001b[A\n",
      "Episode 9500:  47%|████▋     | 9500/20001 [1:34:32<1:37:27,  1.80it/s, episode_loss=tf.Tensor(6.0139184, shape=(), dtype=float32), episode_reward=tf.Tensor(94.0, shape=(), dtype=float32)] \n",
      "t:   0%|          | 0/100 [00:00<?, ?it/s, now=None]\u001b[A\n",
      "t:  15%|█▌        | 15/100 [00:00<00:00, 146.22it/s, now=None]\u001b[A"
     ]
    },
    {
     "name": "stdout",
     "output_type": "stream",
     "text": [
      "MoviePy - Building file keras_train_1006-182031/frames/train_9500.gif with imageio.\n"
     ]
    },
    {
     "name": "stderr",
     "output_type": "stream",
     "text": [
      "\n",
      "t:  29%|██▉       | 29/100 [00:00<00:00, 141.58it/s, now=None]\u001b[A\n",
      "t:  43%|████▎     | 43/100 [00:00<00:00, 139.18it/s, now=None]\u001b[A\n",
      "t:  57%|█████▋    | 57/100 [00:00<00:00, 137.53it/s, now=None]\u001b[A\n",
      "t:  71%|███████   | 71/100 [00:00<00:00, 137.30it/s, now=None]\u001b[A\n",
      "t:  85%|████████▌ | 85/100 [00:00<00:00, 136.76it/s, now=None]\u001b[A\n",
      "t:  99%|█████████▉| 99/100 [00:00<00:00, 136.65it/s, now=None]\u001b[A\n",
      "Episode 9600:  48%|████▊     | 9600/20001 [1:35:29<1:36:17,  1.80it/s, episode_loss=tf.Tensor(4.737607, shape=(), dtype=float32), episode_reward=tf.Tensor(88.0, shape=(), dtype=float32)]  \n",
      "t:   0%|          | 0/100 [00:00<?, ?it/s, now=None]\u001b[A\n",
      "t:  15%|█▌        | 15/100 [00:00<00:00, 144.74it/s, now=None]\u001b[A"
     ]
    },
    {
     "name": "stdout",
     "output_type": "stream",
     "text": [
      "MoviePy - Building file keras_train_1006-182031/frames/train_9600.gif with imageio.\n"
     ]
    },
    {
     "name": "stderr",
     "output_type": "stream",
     "text": [
      "\n",
      "t:  28%|██▊       | 28/100 [00:00<00:00, 139.54it/s, now=None]\u001b[A\n",
      "t:  42%|████▏     | 42/100 [00:00<00:00, 137.78it/s, now=None]\u001b[A\n",
      "t:  56%|█████▌    | 56/100 [00:00<00:00, 137.06it/s, now=None]\u001b[A\n",
      "t:  70%|███████   | 70/100 [00:00<00:00, 136.54it/s, now=None]\u001b[A\n",
      "t:  84%|████████▍ | 84/100 [00:00<00:00, 135.42it/s, now=None]\u001b[A\n",
      "t:  98%|█████████▊| 98/100 [00:00<00:00, 134.65it/s, now=None]\u001b[A\n",
      "Episode 9700:  48%|████▊     | 9700/20001 [1:36:26<1:37:57,  1.75it/s, episode_loss=tf.Tensor(3.5339487, shape=(), dtype=float32), episode_reward=tf.Tensor(43.0, shape=(), dtype=float32)] \n",
      "t:   0%|          | 0/100 [00:00<?, ?it/s, now=None]\u001b[A\n",
      "t:  14%|█▍        | 14/100 [00:00<00:00, 131.85it/s, now=None]\u001b[A"
     ]
    },
    {
     "name": "stdout",
     "output_type": "stream",
     "text": [
      "MoviePy - Building file keras_train_1006-182031/frames/train_9700.gif with imageio.\n"
     ]
    },
    {
     "name": "stderr",
     "output_type": "stream",
     "text": [
      "\n",
      "t:  26%|██▌       | 26/100 [00:00<00:00, 127.55it/s, now=None]\u001b[A\n",
      "t:  38%|███▊      | 38/100 [00:00<00:00, 124.84it/s, now=None]\u001b[A\n",
      "t:  51%|█████     | 51/100 [00:00<00:00, 123.75it/s, now=None]\u001b[A\n",
      "t:  64%|██████▍   | 64/100 [00:00<00:00, 122.99it/s, now=None]\u001b[A\n",
      "t:  77%|███████▋  | 77/100 [00:00<00:00, 123.30it/s, now=None]\u001b[A\n",
      "t:  90%|█████████ | 90/100 [00:00<00:00, 123.07it/s, now=None]\u001b[A\n",
      "Episode 9800:  49%|████▉     | 9800/20001 [1:37:22<1:33:55,  1.81it/s, episode_loss=tf.Tensor(4.2680697, shape=(), dtype=float32), episode_reward=tf.Tensor(80.0, shape=(), dtype=float32)]  \n",
      "t:   0%|          | 0/100 [00:00<?, ?it/s, now=None]\u001b[A\n",
      "t:  13%|█▎        | 13/100 [00:00<00:00, 129.87it/s, now=None]\u001b[A"
     ]
    },
    {
     "name": "stdout",
     "output_type": "stream",
     "text": [
      "MoviePy - Building file keras_train_1006-182031/frames/train_9800.gif with imageio.\n"
     ]
    },
    {
     "name": "stderr",
     "output_type": "stream",
     "text": [
      "\n",
      "t:  25%|██▌       | 25/100 [00:00<00:00, 126.50it/s, now=None]\u001b[A\n",
      "t:  38%|███▊      | 38/100 [00:00<00:00, 124.81it/s, now=None]\u001b[A\n",
      "t:  50%|█████     | 50/100 [00:00<00:00, 123.02it/s, now=None]\u001b[A\n",
      "t:  62%|██████▏   | 62/100 [00:00<00:00, 121.80it/s, now=None]\u001b[A\n",
      "t:  74%|███████▍  | 74/100 [00:00<00:00, 121.02it/s, now=None]\u001b[A\n",
      "t:  86%|████████▌ | 86/100 [00:00<00:00, 120.57it/s, now=None]\u001b[A\n",
      "t:  99%|█████████▉| 99/100 [00:00<00:00, 120.96it/s, now=None]\u001b[A\n",
      "Episode 9900:  49%|████▉     | 9900/20001 [1:38:19<1:33:45,  1.80it/s, episode_loss=tf.Tensor(4.117141, shape=(), dtype=float32), episode_reward=tf.Tensor(82.0, shape=(), dtype=float32)]   \n",
      "t:   0%|          | 0/100 [00:00<?, ?it/s, now=None]\u001b[A\n",
      "t:  14%|█▍        | 14/100 [00:00<00:00, 132.31it/s, now=None]\u001b[A"
     ]
    },
    {
     "name": "stdout",
     "output_type": "stream",
     "text": [
      "MoviePy - Building file keras_train_1006-182031/frames/train_9900.gif with imageio.\n"
     ]
    },
    {
     "name": "stderr",
     "output_type": "stream",
     "text": [
      "\n",
      "t:  26%|██▌       | 26/100 [00:00<00:00, 127.88it/s, now=None]\u001b[A\n",
      "t:  39%|███▉      | 39/100 [00:00<00:00, 125.80it/s, now=None]\u001b[A\n",
      "t:  52%|█████▏    | 52/100 [00:00<00:00, 125.02it/s, now=None]\u001b[A\n",
      "t:  65%|██████▌   | 65/100 [00:00<00:00, 124.72it/s, now=None]\u001b[A\n",
      "t:  77%|███████▋  | 77/100 [00:00<00:00, 123.26it/s, now=None]\u001b[A\n",
      "t:  90%|█████████ | 90/100 [00:00<00:00, 122.49it/s, now=None]\u001b[A\n",
      "Episode 10000:  50%|████▉     | 10000/20001 [1:39:18<1:40:38,  1.66it/s, episode_loss=tf.Tensor(7.5747356, shape=(), dtype=float32), episode_reward=tf.Tensor(52.0, shape=(), dtype=float32)]\n",
      "t:   0%|          | 0/100 [00:00<?, ?it/s, now=None]\u001b[A\n",
      "t:  13%|█▎        | 13/100 [00:00<00:00, 127.02it/s, now=None]\u001b[A"
     ]
    },
    {
     "name": "stdout",
     "output_type": "stream",
     "text": [
      "MoviePy - Building file keras_train_1006-182031/frames/train_10000.gif with imageio.\n"
     ]
    },
    {
     "name": "stderr",
     "output_type": "stream",
     "text": [
      "\n",
      "t:  25%|██▌       | 25/100 [00:00<00:00, 123.59it/s, now=None]\u001b[A\n",
      "t:  37%|███▋      | 37/100 [00:00<00:00, 121.95it/s, now=None]\u001b[A\n",
      "t:  49%|████▉     | 49/100 [00:00<00:00, 120.53it/s, now=None]\u001b[A\n",
      "t:  62%|██████▏   | 62/100 [00:00<00:00, 121.05it/s, now=None]\u001b[A\n",
      "t:  75%|███████▌  | 75/100 [00:00<00:00, 121.44it/s, now=None]\u001b[A\n",
      "t:  87%|████████▋ | 87/100 [00:00<00:00, 120.19it/s, now=None]\u001b[A\n",
      "t:  99%|█████████▉| 99/100 [00:00<00:00, 119.60it/s, now=None]\u001b[A\n",
      "Episode 10100:  50%|█████     | 10100/20001 [1:40:17<1:35:01,  1.74it/s, episode_loss=tf.Tensor(9.890621, shape=(), dtype=float32), episode_reward=tf.Tensor(86.0, shape=(), dtype=float32)]  \n",
      "t:   0%|          | 0/100 [00:00<?, ?it/s, now=None]\u001b[A\n",
      "t:  15%|█▌        | 15/100 [00:00<00:00, 142.53it/s, now=None]\u001b[A"
     ]
    },
    {
     "name": "stdout",
     "output_type": "stream",
     "text": [
      "MoviePy - Building file keras_train_1006-182031/frames/train_10100.gif with imageio.\n"
     ]
    },
    {
     "name": "stderr",
     "output_type": "stream",
     "text": [
      "\n",
      "t:  28%|██▊       | 28/100 [00:00<00:00, 138.46it/s, now=None]\u001b[A\n",
      "t:  42%|████▏     | 42/100 [00:00<00:00, 136.14it/s, now=None]\u001b[A\n",
      "t:  56%|█████▌    | 56/100 [00:00<00:00, 134.40it/s, now=None]\u001b[A\n",
      "t:  70%|███████   | 70/100 [00:00<00:00, 133.23it/s, now=None]\u001b[A\n",
      "t:  84%|████████▍ | 84/100 [00:00<00:00, 134.02it/s, now=None]\u001b[A\n",
      "t:  98%|█████████▊| 98/100 [00:00<00:00, 133.41it/s, now=None]\u001b[A\n",
      "Episode 10200:  51%|█████     | 10200/20001 [1:41:16<1:34:55,  1.72it/s, episode_loss=tf.Tensor(5.306566, shape=(), dtype=float32), episode_reward=tf.Tensor(37.0, shape=(), dtype=float32)]  \n",
      "t:   0%|          | 0/100 [00:00<?, ?it/s, now=None]\u001b[A\n",
      "t:  13%|█▎        | 13/100 [00:00<00:00, 128.33it/s, now=None]\u001b[A"
     ]
    },
    {
     "name": "stdout",
     "output_type": "stream",
     "text": [
      "MoviePy - Building file keras_train_1006-182031/frames/train_10200.gif with imageio.\n"
     ]
    },
    {
     "name": "stderr",
     "output_type": "stream",
     "text": [
      "\n",
      "t:  25%|██▌       | 25/100 [00:00<00:00, 124.47it/s, now=None]\u001b[A\n",
      "t:  37%|███▋      | 37/100 [00:00<00:00, 122.45it/s, now=None]\u001b[A\n",
      "t:  50%|█████     | 50/100 [00:00<00:00, 121.98it/s, now=None]\u001b[A\n",
      "t:  63%|██████▎   | 63/100 [00:00<00:00, 122.01it/s, now=None]\u001b[A\n",
      "t:  75%|███████▌  | 75/100 [00:00<00:00, 121.25it/s, now=None]\u001b[A\n",
      "t:  88%|████████▊ | 88/100 [00:00<00:00, 121.06it/s, now=None]\u001b[A\n",
      "Episode 10300:  51%|█████▏    | 10300/20001 [1:42:15<1:33:36,  1.73it/s, episode_loss=tf.Tensor(3.5000606, shape=(), dtype=float32), episode_reward=tf.Tensor(69.0, shape=(), dtype=float32)]  \n",
      "t:   0%|          | 0/100 [00:00<?, ?it/s, now=None]\u001b[A\n",
      "t:  14%|█▍        | 14/100 [00:00<00:00, 130.81it/s, now=None]\u001b[A"
     ]
    },
    {
     "name": "stdout",
     "output_type": "stream",
     "text": [
      "MoviePy - Building file keras_train_1006-182031/frames/train_10300.gif with imageio.\n"
     ]
    },
    {
     "name": "stderr",
     "output_type": "stream",
     "text": [
      "\n",
      "t:  26%|██▌       | 26/100 [00:00<00:00, 126.64it/s, now=None]\u001b[A\n",
      "t:  39%|███▉      | 39/100 [00:00<00:00, 124.93it/s, now=None]\u001b[A\n",
      "t:  52%|█████▏    | 52/100 [00:00<00:00, 124.22it/s, now=None]\u001b[A\n",
      "t:  65%|██████▌   | 65/100 [00:00<00:00, 123.42it/s, now=None]\u001b[A\n",
      "t:  77%|███████▋  | 77/100 [00:00<00:00, 122.22it/s, now=None]\u001b[A\n",
      "t:  90%|█████████ | 90/100 [00:00<00:00, 122.24it/s, now=None]\u001b[A\n",
      "Episode 10400:  52%|█████▏    | 10400/20001 [1:43:15<1:34:51,  1.69it/s, episode_loss=tf.Tensor(4.482398, shape=(), dtype=float32), episode_reward=tf.Tensor(88.0, shape=(), dtype=float32)]   \n",
      "t:   0%|          | 0/100 [00:00<?, ?it/s, now=None]\u001b[A\n",
      "t:  15%|█▌        | 15/100 [00:00<00:00, 144.77it/s, now=None]\u001b[A"
     ]
    },
    {
     "name": "stdout",
     "output_type": "stream",
     "text": [
      "MoviePy - Building file keras_train_1006-182031/frames/train_10400.gif with imageio.\n"
     ]
    },
    {
     "name": "stderr",
     "output_type": "stream",
     "text": [
      "\n",
      "t:  29%|██▉       | 29/100 [00:00<00:00, 140.63it/s, now=None]\u001b[A\n",
      "t:  43%|████▎     | 43/100 [00:00<00:00, 137.63it/s, now=None]\u001b[A\n",
      "t:  57%|█████▋    | 57/100 [00:00<00:00, 135.71it/s, now=None]\u001b[A\n",
      "t:  70%|███████   | 70/100 [00:00<00:00, 133.58it/s, now=None]\u001b[A\n",
      "t:  84%|████████▍ | 84/100 [00:00<00:00, 134.00it/s, now=None]\u001b[A\n",
      "t:  98%|█████████▊| 98/100 [00:00<00:00, 134.13it/s, now=None]\u001b[A\n",
      "Episode 10500:  52%|█████▏    | 10500/20001 [1:44:14<1:33:09,  1.70it/s, episode_loss=tf.Tensor(2.2478278, shape=(), dtype=float32), episode_reward=tf.Tensor(77.0, shape=(), dtype=float32)]  \n",
      "t:   0%|          | 0/100 [00:00<?, ?it/s, now=None]\u001b[A\n",
      "t:  14%|█▍        | 14/100 [00:00<00:00, 130.93it/s, now=None]\u001b[A"
     ]
    },
    {
     "name": "stdout",
     "output_type": "stream",
     "text": [
      "MoviePy - Building file keras_train_1006-182031/frames/train_10500.gif with imageio.\n"
     ]
    },
    {
     "name": "stderr",
     "output_type": "stream",
     "text": [
      "\n",
      "t:  26%|██▌       | 26/100 [00:00<00:00, 126.82it/s, now=None]\u001b[A\n",
      "t:  38%|███▊      | 38/100 [00:00<00:00, 123.95it/s, now=None]\u001b[A\n",
      "t:  50%|█████     | 50/100 [00:00<00:00, 121.79it/s, now=None]\u001b[A\n",
      "t:  63%|██████▎   | 63/100 [00:00<00:00, 121.88it/s, now=None]\u001b[A\n",
      "t:  75%|███████▌  | 75/100 [00:00<00:00, 119.05it/s, now=None]\u001b[A\n",
      "t:  88%|████████▊ | 88/100 [00:00<00:00, 119.52it/s, now=None]\u001b[A\n",
      "Episode 10600:  53%|█████▎    | 10600/20001 [1:45:15<1:35:34,  1.64it/s, episode_loss=tf.Tensor(9.902339, shape=(), dtype=float32), episode_reward=tf.Tensor(90.0, shape=(), dtype=float32)] \n",
      "t:   0%|          | 0/100 [00:00<?, ?it/s, now=None]\u001b[A\n",
      "t:  15%|█▌        | 15/100 [00:00<00:00, 142.00it/s, now=None]\u001b[A"
     ]
    },
    {
     "name": "stdout",
     "output_type": "stream",
     "text": [
      "MoviePy - Building file keras_train_1006-182031/frames/train_10600.gif with imageio.\n"
     ]
    },
    {
     "name": "stderr",
     "output_type": "stream",
     "text": [
      "\n",
      "t:  28%|██▊       | 28/100 [00:00<00:00, 136.51it/s, now=None]\u001b[A\n",
      "t:  41%|████      | 41/100 [00:00<00:00, 133.79it/s, now=None]\u001b[A\n",
      "t:  54%|█████▍    | 54/100 [00:00<00:00, 132.20it/s, now=None]\u001b[A\n",
      "t:  67%|██████▋   | 67/100 [00:00<00:00, 130.55it/s, now=None]\u001b[A\n",
      "t:  80%|████████  | 80/100 [00:00<00:00, 128.74it/s, now=None]\u001b[A\n",
      "t:  94%|█████████▍| 94/100 [00:00<00:00, 129.83it/s, now=None]\u001b[A\n",
      "Episode 10700:  53%|█████▎    | 10700/20001 [1:46:13<1:31:13,  1.70it/s, episode_loss=tf.Tensor(4.7340994, shape=(), dtype=float32), episode_reward=tf.Tensor(64.0, shape=(), dtype=float32)] \n",
      "t:   0%|          | 0/100 [00:00<?, ?it/s, now=None]\u001b[A\n",
      "t:  15%|█▌        | 15/100 [00:00<00:00, 142.77it/s, now=None]\u001b[A"
     ]
    },
    {
     "name": "stdout",
     "output_type": "stream",
     "text": [
      "MoviePy - Building file keras_train_1006-182031/frames/train_10700.gif with imageio.\n"
     ]
    },
    {
     "name": "stderr",
     "output_type": "stream",
     "text": [
      "\n",
      "t:  28%|██▊       | 28/100 [00:00<00:00, 137.02it/s, now=None]\u001b[A\n",
      "t:  41%|████      | 41/100 [00:00<00:00, 133.69it/s, now=None]\u001b[A\n",
      "t:  54%|█████▍    | 54/100 [00:00<00:00, 131.01it/s, now=None]\u001b[A\n",
      "t:  67%|██████▋   | 67/100 [00:00<00:00, 129.56it/s, now=None]\u001b[A\n",
      "t:  80%|████████  | 80/100 [00:00<00:00, 128.26it/s, now=None]\u001b[A\n",
      "t:  93%|█████████▎| 93/100 [00:00<00:00, 127.32it/s, now=None]\u001b[A\n",
      "Episode 10800:  54%|█████▍    | 10800/20001 [1:47:10<1:26:18,  1.78it/s, episode_loss=tf.Tensor(8.340938, shape=(), dtype=float32), episode_reward=tf.Tensor(69.0, shape=(), dtype=float32)]   \n",
      "t:   0%|          | 0/100 [00:00<?, ?it/s, now=None]\u001b[A\n",
      "t:  15%|█▌        | 15/100 [00:00<00:00, 143.15it/s, now=None]\u001b[A"
     ]
    },
    {
     "name": "stdout",
     "output_type": "stream",
     "text": [
      "MoviePy - Building file keras_train_1006-182031/frames/train_10800.gif with imageio.\n"
     ]
    },
    {
     "name": "stderr",
     "output_type": "stream",
     "text": [
      "\n",
      "t:  29%|██▉       | 29/100 [00:00<00:00, 139.64it/s, now=None]\u001b[A\n",
      "t:  43%|████▎     | 43/100 [00:00<00:00, 137.18it/s, now=None]\u001b[A\n",
      "t:  57%|█████▋    | 57/100 [00:00<00:00, 135.72it/s, now=None]\u001b[A\n",
      "t:  71%|███████   | 71/100 [00:00<00:00, 134.77it/s, now=None]\u001b[A\n",
      "t:  85%|████████▌ | 85/100 [00:00<00:00, 134.23it/s, now=None]\u001b[A\n",
      "t:  98%|█████████▊| 98/100 [00:00<00:00, 130.94it/s, now=None]\u001b[A\n",
      "Episode 10900:  54%|█████▍    | 10900/20001 [1:48:07<1:24:22,  1.80it/s, episode_loss=tf.Tensor(6.888968, shape=(), dtype=float32), episode_reward=tf.Tensor(87.0, shape=(), dtype=float32)]  \n",
      "t:   0%|          | 0/100 [00:00<?, ?it/s, now=None]\u001b[A\n",
      "t:  14%|█▍        | 14/100 [00:00<00:00, 131.71it/s, now=None]\u001b[A"
     ]
    },
    {
     "name": "stdout",
     "output_type": "stream",
     "text": [
      "MoviePy - Building file keras_train_1006-182031/frames/train_10900.gif with imageio.\n"
     ]
    },
    {
     "name": "stderr",
     "output_type": "stream",
     "text": [
      "\n",
      "t:  26%|██▌       | 26/100 [00:00<00:00, 127.56it/s, now=None]\u001b[A\n",
      "t:  38%|███▊      | 38/100 [00:00<00:00, 125.12it/s, now=None]\u001b[A\n",
      "t:  51%|█████     | 51/100 [00:00<00:00, 123.87it/s, now=None]\u001b[A\n",
      "t:  63%|██████▎   | 63/100 [00:00<00:00, 122.54it/s, now=None]\u001b[A\n",
      "t:  76%|███████▌  | 76/100 [00:00<00:00, 122.79it/s, now=None]\u001b[A\n",
      "t:  89%|████████▉ | 89/100 [00:00<00:00, 122.88it/s, now=None]\u001b[A\n",
      "Episode 11000:  55%|█████▍    | 11000/20001 [1:49:04<1:23:53,  1.79it/s, episode_loss=tf.Tensor(3.9100187, shape=(), dtype=float32), episode_reward=tf.Tensor(89.0, shape=(), dtype=float32)] \n",
      "t:   0%|          | 0/100 [00:00<?, ?it/s, now=None]\u001b[A\n",
      "t:  15%|█▌        | 15/100 [00:00<00:00, 147.01it/s, now=None]\u001b[A"
     ]
    },
    {
     "name": "stdout",
     "output_type": "stream",
     "text": [
      "MoviePy - Building file keras_train_1006-182031/frames/train_11000.gif with imageio.\n"
     ]
    },
    {
     "name": "stderr",
     "output_type": "stream",
     "text": [
      "\n",
      "t:  29%|██▉       | 29/100 [00:00<00:00, 142.12it/s, now=None]\u001b[A\n",
      "t:  43%|████▎     | 43/100 [00:00<00:00, 138.88it/s, now=None]\u001b[A\n",
      "t:  57%|█████▋    | 57/100 [00:00<00:00, 135.95it/s, now=None]\u001b[A\n",
      "t:  70%|███████   | 70/100 [00:00<00:00, 133.30it/s, now=None]\u001b[A\n",
      "t:  84%|████████▍ | 84/100 [00:00<00:00, 134.51it/s, now=None]\u001b[A\n",
      "t:  98%|█████████▊| 98/100 [00:00<00:00, 134.31it/s, now=None]\u001b[A\n",
      "Episode 11100:  55%|█████▌    | 11100/20001 [1:50:01<1:24:18,  1.76it/s, episode_loss=tf.Tensor(4.625006, shape=(), dtype=float32), episode_reward=tf.Tensor(79.0, shape=(), dtype=float32)]  \n",
      "t:   0%|          | 0/100 [00:00<?, ?it/s, now=None]\u001b[A\n",
      "t:  14%|█▍        | 14/100 [00:00<00:00, 129.77it/s, now=None]\u001b[A"
     ]
    },
    {
     "name": "stdout",
     "output_type": "stream",
     "text": [
      "MoviePy - Building file keras_train_1006-182031/frames/train_11100.gif with imageio.\n"
     ]
    },
    {
     "name": "stderr",
     "output_type": "stream",
     "text": [
      "\n",
      "t:  27%|██▋       | 27/100 [00:00<00:00, 127.00it/s, now=None]\u001b[A\n",
      "t:  40%|████      | 40/100 [00:00<00:00, 125.73it/s, now=None]\u001b[A\n",
      "t:  53%|█████▎    | 53/100 [00:00<00:00, 125.08it/s, now=None]\u001b[A\n",
      "t:  65%|██████▌   | 65/100 [00:00<00:00, 123.47it/s, now=None]\u001b[A\n",
      "t:  78%|███████▊  | 78/100 [00:00<00:00, 123.62it/s, now=None]\u001b[A\n",
      "t:  91%|█████████ | 91/100 [00:00<00:00, 123.45it/s, now=None]\u001b[A\n",
      "Episode 11200:  56%|█████▌    | 11200/20001 [1:50:58<1:21:42,  1.80it/s, episode_loss=tf.Tensor(8.172856, shape=(), dtype=float32), episode_reward=tf.Tensor(92.0, shape=(), dtype=float32)]   \n",
      "t:   0%|          | 0/100 [00:00<?, ?it/s, now=None]\u001b[A\n",
      "t:  15%|█▌        | 15/100 [00:00<00:00, 146.29it/s, now=None]\u001b[A"
     ]
    },
    {
     "name": "stdout",
     "output_type": "stream",
     "text": [
      "MoviePy - Building file keras_train_1006-182031/frames/train_11200.gif with imageio.\n"
     ]
    },
    {
     "name": "stderr",
     "output_type": "stream",
     "text": [
      "\n",
      "t:  29%|██▉       | 29/100 [00:00<00:00, 141.66it/s, now=None]\u001b[A\n",
      "t:  43%|████▎     | 43/100 [00:00<00:00, 138.74it/s, now=None]\u001b[A\n",
      "t:  57%|█████▋    | 57/100 [00:00<00:00, 136.72it/s, now=None]\u001b[A\n",
      "t:  71%|███████   | 71/100 [00:00<00:00, 135.35it/s, now=None]\u001b[A\n",
      "t:  85%|████████▌ | 85/100 [00:00<00:00, 134.66it/s, now=None]\u001b[A\n",
      "t:  99%|█████████▉| 99/100 [00:00<00:00, 134.03it/s, now=None]\u001b[A\n",
      "Episode 11300:  56%|█████▋    | 11300/20001 [1:51:55<1:20:46,  1.80it/s, episode_loss=tf.Tensor(3.8451302, shape=(), dtype=float32), episode_reward=tf.Tensor(68.0, shape=(), dtype=float32)]  \n",
      "t:   0%|          | 0/100 [00:00<?, ?it/s, now=None]\u001b[A\n",
      "t:  14%|█▍        | 14/100 [00:00<00:00, 130.62it/s, now=None]\u001b[A"
     ]
    },
    {
     "name": "stdout",
     "output_type": "stream",
     "text": [
      "MoviePy - Building file keras_train_1006-182031/frames/train_11300.gif with imageio.\n"
     ]
    },
    {
     "name": "stderr",
     "output_type": "stream",
     "text": [
      "\n",
      "t:  27%|██▋       | 27/100 [00:00<00:00, 127.42it/s, now=None]\u001b[A\n",
      "t:  39%|███▉      | 39/100 [00:00<00:00, 123.10it/s, now=None]\u001b[A\n",
      "t:  52%|█████▏    | 52/100 [00:00<00:00, 123.15it/s, now=None]\u001b[A\n",
      "t:  65%|██████▌   | 65/100 [00:00<00:00, 123.54it/s, now=None]\u001b[A\n",
      "t:  78%|███████▊  | 78/100 [00:00<00:00, 122.94it/s, now=None]\u001b[A\n",
      "t:  90%|█████████ | 90/100 [00:00<00:00, 121.29it/s, now=None]\u001b[A\n",
      "Episode 11400:  57%|█████▋    | 11400/20001 [1:52:52<1:21:19,  1.76it/s, episode_loss=tf.Tensor(-2.9289892, shape=(), dtype=float32), episode_reward=tf.Tensor(58.0, shape=(), dtype=float32)]\n",
      "t:   0%|          | 0/100 [00:00<?, ?it/s, now=None]\u001b[A\n",
      "t:  15%|█▌        | 15/100 [00:00<00:00, 148.95it/s, now=None]\u001b[A"
     ]
    },
    {
     "name": "stdout",
     "output_type": "stream",
     "text": [
      "MoviePy - Building file keras_train_1006-182031/frames/train_11400.gif with imageio.\n"
     ]
    },
    {
     "name": "stderr",
     "output_type": "stream",
     "text": [
      "\n",
      "t:  28%|██▊       | 28/100 [00:00<00:00, 142.52it/s, now=None]\u001b[A\n",
      "t:  42%|████▏     | 42/100 [00:00<00:00, 140.83it/s, now=None]\u001b[A\n",
      "t:  55%|█████▌    | 55/100 [00:00<00:00, 137.37it/s, now=None]\u001b[A\n",
      "t:  68%|██████▊   | 68/100 [00:00<00:00, 134.38it/s, now=None]\u001b[A\n",
      "t:  82%|████████▏ | 82/100 [00:00<00:00, 133.38it/s, now=None]\u001b[A\n",
      "t:  96%|█████████▌| 96/100 [00:00<00:00, 133.79it/s, now=None]\u001b[A\n",
      "Episode 11500:  57%|█████▋    | 11500/20001 [1:53:49<1:18:53,  1.80it/s, episode_loss=tf.Tensor(50.2128, shape=(), dtype=float32), episode_reward=tf.Tensor(80.0, shape=(), dtype=float32)]   \n",
      "t:   0%|          | 0/100 [00:00<?, ?it/s, now=None]\u001b[A\n",
      "t:  14%|█▍        | 14/100 [00:00<00:00, 133.78it/s, now=None]\u001b[A"
     ]
    },
    {
     "name": "stdout",
     "output_type": "stream",
     "text": [
      "MoviePy - Building file keras_train_1006-182031/frames/train_11500.gif with imageio.\n"
     ]
    },
    {
     "name": "stderr",
     "output_type": "stream",
     "text": [
      "\n",
      "t:  26%|██▌       | 26/100 [00:00<00:00, 128.88it/s, now=None]\u001b[A\n",
      "t:  39%|███▉      | 39/100 [00:00<00:00, 126.80it/s, now=None]\u001b[A\n",
      "t:  52%|█████▏    | 52/100 [00:00<00:00, 124.86it/s, now=None]\u001b[A\n",
      "t:  64%|██████▍   | 64/100 [00:00<00:00, 123.16it/s, now=None]\u001b[A\n",
      "t:  77%|███████▋  | 77/100 [00:00<00:00, 123.18it/s, now=None]\u001b[A\n",
      "t:  89%|████████▉ | 89/100 [00:00<00:00, 122.06it/s, now=None]\u001b[A\n",
      "Episode 11600:  58%|█████▊    | 11600/20001 [1:54:46<1:17:51,  1.80it/s, episode_loss=tf.Tensor(16.569921, shape=(), dtype=float32), episode_reward=tf.Tensor(97.0, shape=(), dtype=float32)] \n",
      "t:   0%|          | 0/100 [00:00<?, ?it/s, now=None]\u001b[A\n",
      "t:  14%|█▍        | 14/100 [00:00<00:00, 131.11it/s, now=None]\u001b[A"
     ]
    },
    {
     "name": "stdout",
     "output_type": "stream",
     "text": [
      "MoviePy - Building file keras_train_1006-182031/frames/train_11600.gif with imageio.\n"
     ]
    },
    {
     "name": "stderr",
     "output_type": "stream",
     "text": [
      "\n",
      "t:  26%|██▌       | 26/100 [00:00<00:00, 127.19it/s, now=None]\u001b[A\n",
      "t:  39%|███▉      | 39/100 [00:00<00:00, 125.18it/s, now=None]\u001b[A\n",
      "t:  52%|█████▏    | 52/100 [00:00<00:00, 124.61it/s, now=None]\u001b[A\n",
      "t:  65%|██████▌   | 65/100 [00:00<00:00, 124.41it/s, now=None]\u001b[A\n",
      "t:  78%|███████▊  | 78/100 [00:00<00:00, 123.56it/s, now=None]\u001b[A\n",
      "t:  90%|█████████ | 90/100 [00:00<00:00, 121.15it/s, now=None]\u001b[A\n",
      "Episode 11700:  58%|█████▊    | 11700/20001 [1:55:43<1:17:08,  1.79it/s, episode_loss=tf.Tensor(8.036832, shape=(), dtype=float32), episode_reward=tf.Tensor(70.0, shape=(), dtype=float32)]   \n",
      "t:   0%|          | 0/100 [00:00<?, ?it/s, now=None]\u001b[A\n",
      "t:  15%|█▌        | 15/100 [00:00<00:00, 148.81it/s, now=None]\u001b[A"
     ]
    },
    {
     "name": "stdout",
     "output_type": "stream",
     "text": [
      "MoviePy - Building file keras_train_1006-182031/frames/train_11700.gif with imageio.\n"
     ]
    },
    {
     "name": "stderr",
     "output_type": "stream",
     "text": [
      "\n",
      "t:  29%|██▉       | 29/100 [00:00<00:00, 143.17it/s, now=None]\u001b[A\n",
      "t:  43%|████▎     | 43/100 [00:00<00:00, 139.58it/s, now=None]\u001b[A\n",
      "t:  57%|█████▋    | 57/100 [00:00<00:00, 139.10it/s, now=None]\u001b[A\n",
      "t:  71%|███████   | 71/100 [00:00<00:00, 137.04it/s, now=None]\u001b[A\n",
      "t:  85%|████████▌ | 85/100 [00:00<00:00, 136.03it/s, now=None]\u001b[A\n",
      "t:  99%|█████████▉| 99/100 [00:00<00:00, 136.40it/s, now=None]\u001b[A\n",
      "Episode 11800:  59%|█████▉    | 11800/20001 [1:56:40<1:16:37,  1.78it/s, episode_loss=tf.Tensor(6.0341973, shape=(), dtype=float32), episode_reward=tf.Tensor(97.0, shape=(), dtype=float32)] \n",
      "t:   0%|          | 0/100 [00:00<?, ?it/s, now=None]\u001b[A\n",
      "t:  14%|█▍        | 14/100 [00:00<00:00, 134.74it/s, now=None]\u001b[A"
     ]
    },
    {
     "name": "stdout",
     "output_type": "stream",
     "text": [
      "MoviePy - Building file keras_train_1006-182031/frames/train_11800.gif with imageio.\n"
     ]
    },
    {
     "name": "stderr",
     "output_type": "stream",
     "text": [
      "\n",
      "t:  26%|██▌       | 26/100 [00:00<00:00, 127.67it/s, now=None]\u001b[A\n",
      "t:  38%|███▊      | 38/100 [00:00<00:00, 124.63it/s, now=None]\u001b[A\n",
      "t:  50%|█████     | 50/100 [00:00<00:00, 123.08it/s, now=None]\u001b[A\n",
      "t:  62%|██████▏   | 62/100 [00:00<00:00, 121.95it/s, now=None]\u001b[A\n",
      "t:  75%|███████▌  | 75/100 [00:00<00:00, 122.01it/s, now=None]\u001b[A\n",
      "t:  87%|████████▋ | 87/100 [00:00<00:00, 121.33it/s, now=None]\u001b[A\n",
      "t: 100%|██████████| 100/100 [00:00<00:00, 121.56it/s, now=None]\u001b[A\n",
      "Episode 11900:  59%|█████▉    | 11900/20001 [1:57:37<1:15:49,  1.78it/s, episode_loss=tf.Tensor(13.999525, shape=(), dtype=float32), episode_reward=tf.Tensor(47.0, shape=(), dtype=float32)]   \n",
      "t:   0%|          | 0/100 [00:00<?, ?it/s, now=None]\u001b[A\n",
      "t:  14%|█▍        | 14/100 [00:00<00:00, 131.41it/s, now=None]\u001b[A"
     ]
    },
    {
     "name": "stdout",
     "output_type": "stream",
     "text": [
      "MoviePy - Building file keras_train_1006-182031/frames/train_11900.gif with imageio.\n"
     ]
    },
    {
     "name": "stderr",
     "output_type": "stream",
     "text": [
      "\n",
      "t:  27%|██▋       | 27/100 [00:00<00:00, 129.02it/s, now=None]\u001b[A\n",
      "t:  40%|████      | 40/100 [00:00<00:00, 126.40it/s, now=None]\u001b[A\n",
      "t:  52%|█████▏    | 52/100 [00:00<00:00, 124.32it/s, now=None]\u001b[A\n",
      "t:  65%|██████▌   | 65/100 [00:00<00:00, 124.10it/s, now=None]\u001b[A\n",
      "t:  78%|███████▊  | 78/100 [00:00<00:00, 123.81it/s, now=None]\u001b[A\n",
      "t:  91%|█████████ | 91/100 [00:00<00:00, 123.64it/s, now=None]\u001b[A\n",
      "Episode 12000:  60%|█████▉    | 12000/20001 [1:58:35<1:15:00,  1.78it/s, episode_loss=tf.Tensor(5.0831556, shape=(), dtype=float32), episode_reward=tf.Tensor(98.0, shape=(), dtype=float32)]   \n",
      "t:   0%|          | 0/100 [00:00<?, ?it/s, now=None]\u001b[A\n",
      "t:  15%|█▌        | 15/100 [00:00<00:00, 142.03it/s, now=None]\u001b[A"
     ]
    },
    {
     "name": "stdout",
     "output_type": "stream",
     "text": [
      "MoviePy - Building file keras_train_1006-182031/frames/train_12000.gif with imageio.\n"
     ]
    },
    {
     "name": "stderr",
     "output_type": "stream",
     "text": [
      "\n",
      "t:  29%|██▉       | 29/100 [00:00<00:00, 138.51it/s, now=None]\u001b[A\n",
      "t:  43%|████▎     | 43/100 [00:00<00:00, 136.04it/s, now=None]\u001b[A\n",
      "t:  57%|█████▋    | 57/100 [00:00<00:00, 135.00it/s, now=None]\u001b[A\n",
      "t:  71%|███████   | 71/100 [00:00<00:00, 133.81it/s, now=None]\u001b[A\n",
      "t:  85%|████████▌ | 85/100 [00:00<00:00, 133.44it/s, now=None]\u001b[A\n",
      "t:  99%|█████████▉| 99/100 [00:00<00:00, 133.44it/s, now=None]\u001b[A\n",
      "Episode 12100:  60%|██████    | 12100/20001 [1:59:32<1:17:59,  1.69it/s, episode_loss=tf.Tensor(-20.587639, shape=(), dtype=float32), episode_reward=tf.Tensor(77.0, shape=(), dtype=float32)] \n",
      "t:   0%|          | 0/100 [00:00<?, ?it/s, now=None]\u001b[A\n",
      "t:  15%|█▌        | 15/100 [00:00<00:00, 143.46it/s, now=None]\u001b[A"
     ]
    },
    {
     "name": "stdout",
     "output_type": "stream",
     "text": [
      "MoviePy - Building file keras_train_1006-182031/frames/train_12100.gif with imageio.\n"
     ]
    },
    {
     "name": "stderr",
     "output_type": "stream",
     "text": [
      "\n",
      "t:  29%|██▉       | 29/100 [00:00<00:00, 139.70it/s, now=None]\u001b[A\n",
      "t:  43%|████▎     | 43/100 [00:00<00:00, 137.47it/s, now=None]\u001b[A\n",
      "t:  57%|█████▋    | 57/100 [00:00<00:00, 136.76it/s, now=None]\u001b[A\n",
      "t:  71%|███████   | 71/100 [00:00<00:00, 134.99it/s, now=None]\u001b[A\n",
      "t:  84%|████████▍ | 84/100 [00:00<00:00, 133.04it/s, now=None]\u001b[A\n",
      "t:  98%|█████████▊| 98/100 [00:00<00:00, 132.74it/s, now=None]\u001b[A\n",
      "Episode 12200:  61%|██████    | 12200/20001 [2:00:29<1:12:51,  1.78it/s, episode_loss=tf.Tensor(16.014801, shape=(), dtype=float32), episode_reward=tf.Tensor(80.0, shape=(), dtype=float32)]  \n",
      "t:   0%|          | 0/100 [00:00<?, ?it/s, now=None]\u001b[A\n",
      "t:  14%|█▍        | 14/100 [00:00<00:00, 131.91it/s, now=None]\u001b[A"
     ]
    },
    {
     "name": "stdout",
     "output_type": "stream",
     "text": [
      "MoviePy - Building file keras_train_1006-182031/frames/train_12200.gif with imageio.\n"
     ]
    },
    {
     "name": "stderr",
     "output_type": "stream",
     "text": [
      "\n",
      "t:  26%|██▌       | 26/100 [00:00<00:00, 127.46it/s, now=None]\u001b[A\n",
      "t:  38%|███▊      | 38/100 [00:00<00:00, 125.01it/s, now=None]\u001b[A\n",
      "t:  50%|█████     | 50/100 [00:00<00:00, 123.35it/s, now=None]\u001b[A\n",
      "t:  62%|██████▏   | 62/100 [00:00<00:00, 122.06it/s, now=None]\u001b[A\n",
      "t:  74%|███████▍  | 74/100 [00:00<00:00, 120.83it/s, now=None]\u001b[A\n",
      "t:  86%|████████▌ | 86/100 [00:00<00:00, 118.67it/s, now=None]\u001b[A\n",
      "t:  98%|█████████▊| 98/100 [00:00<00:00, 118.94it/s, now=None]\u001b[A\n",
      "Episode 12300:  61%|██████▏   | 12300/20001 [2:01:26<1:10:55,  1.81it/s, episode_loss=tf.Tensor(18.295574, shape=(), dtype=float32), episode_reward=tf.Tensor(81.0, shape=(), dtype=float32)]  \n",
      "t:   0%|          | 0/100 [00:00<?, ?it/s, now=None]\u001b[A\n",
      "t:  14%|█▍        | 14/100 [00:00<00:00, 130.21it/s, now=None]\u001b[A"
     ]
    },
    {
     "name": "stdout",
     "output_type": "stream",
     "text": [
      "MoviePy - Building file keras_train_1006-182031/frames/train_12300.gif with imageio.\n"
     ]
    },
    {
     "name": "stderr",
     "output_type": "stream",
     "text": [
      "\n",
      "t:  26%|██▌       | 26/100 [00:00<00:00, 126.84it/s, now=None]\u001b[A\n",
      "t:  38%|███▊      | 38/100 [00:00<00:00, 124.21it/s, now=None]\u001b[A\n",
      "t:  50%|█████     | 50/100 [00:00<00:00, 122.60it/s, now=None]\u001b[A\n",
      "t:  63%|██████▎   | 63/100 [00:00<00:00, 121.84it/s, now=None]\u001b[A\n",
      "t:  75%|███████▌  | 75/100 [00:00<00:00, 121.05it/s, now=None]\u001b[A\n",
      "t:  88%|████████▊ | 88/100 [00:00<00:00, 121.21it/s, now=None]\u001b[A\n",
      "Episode 12400:  62%|██████▏   | 12400/20001 [2:02:23<1:10:46,  1.79it/s, episode_loss=tf.Tensor(-3.6612992, shape=(), dtype=float32), episode_reward=tf.Tensor(60.0, shape=(), dtype=float32)]\n",
      "t:   0%|          | 0/100 [00:00<?, ?it/s, now=None]\u001b[A\n",
      "t:  13%|█▎        | 13/100 [00:00<00:00, 125.37it/s, now=None]\u001b[A"
     ]
    },
    {
     "name": "stdout",
     "output_type": "stream",
     "text": [
      "MoviePy - Building file keras_train_1006-182031/frames/train_12400.gif with imageio.\n"
     ]
    },
    {
     "name": "stderr",
     "output_type": "stream",
     "text": [
      "\n",
      "t:  26%|██▌       | 26/100 [00:00<00:00, 124.21it/s, now=None]\u001b[A\n",
      "t:  38%|███▊      | 38/100 [00:00<00:00, 121.89it/s, now=None]\u001b[A\n",
      "t:  50%|█████     | 50/100 [00:00<00:00, 121.00it/s, now=None]\u001b[A\n",
      "t:  63%|██████▎   | 63/100 [00:00<00:00, 121.46it/s, now=None]\u001b[A\n",
      "t:  76%|███████▌  | 76/100 [00:00<00:00, 121.26it/s, now=None]\u001b[A\n",
      "t:  89%|████████▉ | 89/100 [00:00<00:00, 121.97it/s, now=None]\u001b[A\n",
      "Episode 12500:  62%|██████▏   | 12500/20001 [2:03:20<1:11:33,  1.75it/s, episode_loss=tf.Tensor(7.2867117, shape=(), dtype=float32), episode_reward=tf.Tensor(64.0, shape=(), dtype=float32)]   \n",
      "t:   0%|          | 0/100 [00:00<?, ?it/s, now=None]\u001b[A\n",
      "t:  14%|█▍        | 14/100 [00:00<00:00, 134.16it/s, now=None]\u001b[A"
     ]
    },
    {
     "name": "stdout",
     "output_type": "stream",
     "text": [
      "MoviePy - Building file keras_train_1006-182031/frames/train_12500.gif with imageio.\n"
     ]
    },
    {
     "name": "stderr",
     "output_type": "stream",
     "text": [
      "\n",
      "t:  26%|██▌       | 26/100 [00:00<00:00, 128.75it/s, now=None]\u001b[A\n",
      "t:  38%|███▊      | 38/100 [00:00<00:00, 125.81it/s, now=None]\u001b[A\n",
      "t:  50%|█████     | 50/100 [00:00<00:00, 123.31it/s, now=None]\u001b[A\n",
      "t:  63%|██████▎   | 63/100 [00:00<00:00, 123.27it/s, now=None]\u001b[A\n",
      "t:  76%|███████▌  | 76/100 [00:00<00:00, 122.46it/s, now=None]\u001b[A\n",
      "t:  88%|████████▊ | 88/100 [00:00<00:00, 120.68it/s, now=None]\u001b[A\n",
      "t: 100%|██████████| 100/100 [00:00<00:00, 119.61it/s, now=None]\u001b[A\n",
      "Episode 12600:  63%|██████▎   | 12600/20001 [2:04:17<1:09:08,  1.78it/s, episode_loss=tf.Tensor(10.405266, shape=(), dtype=float32), episode_reward=tf.Tensor(66.0, shape=(), dtype=float32)]  \n",
      "t:   0%|          | 0/100 [00:00<?, ?it/s, now=None]\u001b[A\n",
      "t:  14%|█▍        | 14/100 [00:00<00:00, 133.72it/s, now=None]\u001b[A"
     ]
    },
    {
     "name": "stdout",
     "output_type": "stream",
     "text": [
      "MoviePy - Building file keras_train_1006-182031/frames/train_12600.gif with imageio.\n"
     ]
    },
    {
     "name": "stderr",
     "output_type": "stream",
     "text": [
      "\n",
      "t:  26%|██▌       | 26/100 [00:00<00:00, 128.36it/s, now=None]\u001b[A\n",
      "t:  38%|███▊      | 38/100 [00:00<00:00, 125.27it/s, now=None]\u001b[A\n",
      "t:  51%|█████     | 51/100 [00:00<00:00, 124.61it/s, now=None]\u001b[A\n",
      "t:  64%|██████▍   | 64/100 [00:00<00:00, 123.93it/s, now=None]\u001b[A\n",
      "t:  77%|███████▋  | 77/100 [00:00<00:00, 123.00it/s, now=None]\u001b[A\n",
      "t:  89%|████████▉ | 89/100 [00:00<00:00, 121.70it/s, now=None]\u001b[A\n",
      "Episode 12700:  63%|██████▎   | 12700/20001 [2:05:16<1:11:24,  1.70it/s, episode_loss=tf.Tensor(6.108934, shape=(), dtype=float32), episode_reward=tf.Tensor(37.0, shape=(), dtype=float32)]   \n",
      "t:   0%|          | 0/100 [00:00<?, ?it/s, now=None]\u001b[A\n",
      "t:  13%|█▎        | 13/100 [00:00<00:00, 128.71it/s, now=None]\u001b[A"
     ]
    },
    {
     "name": "stdout",
     "output_type": "stream",
     "text": [
      "MoviePy - Building file keras_train_1006-182031/frames/train_12700.gif with imageio.\n"
     ]
    },
    {
     "name": "stderr",
     "output_type": "stream",
     "text": [
      "\n",
      "t:  25%|██▌       | 25/100 [00:00<00:00, 125.16it/s, now=None]\u001b[A\n",
      "t:  37%|███▋      | 37/100 [00:00<00:00, 121.09it/s, now=None]\u001b[A\n",
      "t:  49%|████▉     | 49/100 [00:00<00:00, 120.06it/s, now=None]\u001b[A\n",
      "t:  61%|██████    | 61/100 [00:00<00:00, 119.45it/s, now=None]\u001b[A\n",
      "t:  74%|███████▍  | 74/100 [00:00<00:00, 120.23it/s, now=None]\u001b[A\n",
      "t:  86%|████████▌ | 86/100 [00:00<00:00, 119.35it/s, now=None]\u001b[A\n",
      "t:  98%|█████████▊| 98/100 [00:00<00:00, 118.70it/s, now=None]\u001b[A\n",
      "Episode 12800:  64%|██████▍   | 12800/20001 [2:06:15<1:10:04,  1.71it/s, episode_loss=tf.Tensor(4.9859066, shape=(), dtype=float32), episode_reward=tf.Tensor(82.0, shape=(), dtype=float32)]  \n",
      "t:   0%|          | 0/100 [00:00<?, ?it/s, now=None]\u001b[A\n",
      "t:  13%|█▎        | 13/100 [00:00<00:00, 122.07it/s, now=None]\u001b[A"
     ]
    },
    {
     "name": "stdout",
     "output_type": "stream",
     "text": [
      "MoviePy - Building file keras_train_1006-182031/frames/train_12800.gif with imageio.\n"
     ]
    },
    {
     "name": "stderr",
     "output_type": "stream",
     "text": [
      "\n",
      "t:  25%|██▌       | 25/100 [00:00<00:00, 118.89it/s, now=None]\u001b[A\n",
      "t:  37%|███▋      | 37/100 [00:00<00:00, 116.69it/s, now=None]\u001b[A\n",
      "t:  49%|████▉     | 49/100 [00:00<00:00, 115.59it/s, now=None]\u001b[A\n",
      "t:  61%|██████    | 61/100 [00:00<00:00, 115.44it/s, now=None]\u001b[A\n",
      "t:  73%|███████▎  | 73/100 [00:00<00:00, 115.12it/s, now=None]\u001b[A\n",
      "t:  85%|████████▌ | 85/100 [00:00<00:00, 116.27it/s, now=None]\u001b[A\n",
      "t:  97%|█████████▋| 97/100 [00:00<00:00, 117.17it/s, now=None]\u001b[A\n",
      "Episode 12900:  64%|██████▍   | 12900/20001 [2:07:13<1:06:45,  1.77it/s, episode_loss=tf.Tensor(6.4698453, shape=(), dtype=float32), episode_reward=tf.Tensor(92.0, shape=(), dtype=float32)] \n",
      "t:   0%|          | 0/100 [00:00<?, ?it/s, now=None]\u001b[A\n",
      "t:  15%|█▌        | 15/100 [00:00<00:00, 143.20it/s, now=None]\u001b[A"
     ]
    },
    {
     "name": "stdout",
     "output_type": "stream",
     "text": [
      "MoviePy - Building file keras_train_1006-182031/frames/train_12900.gif with imageio.\n"
     ]
    },
    {
     "name": "stderr",
     "output_type": "stream",
     "text": [
      "\n",
      "t:  28%|██▊       | 28/100 [00:00<00:00, 138.85it/s, now=None]\u001b[A\n",
      "t:  42%|████▏     | 42/100 [00:00<00:00, 136.78it/s, now=None]\u001b[A\n",
      "t:  56%|█████▌    | 56/100 [00:00<00:00, 134.99it/s, now=None]\u001b[A\n",
      "t:  70%|███████   | 70/100 [00:00<00:00, 134.40it/s, now=None]\u001b[A\n",
      "t:  84%|████████▍ | 84/100 [00:00<00:00, 134.37it/s, now=None]\u001b[A\n",
      "t:  98%|█████████▊| 98/100 [00:00<00:00, 133.70it/s, now=None]\u001b[A\n",
      "Episode 13000:  65%|██████▍   | 13000/20001 [2:08:10<1:05:10,  1.79it/s, episode_loss=tf.Tensor(10.261891, shape=(), dtype=float32), episode_reward=tf.Tensor(95.0, shape=(), dtype=float32)] \n",
      "t:   0%|          | 0/100 [00:00<?, ?it/s, now=None]\u001b[A\n",
      "t:  14%|█▍        | 14/100 [00:00<00:00, 130.70it/s, now=None]\u001b[A"
     ]
    },
    {
     "name": "stdout",
     "output_type": "stream",
     "text": [
      "MoviePy - Building file keras_train_1006-182031/frames/train_13000.gif with imageio.\n"
     ]
    },
    {
     "name": "stderr",
     "output_type": "stream",
     "text": [
      "\n",
      "t:  26%|██▌       | 26/100 [00:00<00:00, 126.45it/s, now=None]\u001b[A\n",
      "t:  39%|███▉      | 39/100 [00:00<00:00, 125.32it/s, now=None]\u001b[A\n",
      "t:  51%|█████     | 51/100 [00:00<00:00, 121.43it/s, now=None]\u001b[A\n",
      "t:  63%|██████▎   | 63/100 [00:00<00:00, 120.53it/s, now=None]\u001b[A\n",
      "t:  76%|███████▌  | 76/100 [00:00<00:00, 121.35it/s, now=None]\u001b[A\n",
      "t:  89%|████████▉ | 89/100 [00:00<00:00, 121.80it/s, now=None]\u001b[A\n",
      "Episode 13100:  65%|██████▌   | 13100/20001 [2:09:07<1:04:46,  1.78it/s, episode_loss=tf.Tensor(17.71981, shape=(), dtype=float32), episode_reward=tf.Tensor(55.0, shape=(), dtype=float32)]   \n",
      "t:   0%|          | 0/100 [00:00<?, ?it/s, now=None]\u001b[A\n",
      "t:  14%|█▍        | 14/100 [00:00<00:00, 130.44it/s, now=None]\u001b[A"
     ]
    },
    {
     "name": "stdout",
     "output_type": "stream",
     "text": [
      "MoviePy - Building file keras_train_1006-182031/frames/train_13100.gif with imageio.\n"
     ]
    },
    {
     "name": "stderr",
     "output_type": "stream",
     "text": [
      "\n",
      "t:  26%|██▌       | 26/100 [00:00<00:00, 126.88it/s, now=None]\u001b[A\n",
      "t:  39%|███▉      | 39/100 [00:00<00:00, 125.90it/s, now=None]\u001b[A\n",
      "t:  51%|█████     | 51/100 [00:00<00:00, 123.47it/s, now=None]\u001b[A\n",
      "t:  63%|██████▎   | 63/100 [00:00<00:00, 122.37it/s, now=None]\u001b[A\n",
      "t:  75%|███████▌  | 75/100 [00:00<00:00, 121.55it/s, now=None]\u001b[A\n",
      "t:  88%|████████▊ | 88/100 [00:00<00:00, 121.36it/s, now=None]\u001b[A\n",
      "t: 100%|██████████| 100/100 [00:00<00:00, 120.33it/s, now=None]\u001b[A\n",
      "Episode 13200:  66%|██████▌   | 13200/20001 [2:10:04<1:04:54,  1.75it/s, episode_loss=tf.Tensor(-31.907948, shape=(), dtype=float32), episode_reward=tf.Tensor(42.0, shape=(), dtype=float32)] \n",
      "t:   0%|          | 0/100 [00:00<?, ?it/s, now=None]\u001b[A\n",
      "t:  14%|█▍        | 14/100 [00:00<00:00, 131.48it/s, now=None]\u001b[A"
     ]
    },
    {
     "name": "stdout",
     "output_type": "stream",
     "text": [
      "MoviePy - Building file keras_train_1006-182031/frames/train_13200.gif with imageio.\n"
     ]
    },
    {
     "name": "stderr",
     "output_type": "stream",
     "text": [
      "\n",
      "t:  26%|██▌       | 26/100 [00:00<00:00, 127.58it/s, now=None]\u001b[A\n",
      "t:  38%|███▊      | 38/100 [00:00<00:00, 124.62it/s, now=None]\u001b[A\n",
      "t:  50%|█████     | 50/100 [00:00<00:00, 123.17it/s, now=None]\u001b[A\n",
      "t:  62%|██████▏   | 62/100 [00:00<00:00, 122.18it/s, now=None]\u001b[A\n",
      "t:  74%|███████▍  | 74/100 [00:00<00:00, 121.15it/s, now=None]\u001b[A\n",
      "t:  86%|████████▌ | 86/100 [00:00<00:00, 120.41it/s, now=None]\u001b[A\n",
      "t:  98%|█████████▊| 98/100 [00:00<00:00, 120.19it/s, now=None]\u001b[A\n",
      "Episode 13300:  66%|██████▋   | 13300/20001 [2:11:01<1:02:42,  1.78it/s, episode_loss=tf.Tensor(-2.83279, shape=(), dtype=float32), episode_reward=tf.Tensor(54.0, shape=(), dtype=float32)]  \n",
      "t:   0%|          | 0/100 [00:00<?, ?it/s, now=None]\u001b[A\n",
      "t:  14%|█▍        | 14/100 [00:00<00:00, 135.50it/s, now=None]\u001b[A"
     ]
    },
    {
     "name": "stdout",
     "output_type": "stream",
     "text": [
      "MoviePy - Building file keras_train_1006-182031/frames/train_13300.gif with imageio.\n"
     ]
    },
    {
     "name": "stderr",
     "output_type": "stream",
     "text": [
      "\n",
      "t:  27%|██▋       | 27/100 [00:00<00:00, 130.77it/s, now=None]\u001b[A\n",
      "t:  39%|███▉      | 39/100 [00:00<00:00, 126.34it/s, now=None]\u001b[A\n",
      "t:  51%|█████     | 51/100 [00:00<00:00, 123.61it/s, now=None]\u001b[A\n",
      "t:  63%|██████▎   | 63/100 [00:00<00:00, 121.89it/s, now=None]\u001b[A\n",
      "t:  75%|███████▌  | 75/100 [00:00<00:00, 120.70it/s, now=None]\u001b[A\n",
      "t:  88%|████████▊ | 88/100 [00:00<00:00, 121.04it/s, now=None]\u001b[A\n",
      "t: 100%|██████████| 100/100 [00:00<00:00, 120.18it/s, now=None]\u001b[A\n",
      "Episode 13400:  67%|██████▋   | 13400/20001 [2:11:59<1:02:00,  1.77it/s, episode_loss=tf.Tensor(5.6608977, shape=(), dtype=float32), episode_reward=tf.Tensor(97.0, shape=(), dtype=float32)]   \n",
      "t:   0%|          | 0/100 [00:00<?, ?it/s, now=None]\u001b[A\n",
      "t:  15%|█▌        | 15/100 [00:00<00:00, 146.27it/s, now=None]\u001b[A"
     ]
    },
    {
     "name": "stdout",
     "output_type": "stream",
     "text": [
      "MoviePy - Building file keras_train_1006-182031/frames/train_13400.gif with imageio.\n"
     ]
    },
    {
     "name": "stderr",
     "output_type": "stream",
     "text": [
      "\n",
      "t:  29%|██▉       | 29/100 [00:00<00:00, 142.07it/s, now=None]\u001b[A\n",
      "t:  43%|████▎     | 43/100 [00:00<00:00, 139.22it/s, now=None]\u001b[A\n",
      "t:  57%|█████▋    | 57/100 [00:00<00:00, 137.05it/s, now=None]\u001b[A\n",
      "t:  71%|███████   | 71/100 [00:00<00:00, 136.44it/s, now=None]\u001b[A\n",
      "t:  85%|████████▌ | 85/100 [00:00<00:00, 136.43it/s, now=None]\u001b[A\n",
      "t:  99%|█████████▉| 99/100 [00:00<00:00, 135.53it/s, now=None]\u001b[A\n",
      "Episode 13500:  67%|██████▋   | 13500/20001 [2:12:56<1:02:23,  1.74it/s, episode_loss=tf.Tensor(5.0567083, shape=(), dtype=float32), episode_reward=tf.Tensor(94.0, shape=(), dtype=float32)]  \n",
      "t:   0%|          | 0/100 [00:00<?, ?it/s, now=None]\u001b[A\n",
      "t:  15%|█▌        | 15/100 [00:00<00:00, 144.41it/s, now=None]\u001b[A"
     ]
    },
    {
     "name": "stdout",
     "output_type": "stream",
     "text": [
      "MoviePy - Building file keras_train_1006-182031/frames/train_13500.gif with imageio.\n"
     ]
    },
    {
     "name": "stderr",
     "output_type": "stream",
     "text": [
      "\n",
      "t:  29%|██▉       | 29/100 [00:00<00:00, 140.48it/s, now=None]\u001b[A\n",
      "t:  43%|████▎     | 43/100 [00:00<00:00, 137.22it/s, now=None]\u001b[A\n",
      "t:  57%|█████▋    | 57/100 [00:00<00:00, 135.42it/s, now=None]\u001b[A\n",
      "t:  71%|███████   | 71/100 [00:00<00:00, 134.05it/s, now=None]\u001b[A\n",
      "t:  85%|████████▌ | 85/100 [00:00<00:00, 133.40it/s, now=None]\u001b[A\n",
      "t:  99%|█████████▉| 99/100 [00:00<00:00, 133.39it/s, now=None]\u001b[A\n",
      "Episode 13600:  68%|██████▊   | 13600/20001 [2:13:54<1:00:06,  1.77it/s, episode_loss=tf.Tensor(15.720617, shape=(), dtype=float32), episode_reward=tf.Tensor(68.0, shape=(), dtype=float32)] \n",
      "t:   0%|          | 0/100 [00:00<?, ?it/s, now=None]\u001b[A\n",
      "t:  14%|█▍        | 14/100 [00:00<00:00, 130.30it/s, now=None]\u001b[A"
     ]
    },
    {
     "name": "stdout",
     "output_type": "stream",
     "text": [
      "MoviePy - Building file keras_train_1006-182031/frames/train_13600.gif with imageio.\n"
     ]
    },
    {
     "name": "stderr",
     "output_type": "stream",
     "text": [
      "\n",
      "t:  26%|██▌       | 26/100 [00:00<00:00, 126.66it/s, now=None]\u001b[A\n",
      "t:  38%|███▊      | 38/100 [00:00<00:00, 124.23it/s, now=None]\u001b[A\n",
      "t:  50%|█████     | 50/100 [00:00<00:00, 122.83it/s, now=None]\u001b[A\n",
      "t:  62%|██████▏   | 62/100 [00:00<00:00, 121.68it/s, now=None]\u001b[A\n",
      "t:  75%|███████▌  | 75/100 [00:00<00:00, 121.33it/s, now=None]\u001b[A\n",
      "t:  88%|████████▊ | 88/100 [00:00<00:00, 121.26it/s, now=None]\u001b[A\n",
      "Episode 13700:  68%|██████▊   | 13700/20001 [2:14:51<59:05,  1.78it/s, episode_loss=tf.Tensor(14.989658, shape=(), dtype=float32), episode_reward=tf.Tensor(72.0, shape=(), dtype=float32)]   \n",
      "t:   0%|          | 0/100 [00:00<?, ?it/s, now=None]\u001b[A\n",
      "t:  14%|█▍        | 14/100 [00:00<00:00, 132.80it/s, now=None]\u001b[A"
     ]
    },
    {
     "name": "stdout",
     "output_type": "stream",
     "text": [
      "MoviePy - Building file keras_train_1006-182031/frames/train_13700.gif with imageio.\n"
     ]
    },
    {
     "name": "stderr",
     "output_type": "stream",
     "text": [
      "\n",
      "t:  26%|██▌       | 26/100 [00:00<00:00, 127.96it/s, now=None]\u001b[A\n",
      "t:  39%|███▉      | 39/100 [00:00<00:00, 125.98it/s, now=None]\u001b[A\n",
      "t:  52%|█████▏    | 52/100 [00:00<00:00, 124.80it/s, now=None]\u001b[A\n",
      "t:  65%|██████▌   | 65/100 [00:00<00:00, 124.01it/s, now=None]\u001b[A\n",
      "t:  78%|███████▊  | 78/100 [00:00<00:00, 123.48it/s, now=None]\u001b[A\n",
      "t:  91%|█████████ | 91/100 [00:00<00:00, 123.30it/s, now=None]\u001b[A\n",
      "Episode 13800:  69%|██████▉   | 13800/20001 [2:15:49<58:14,  1.77it/s, episode_loss=tf.Tensor(5.3263903, shape=(), dtype=float32), episode_reward=tf.Tensor(66.0, shape=(), dtype=float32)]   \n",
      "t:   0%|          | 0/100 [00:00<?, ?it/s, now=None]\u001b[A\n",
      "t:  14%|█▍        | 14/100 [00:00<00:00, 134.71it/s, now=None]\u001b[A"
     ]
    },
    {
     "name": "stdout",
     "output_type": "stream",
     "text": [
      "MoviePy - Building file keras_train_1006-182031/frames/train_13800.gif with imageio.\n"
     ]
    },
    {
     "name": "stderr",
     "output_type": "stream",
     "text": [
      "\n",
      "t:  26%|██▌       | 26/100 [00:00<00:00, 129.52it/s, now=None]\u001b[A\n",
      "t:  38%|███▊      | 38/100 [00:00<00:00, 125.80it/s, now=None]\u001b[A\n",
      "t:  51%|█████     | 51/100 [00:00<00:00, 124.55it/s, now=None]\u001b[A\n",
      "t:  64%|██████▍   | 64/100 [00:00<00:00, 124.63it/s, now=None]\u001b[A\n",
      "t:  77%|███████▋  | 77/100 [00:00<00:00, 124.00it/s, now=None]\u001b[A\n",
      "t:  89%|████████▉ | 89/100 [00:00<00:00, 122.69it/s, now=None]\u001b[A\n",
      "Episode 13900:  69%|██████▉   | 13900/20001 [2:16:46<58:22,  1.74it/s, episode_loss=tf.Tensor(8.627611, shape=(), dtype=float32), episode_reward=tf.Tensor(46.0, shape=(), dtype=float32)]       \n",
      "t:   0%|          | 0/100 [00:00<?, ?it/s, now=None]\u001b[A\n",
      "t:  14%|█▍        | 14/100 [00:00<00:00, 133.61it/s, now=None]\u001b[A"
     ]
    },
    {
     "name": "stdout",
     "output_type": "stream",
     "text": [
      "MoviePy - Building file keras_train_1006-182031/frames/train_13900.gif with imageio.\n"
     ]
    },
    {
     "name": "stderr",
     "output_type": "stream",
     "text": [
      "\n",
      "t:  26%|██▌       | 26/100 [00:00<00:00, 128.65it/s, now=None]\u001b[A\n",
      "t:  39%|███▉      | 39/100 [00:00<00:00, 126.52it/s, now=None]\u001b[A\n",
      "t:  52%|█████▏    | 52/100 [00:00<00:00, 125.28it/s, now=None]\u001b[A\n",
      "t:  65%|██████▌   | 65/100 [00:00<00:00, 124.45it/s, now=None]\u001b[A\n",
      "t:  78%|███████▊  | 78/100 [00:00<00:00, 124.15it/s, now=None]\u001b[A\n",
      "t:  90%|█████████ | 90/100 [00:00<00:00, 122.17it/s, now=None]\u001b[A\n",
      "Episode 14000:  70%|██████▉   | 14000/20001 [2:17:44<56:31,  1.77it/s, episode_loss=tf.Tensor(11.326204, shape=(), dtype=float32), episode_reward=tf.Tensor(52.0, shape=(), dtype=float32)]   \n",
      "t:   0%|          | 0/100 [00:00<?, ?it/s, now=None]\u001b[A\n",
      "t:  14%|█▍        | 14/100 [00:00<00:00, 134.36it/s, now=None]\u001b[A"
     ]
    },
    {
     "name": "stdout",
     "output_type": "stream",
     "text": [
      "MoviePy - Building file keras_train_1006-182031/frames/train_14000.gif with imageio.\n"
     ]
    },
    {
     "name": "stderr",
     "output_type": "stream",
     "text": [
      "\n",
      "t:  27%|██▋       | 27/100 [00:00<00:00, 130.62it/s, now=None]\u001b[A\n",
      "t:  39%|███▉      | 39/100 [00:00<00:00, 126.77it/s, now=None]\u001b[A\n",
      "t:  52%|█████▏    | 52/100 [00:00<00:00, 125.39it/s, now=None]\u001b[A\n",
      "t:  64%|██████▍   | 64/100 [00:00<00:00, 123.15it/s, now=None]\u001b[A\n",
      "t:  77%|███████▋  | 77/100 [00:00<00:00, 122.76it/s, now=None]\u001b[A\n",
      "t:  89%|████████▉ | 89/100 [00:00<00:00, 121.85it/s, now=None]\u001b[A\n",
      "Episode 14100:  70%|███████   | 14100/20001 [2:18:42<55:29,  1.77it/s, episode_loss=tf.Tensor(6.2502303, shape=(), dtype=float32), episode_reward=tf.Tensor(75.0, shape=(), dtype=float32)]  \n",
      "t:   0%|          | 0/100 [00:00<?, ?it/s, now=None]\u001b[A\n",
      "t:  14%|█▍        | 14/100 [00:00<00:00, 130.70it/s, now=None]\u001b[A"
     ]
    },
    {
     "name": "stdout",
     "output_type": "stream",
     "text": [
      "MoviePy - Building file keras_train_1006-182031/frames/train_14100.gif with imageio.\n"
     ]
    },
    {
     "name": "stderr",
     "output_type": "stream",
     "text": [
      "\n",
      "t:  26%|██▌       | 26/100 [00:00<00:00, 126.72it/s, now=None]\u001b[A\n",
      "t:  38%|███▊      | 38/100 [00:00<00:00, 124.02it/s, now=None]\u001b[A\n",
      "t:  50%|█████     | 50/100 [00:00<00:00, 122.43it/s, now=None]\u001b[A\n",
      "t:  62%|██████▏   | 62/100 [00:00<00:00, 121.01it/s, now=None]\u001b[A\n",
      "t:  75%|███████▌  | 75/100 [00:00<00:00, 121.79it/s, now=None]\u001b[A\n",
      "t:  88%|████████▊ | 88/100 [00:00<00:00, 122.52it/s, now=None]\u001b[A\n",
      "Episode 14200:  71%|███████   | 14200/20001 [2:19:39<55:22,  1.75it/s, episode_loss=tf.Tensor(6.197221, shape=(), dtype=float32), episode_reward=tf.Tensor(48.0, shape=(), dtype=float32)]    \n",
      "t:   0%|          | 0/100 [00:00<?, ?it/s, now=None]\u001b[A\n",
      "t:  14%|█▍        | 14/100 [00:00<00:00, 130.88it/s, now=None]\u001b[A"
     ]
    },
    {
     "name": "stdout",
     "output_type": "stream",
     "text": [
      "MoviePy - Building file keras_train_1006-182031/frames/train_14200.gif with imageio.\n"
     ]
    },
    {
     "name": "stderr",
     "output_type": "stream",
     "text": [
      "\n",
      "t:  27%|██▋       | 27/100 [00:00<00:00, 128.11it/s, now=None]\u001b[A\n",
      "t:  39%|███▉      | 39/100 [00:00<00:00, 125.02it/s, now=None]\u001b[A\n",
      "t:  52%|█████▏    | 52/100 [00:00<00:00, 124.45it/s, now=None]\u001b[A\n",
      "t:  64%|██████▍   | 64/100 [00:00<00:00, 122.61it/s, now=None]\u001b[A\n",
      "t:  77%|███████▋  | 77/100 [00:00<00:00, 121.92it/s, now=None]\u001b[A\n",
      "t:  89%|████████▉ | 89/100 [00:00<00:00, 121.10it/s, now=None]\u001b[A\n",
      "Episode 14300:  71%|███████▏  | 14300/20001 [2:20:37<53:19,  1.78it/s, episode_loss=tf.Tensor(8.608573, shape=(), dtype=float32), episode_reward=tf.Tensor(20.0, shape=(), dtype=float32)]   \n",
      "t:   0%|          | 0/100 [00:00<?, ?it/s, now=None]\u001b[A\n",
      "t:  14%|█▍        | 14/100 [00:00<00:00, 134.78it/s, now=None]\u001b[A"
     ]
    },
    {
     "name": "stdout",
     "output_type": "stream",
     "text": [
      "MoviePy - Building file keras_train_1006-182031/frames/train_14300.gif with imageio.\n"
     ]
    },
    {
     "name": "stderr",
     "output_type": "stream",
     "text": [
      "\n",
      "t:  26%|██▌       | 26/100 [00:00<00:00, 129.97it/s, now=None]\u001b[A\n",
      "t:  39%|███▉      | 39/100 [00:00<00:00, 126.95it/s, now=None]\u001b[A\n",
      "t:  51%|█████     | 51/100 [00:00<00:00, 124.28it/s, now=None]\u001b[A\n",
      "t:  64%|██████▍   | 64/100 [00:00<00:00, 123.42it/s, now=None]\u001b[A\n",
      "t:  77%|███████▋  | 77/100 [00:00<00:00, 122.46it/s, now=None]\u001b[A\n",
      "t:  89%|████████▉ | 89/100 [00:00<00:00, 121.45it/s, now=None]\u001b[A\n",
      "Episode 14400:  72%|███████▏  | 14400/20001 [2:21:34<52:40,  1.77it/s, episode_loss=tf.Tensor(5.0381327, shape=(), dtype=float32), episode_reward=tf.Tensor(75.0, shape=(), dtype=float32)]  \n",
      "t:   0%|          | 0/100 [00:00<?, ?it/s, now=None]\u001b[A\n",
      "t:  14%|█▍        | 14/100 [00:00<00:00, 135.81it/s, now=None]\u001b[A"
     ]
    },
    {
     "name": "stdout",
     "output_type": "stream",
     "text": [
      "MoviePy - Building file keras_train_1006-182031/frames/train_14400.gif with imageio.\n"
     ]
    },
    {
     "name": "stderr",
     "output_type": "stream",
     "text": [
      "\n",
      "t:  26%|██▌       | 26/100 [00:00<00:00, 130.32it/s, now=None]\u001b[A\n",
      "t:  38%|███▊      | 38/100 [00:00<00:00, 126.38it/s, now=None]\u001b[A\n",
      "t:  50%|█████     | 50/100 [00:00<00:00, 123.79it/s, now=None]\u001b[A\n",
      "t:  63%|██████▎   | 63/100 [00:00<00:00, 122.81it/s, now=None]\u001b[A\n",
      "t:  76%|███████▌  | 76/100 [00:00<00:00, 123.05it/s, now=None]\u001b[A\n",
      "t:  89%|████████▉ | 89/100 [00:00<00:00, 122.42it/s, now=None]\u001b[A\n",
      "Episode 14500:  72%|███████▏  | 14500/20001 [2:22:32<51:35,  1.78it/s, episode_loss=tf.Tensor(7.7207975, shape=(), dtype=float32), episode_reward=tf.Tensor(72.0, shape=(), dtype=float32)]   \n",
      "t:   0%|          | 0/100 [00:00<?, ?it/s, now=None]\u001b[A\n",
      "t:  15%|█▌        | 15/100 [00:00<00:00, 143.97it/s, now=None]\u001b[A"
     ]
    },
    {
     "name": "stdout",
     "output_type": "stream",
     "text": [
      "MoviePy - Building file keras_train_1006-182031/frames/train_14500.gif with imageio.\n"
     ]
    },
    {
     "name": "stderr",
     "output_type": "stream",
     "text": [
      "\n",
      "t:  29%|██▉       | 29/100 [00:00<00:00, 139.63it/s, now=None]\u001b[A\n",
      "t:  43%|████▎     | 43/100 [00:00<00:00, 137.07it/s, now=None]\u001b[A\n",
      "t:  57%|█████▋    | 57/100 [00:00<00:00, 135.20it/s, now=None]\u001b[A\n",
      "t:  71%|███████   | 71/100 [00:00<00:00, 134.25it/s, now=None]\u001b[A\n",
      "t:  85%|████████▌ | 85/100 [00:00<00:00, 133.11it/s, now=None]\u001b[A\n",
      "t:  99%|█████████▉| 99/100 [00:00<00:00, 132.84it/s, now=None]\u001b[A\n",
      "Episode 14600:  73%|███████▎  | 14600/20001 [2:23:29<51:14,  1.76it/s, episode_loss=tf.Tensor(4.5969687, shape=(), dtype=float32), episode_reward=tf.Tensor(24.0, shape=(), dtype=float32)]  \n",
      "t:   0%|          | 0/100 [00:00<?, ?it/s, now=None]\u001b[A\n",
      "t:  14%|█▍        | 14/100 [00:00<00:00, 131.82it/s, now=None]\u001b[A"
     ]
    },
    {
     "name": "stdout",
     "output_type": "stream",
     "text": [
      "MoviePy - Building file keras_train_1006-182031/frames/train_14600.gif with imageio.\n"
     ]
    },
    {
     "name": "stderr",
     "output_type": "stream",
     "text": [
      "\n",
      "t:  26%|██▌       | 26/100 [00:00<00:00, 127.51it/s, now=None]\u001b[A\n",
      "t:  38%|███▊      | 38/100 [00:00<00:00, 124.45it/s, now=None]\u001b[A\n",
      "t:  51%|█████     | 51/100 [00:00<00:00, 124.08it/s, now=None]\u001b[A\n",
      "t:  63%|██████▎   | 63/100 [00:00<00:00, 122.04it/s, now=None]\u001b[A\n",
      "t:  76%|███████▌  | 76/100 [00:00<00:00, 121.93it/s, now=None]\u001b[A\n",
      "t:  88%|████████▊ | 88/100 [00:00<00:00, 120.79it/s, now=None]\u001b[A\n",
      "t: 100%|██████████| 100/100 [00:00<00:00, 119.96it/s, now=None]\u001b[A\n",
      "Episode 14700:  73%|███████▎  | 14700/20001 [2:24:27<49:42,  1.78it/s, episode_loss=tf.Tensor(4.2519298, shape=(), dtype=float32), episode_reward=tf.Tensor(77.0, shape=(), dtype=float32)]  \n",
      "t:   0%|          | 0/100 [00:00<?, ?it/s, now=None]\u001b[A\n",
      "t:  14%|█▍        | 14/100 [00:00<00:00, 130.33it/s, now=None]\u001b[A"
     ]
    },
    {
     "name": "stdout",
     "output_type": "stream",
     "text": [
      "MoviePy - Building file keras_train_1006-182031/frames/train_14700.gif with imageio.\n"
     ]
    },
    {
     "name": "stderr",
     "output_type": "stream",
     "text": [
      "\n",
      "t:  26%|██▌       | 26/100 [00:00<00:00, 126.61it/s, now=None]\u001b[A\n",
      "t:  39%|███▉      | 39/100 [00:00<00:00, 124.74it/s, now=None]\u001b[A\n",
      "t:  52%|█████▏    | 52/100 [00:00<00:00, 124.13it/s, now=None]\u001b[A\n",
      "t:  65%|██████▌   | 65/100 [00:00<00:00, 123.87it/s, now=None]\u001b[A\n",
      "t:  78%|███████▊  | 78/100 [00:00<00:00, 124.06it/s, now=None]\u001b[A\n",
      "t:  91%|█████████ | 91/100 [00:00<00:00, 123.98it/s, now=None]\u001b[A\n",
      "Episode 14800:  74%|███████▍  | 14800/20001 [2:25:24<48:28,  1.79it/s, episode_loss=tf.Tensor(4.694721, shape=(), dtype=float32), episode_reward=tf.Tensor(57.0, shape=(), dtype=float32)]     \n",
      "t:   0%|          | 0/100 [00:00<?, ?it/s, now=None]\u001b[A\n",
      "t:  14%|█▍        | 14/100 [00:00<00:00, 133.84it/s, now=None]\u001b[A"
     ]
    },
    {
     "name": "stdout",
     "output_type": "stream",
     "text": [
      "MoviePy - Building file keras_train_1006-182031/frames/train_14800.gif with imageio.\n"
     ]
    },
    {
     "name": "stderr",
     "output_type": "stream",
     "text": [
      "\n",
      "t:  26%|██▌       | 26/100 [00:00<00:00, 128.92it/s, now=None]\u001b[A\n",
      "t:  38%|███▊      | 38/100 [00:00<00:00, 125.77it/s, now=None]\u001b[A\n",
      "t:  50%|█████     | 50/100 [00:00<00:00, 123.67it/s, now=None]\u001b[A\n",
      "t:  63%|██████▎   | 63/100 [00:00<00:00, 124.26it/s, now=None]\u001b[A\n",
      "t:  76%|███████▌  | 76/100 [00:00<00:00, 123.24it/s, now=None]\u001b[A\n",
      "t:  89%|████████▉ | 89/100 [00:00<00:00, 122.91it/s, now=None]\u001b[A\n",
      "Episode 14900:  74%|███████▍  | 14900/20001 [2:26:21<50:05,  1.70it/s, episode_loss=tf.Tensor(8.589989, shape=(), dtype=float32), episode_reward=tf.Tensor(61.0, shape=(), dtype=float32)]   \n",
      "t:   0%|          | 0/100 [00:00<?, ?it/s, now=None]\u001b[A\n",
      "t:  14%|█▍        | 14/100 [00:00<00:00, 130.90it/s, now=None]\u001b[A"
     ]
    },
    {
     "name": "stdout",
     "output_type": "stream",
     "text": [
      "MoviePy - Building file keras_train_1006-182031/frames/train_14900.gif with imageio.\n"
     ]
    },
    {
     "name": "stderr",
     "output_type": "stream",
     "text": [
      "\n",
      "t:  26%|██▌       | 26/100 [00:00<00:00, 127.20it/s, now=None]\u001b[A\n",
      "t:  38%|███▊      | 38/100 [00:00<00:00, 124.17it/s, now=None]\u001b[A\n",
      "t:  50%|█████     | 50/100 [00:00<00:00, 122.04it/s, now=None]\u001b[A\n",
      "t:  62%|██████▏   | 62/100 [00:00<00:00, 120.72it/s, now=None]\u001b[A\n",
      "t:  74%|███████▍  | 74/100 [00:00<00:00, 120.40it/s, now=None]\u001b[A\n",
      "t:  86%|████████▌ | 86/100 [00:00<00:00, 119.73it/s, now=None]\u001b[A\n",
      "t:  98%|█████████▊| 98/100 [00:00<00:00, 118.23it/s, now=None]\u001b[A\n",
      "Episode 15000:  75%|███████▍  | 15000/20001 [2:27:19<46:37,  1.79it/s, episode_loss=tf.Tensor(6.5917177, shape=(), dtype=float32), episode_reward=tf.Tensor(53.0, shape=(), dtype=float32)]  \n",
      "t:   0%|          | 0/100 [00:00<?, ?it/s, now=None]\u001b[A\n",
      "t:  15%|█▌        | 15/100 [00:00<00:00, 144.44it/s, now=None]\u001b[A"
     ]
    },
    {
     "name": "stdout",
     "output_type": "stream",
     "text": [
      "MoviePy - Building file keras_train_1006-182031/frames/train_15000.gif with imageio.\n"
     ]
    },
    {
     "name": "stderr",
     "output_type": "stream",
     "text": [
      "\n",
      "t:  29%|██▉       | 29/100 [00:00<00:00, 140.76it/s, now=None]\u001b[A\n",
      "t:  43%|████▎     | 43/100 [00:00<00:00, 139.29it/s, now=None]\u001b[A\n",
      "t:  57%|█████▋    | 57/100 [00:00<00:00, 136.80it/s, now=None]\u001b[A\n",
      "t:  71%|███████   | 71/100 [00:00<00:00, 135.41it/s, now=None]\u001b[A\n",
      "t:  85%|████████▌ | 85/100 [00:00<00:00, 134.10it/s, now=None]\u001b[A\n",
      "t:  99%|█████████▉| 99/100 [00:00<00:00, 134.82it/s, now=None]\u001b[A\n",
      "Episode 15100:  75%|███████▌  | 15100/20001 [2:28:16<45:22,  1.80it/s, episode_loss=tf.Tensor(5.583062, shape=(), dtype=float32), episode_reward=tf.Tensor(97.0, shape=(), dtype=float32)]   \n",
      "t:   0%|          | 0/100 [00:00<?, ?it/s, now=None]\u001b[A\n",
      "t:  14%|█▍        | 14/100 [00:00<00:00, 130.42it/s, now=None]\u001b[A"
     ]
    },
    {
     "name": "stdout",
     "output_type": "stream",
     "text": [
      "MoviePy - Building file keras_train_1006-182031/frames/train_15100.gif with imageio.\n"
     ]
    },
    {
     "name": "stderr",
     "output_type": "stream",
     "text": [
      "\n",
      "t:  26%|██▌       | 26/100 [00:00<00:00, 126.38it/s, now=None]\u001b[A\n",
      "t:  39%|███▉      | 39/100 [00:00<00:00, 125.02it/s, now=None]\u001b[A\n",
      "t:  52%|█████▏    | 52/100 [00:00<00:00, 124.03it/s, now=None]\u001b[A\n",
      "t:  65%|██████▌   | 65/100 [00:00<00:00, 123.90it/s, now=None]\u001b[A\n",
      "t:  78%|███████▊  | 78/100 [00:00<00:00, 123.84it/s, now=None]\u001b[A\n",
      "t:  91%|█████████ | 91/100 [00:00<00:00, 123.93it/s, now=None]\u001b[A\n",
      "Episode 15200:  76%|███████▌  | 15200/20001 [2:29:13<44:49,  1.79it/s, episode_loss=tf.Tensor(4.945396, shape=(), dtype=float32), episode_reward=tf.Tensor(49.0, shape=(), dtype=float32)]    \n",
      "t:   0%|          | 0/100 [00:00<?, ?it/s, now=None]\u001b[A\n",
      "t:  14%|█▍        | 14/100 [00:00<00:00, 133.21it/s, now=None]\u001b[A"
     ]
    },
    {
     "name": "stdout",
     "output_type": "stream",
     "text": [
      "MoviePy - Building file keras_train_1006-182031/frames/train_15200.gif with imageio.\n"
     ]
    },
    {
     "name": "stderr",
     "output_type": "stream",
     "text": [
      "\n",
      "t:  26%|██▌       | 26/100 [00:00<00:00, 128.50it/s, now=None]\u001b[A\n",
      "t:  39%|███▉      | 39/100 [00:00<00:00, 126.58it/s, now=None]\u001b[A\n",
      "t:  52%|█████▏    | 52/100 [00:00<00:00, 124.68it/s, now=None]\u001b[A\n",
      "t:  64%|██████▍   | 64/100 [00:00<00:00, 122.99it/s, now=None]\u001b[A\n",
      "t:  76%|███████▌  | 76/100 [00:00<00:00, 121.15it/s, now=None]\u001b[A\n",
      "t:  88%|████████▊ | 88/100 [00:00<00:00, 120.43it/s, now=None]\u001b[A\n",
      "t: 100%|██████████| 100/100 [00:00<00:00, 119.92it/s, now=None]\u001b[A\n",
      "Episode 15300:  76%|███████▋  | 15300/20001 [2:30:10<45:03,  1.74it/s, episode_loss=tf.Tensor(6.0492077, shape=(), dtype=float32), episode_reward=tf.Tensor(74.0, shape=(), dtype=float32)]  \n",
      "t:   0%|          | 0/100 [00:00<?, ?it/s, now=None]\u001b[A\n",
      "t:  13%|█▎        | 13/100 [00:00<00:00, 128.50it/s, now=None]\u001b[A"
     ]
    },
    {
     "name": "stdout",
     "output_type": "stream",
     "text": [
      "MoviePy - Building file keras_train_1006-182031/frames/train_15300.gif with imageio.\n"
     ]
    },
    {
     "name": "stderr",
     "output_type": "stream",
     "text": [
      "\n",
      "t:  25%|██▌       | 25/100 [00:00<00:00, 125.22it/s, now=None]\u001b[A\n",
      "t:  37%|███▋      | 37/100 [00:00<00:00, 122.64it/s, now=None]\u001b[A\n",
      "t:  49%|████▉     | 49/100 [00:00<00:00, 121.41it/s, now=None]\u001b[A\n",
      "t:  62%|██████▏   | 62/100 [00:00<00:00, 121.41it/s, now=None]\u001b[A\n",
      "t:  75%|███████▌  | 75/100 [00:00<00:00, 121.59it/s, now=None]\u001b[A\n",
      "t:  87%|████████▋ | 87/100 [00:00<00:00, 120.74it/s, now=None]\u001b[A\n",
      "t:  99%|█████████▉| 99/100 [00:00<00:00, 120.13it/s, now=None]\u001b[A\n",
      "Episode 15400:  77%|███████▋  | 15400/20001 [2:31:07<43:02,  1.78it/s, episode_loss=tf.Tensor(11.443387, shape=(), dtype=float32), episode_reward=tf.Tensor(52.0, shape=(), dtype=float32)]  \n",
      "t:   0%|          | 0/100 [00:00<?, ?it/s, now=None]\u001b[A\n",
      "t:  14%|█▍        | 14/100 [00:00<00:00, 132.82it/s, now=None]\u001b[A"
     ]
    },
    {
     "name": "stdout",
     "output_type": "stream",
     "text": [
      "MoviePy - Building file keras_train_1006-182031/frames/train_15400.gif with imageio.\n"
     ]
    },
    {
     "name": "stderr",
     "output_type": "stream",
     "text": [
      "\n",
      "t:  26%|██▌       | 26/100 [00:00<00:00, 127.99it/s, now=None]\u001b[A\n",
      "t:  39%|███▉      | 39/100 [00:00<00:00, 126.58it/s, now=None]\u001b[A\n",
      "t:  52%|█████▏    | 52/100 [00:00<00:00, 125.47it/s, now=None]\u001b[A\n",
      "t:  65%|██████▌   | 65/100 [00:00<00:00, 124.28it/s, now=None]\u001b[A\n",
      "t:  78%|███████▊  | 78/100 [00:00<00:00, 124.29it/s, now=None]\u001b[A\n",
      "t:  90%|█████████ | 90/100 [00:00<00:00, 122.56it/s, now=None]\u001b[A\n",
      "Episode 15500:  77%|███████▋  | 15500/20001 [2:32:04<41:56,  1.79it/s, episode_loss=tf.Tensor(4.7776194, shape=(), dtype=float32), episode_reward=tf.Tensor(98.0, shape=(), dtype=float32)]   \n",
      "t:   0%|          | 0/100 [00:00<?, ?it/s, now=None]\u001b[A\n",
      "t:  15%|█▌        | 15/100 [00:00<00:00, 144.65it/s, now=None]\u001b[A"
     ]
    },
    {
     "name": "stdout",
     "output_type": "stream",
     "text": [
      "MoviePy - Building file keras_train_1006-182031/frames/train_15500.gif with imageio.\n"
     ]
    },
    {
     "name": "stderr",
     "output_type": "stream",
     "text": [
      "\n",
      "t:  29%|██▉       | 29/100 [00:00<00:00, 140.39it/s, now=None]\u001b[A\n",
      "t:  43%|████▎     | 43/100 [00:00<00:00, 138.00it/s, now=None]\u001b[A\n",
      "t:  56%|█████▌    | 56/100 [00:00<00:00, 134.97it/s, now=None]\u001b[A\n",
      "t:  70%|███████   | 70/100 [00:00<00:00, 134.00it/s, now=None]\u001b[A\n",
      "t:  84%|████████▍ | 84/100 [00:00<00:00, 133.61it/s, now=None]\u001b[A\n",
      "t:  98%|█████████▊| 98/100 [00:00<00:00, 134.63it/s, now=None]\u001b[A\n",
      "Episode 15600:  78%|███████▊  | 15600/20001 [2:33:01<42:36,  1.72it/s, episode_loss=tf.Tensor(7.0380106, shape=(), dtype=float32), episode_reward=tf.Tensor(92.0, shape=(), dtype=float32)]   \n",
      "t:   0%|          | 0/100 [00:00<?, ?it/s, now=None]\u001b[A\n",
      "t:  15%|█▌        | 15/100 [00:00<00:00, 148.85it/s, now=None]\u001b[A"
     ]
    },
    {
     "name": "stdout",
     "output_type": "stream",
     "text": [
      "MoviePy - Building file keras_train_1006-182031/frames/train_15600.gif with imageio.\n"
     ]
    },
    {
     "name": "stderr",
     "output_type": "stream",
     "text": [
      "\n",
      "t:  29%|██▉       | 29/100 [00:00<00:00, 142.90it/s, now=None]\u001b[A\n",
      "t:  43%|████▎     | 43/100 [00:00<00:00, 140.84it/s, now=None]\u001b[A\n",
      "t:  57%|█████▋    | 57/100 [00:00<00:00, 137.79it/s, now=None]\u001b[A\n",
      "t:  71%|███████   | 71/100 [00:00<00:00, 137.20it/s, now=None]\u001b[A\n",
      "t:  85%|████████▌ | 85/100 [00:00<00:00, 134.98it/s, now=None]\u001b[A\n",
      "t:  99%|█████████▉| 99/100 [00:00<00:00, 135.30it/s, now=None]\u001b[A\n",
      "Episode 15700:  78%|███████▊  | 15700/20001 [2:33:58<40:02,  1.79it/s, episode_loss=tf.Tensor(7.456586, shape=(), dtype=float32), episode_reward=tf.Tensor(55.0, shape=(), dtype=float32)]   \n",
      "t:   0%|          | 0/100 [00:00<?, ?it/s, now=None]\u001b[A\n",
      "t:  14%|█▍        | 14/100 [00:00<00:00, 133.64it/s, now=None]\u001b[A"
     ]
    },
    {
     "name": "stdout",
     "output_type": "stream",
     "text": [
      "MoviePy - Building file keras_train_1006-182031/frames/train_15700.gif with imageio.\n"
     ]
    },
    {
     "name": "stderr",
     "output_type": "stream",
     "text": [
      "\n",
      "t:  27%|██▋       | 27/100 [00:00<00:00, 129.87it/s, now=None]\u001b[A\n",
      "t:  40%|████      | 40/100 [00:00<00:00, 127.11it/s, now=None]\u001b[A\n",
      "t:  53%|█████▎    | 53/100 [00:00<00:00, 125.47it/s, now=None]\u001b[A\n",
      "t:  66%|██████▌   | 66/100 [00:00<00:00, 125.24it/s, now=None]\u001b[A\n",
      "t:  79%|███████▉  | 79/100 [00:00<00:00, 124.42it/s, now=None]\u001b[A\n",
      "t:  92%|█████████▏| 92/100 [00:00<00:00, 123.97it/s, now=None]\u001b[A\n",
      "Episode 15800:  79%|███████▉  | 15800/20001 [2:34:55<39:04,  1.79it/s, episode_loss=tf.Tensor(9.617014, shape=(), dtype=float32), episode_reward=tf.Tensor(76.0, shape=(), dtype=float32)]   \n",
      "t:   0%|          | 0/100 [00:00<?, ?it/s, now=None]\u001b[A\n",
      "t:  14%|█▍        | 14/100 [00:00<00:00, 134.49it/s, now=None]\u001b[A"
     ]
    },
    {
     "name": "stdout",
     "output_type": "stream",
     "text": [
      "MoviePy - Building file keras_train_1006-182031/frames/train_15800.gif with imageio.\n"
     ]
    },
    {
     "name": "stderr",
     "output_type": "stream",
     "text": [
      "\n",
      "t:  26%|██▌       | 26/100 [00:00<00:00, 129.41it/s, now=None]\u001b[A\n",
      "t:  38%|███▊      | 38/100 [00:00<00:00, 126.02it/s, now=None]\u001b[A\n",
      "t:  50%|█████     | 50/100 [00:00<00:00, 123.90it/s, now=None]\u001b[A\n",
      "t:  62%|██████▏   | 62/100 [00:00<00:00, 122.53it/s, now=None]\u001b[A\n",
      "t:  74%|███████▍  | 74/100 [00:00<00:00, 121.26it/s, now=None]\u001b[A\n",
      "t:  86%|████████▌ | 86/100 [00:00<00:00, 120.77it/s, now=None]\u001b[A\n",
      "t:  98%|█████████▊| 98/100 [00:00<00:00, 120.49it/s, now=None]\u001b[A\n",
      "Episode 15900:  79%|███████▉  | 15900/20001 [2:35:52<38:00,  1.80it/s, episode_loss=tf.Tensor(10.228313, shape=(), dtype=float32), episode_reward=tf.Tensor(51.0, shape=(), dtype=float32)] \n",
      "t:   0%|          | 0/100 [00:00<?, ?it/s, now=None]\u001b[A\n",
      "t:  14%|█▍        | 14/100 [00:00<00:00, 134.56it/s, now=None]\u001b[A"
     ]
    },
    {
     "name": "stdout",
     "output_type": "stream",
     "text": [
      "MoviePy - Building file keras_train_1006-182031/frames/train_15900.gif with imageio.\n"
     ]
    },
    {
     "name": "stderr",
     "output_type": "stream",
     "text": [
      "\n",
      "t:  27%|██▋       | 27/100 [00:00<00:00, 130.71it/s, now=None]\u001b[A\n",
      "t:  40%|████      | 40/100 [00:00<00:00, 127.95it/s, now=None]\u001b[A\n",
      "t:  52%|█████▏    | 52/100 [00:00<00:00, 125.41it/s, now=None]\u001b[A\n",
      "t:  64%|██████▍   | 64/100 [00:00<00:00, 123.19it/s, now=None]\u001b[A\n",
      "t:  77%|███████▋  | 77/100 [00:00<00:00, 122.47it/s, now=None]\u001b[A\n",
      "t:  90%|█████████ | 90/100 [00:00<00:00, 122.28it/s, now=None]\u001b[A\n",
      "Episode 16000:  80%|███████▉  | 16000/20001 [2:36:49<37:46,  1.77it/s, episode_loss=tf.Tensor(5.3626776, shape=(), dtype=float32), episode_reward=tf.Tensor(79.0, shape=(), dtype=float32)]  \n",
      "t:   0%|          | 0/100 [00:00<?, ?it/s, now=None]\u001b[A\n",
      "t:  14%|█▍        | 14/100 [00:00<00:00, 132.70it/s, now=None]\u001b[A"
     ]
    },
    {
     "name": "stdout",
     "output_type": "stream",
     "text": [
      "MoviePy - Building file keras_train_1006-182031/frames/train_16000.gif with imageio.\n"
     ]
    },
    {
     "name": "stderr",
     "output_type": "stream",
     "text": [
      "\n",
      "t:  26%|██▌       | 26/100 [00:00<00:00, 127.75it/s, now=None]\u001b[A\n",
      "t:  39%|███▉      | 39/100 [00:00<00:00, 126.37it/s, now=None]\u001b[A\n",
      "t:  51%|█████     | 51/100 [00:00<00:00, 123.91it/s, now=None]\u001b[A\n",
      "t:  64%|██████▍   | 64/100 [00:00<00:00, 123.43it/s, now=None]\u001b[A\n",
      "t:  77%|███████▋  | 77/100 [00:00<00:00, 123.87it/s, now=None]\u001b[A\n",
      "t:  89%|████████▉ | 89/100 [00:00<00:00, 122.24it/s, now=None]\u001b[A\n",
      "Episode 16100:  80%|████████  | 16100/20001 [2:37:46<36:09,  1.80it/s, episode_loss=tf.Tensor(29.828215, shape=(), dtype=float32), episode_reward=tf.Tensor(60.0, shape=(), dtype=float32)]  \n",
      "t:   0%|          | 0/100 [00:00<?, ?it/s, now=None]\u001b[A\n",
      "t:  14%|█▍        | 14/100 [00:00<00:00, 134.47it/s, now=None]\u001b[A"
     ]
    },
    {
     "name": "stdout",
     "output_type": "stream",
     "text": [
      "MoviePy - Building file keras_train_1006-182031/frames/train_16100.gif with imageio.\n"
     ]
    },
    {
     "name": "stderr",
     "output_type": "stream",
     "text": [
      "\n",
      "t:  26%|██▌       | 26/100 [00:00<00:00, 128.48it/s, now=None]\u001b[A\n",
      "t:  38%|███▊      | 38/100 [00:00<00:00, 124.75it/s, now=None]\u001b[A\n",
      "t:  51%|█████     | 51/100 [00:00<00:00, 123.92it/s, now=None]\u001b[A\n",
      "t:  63%|██████▎   | 63/100 [00:00<00:00, 121.91it/s, now=None]\u001b[A\n",
      "t:  76%|███████▌  | 76/100 [00:00<00:00, 121.83it/s, now=None]\u001b[A\n",
      "t:  89%|████████▉ | 89/100 [00:00<00:00, 121.36it/s, now=None]\u001b[A\n",
      "Episode 16200:  81%|████████  | 16200/20001 [2:38:42<35:13,  1.80it/s, episode_loss=tf.Tensor(19.230576, shape=(), dtype=float32), episode_reward=tf.Tensor(46.0, shape=(), dtype=float32)]  \n",
      "t:   0%|          | 0/100 [00:00<?, ?it/s, now=None]\u001b[A\n",
      "t:  14%|█▍        | 14/100 [00:00<00:00, 133.83it/s, now=None]\u001b[A"
     ]
    },
    {
     "name": "stdout",
     "output_type": "stream",
     "text": [
      "MoviePy - Building file keras_train_1006-182031/frames/train_16200.gif with imageio.\n"
     ]
    },
    {
     "name": "stderr",
     "output_type": "stream",
     "text": [
      "\n",
      "t:  26%|██▌       | 26/100 [00:00<00:00, 129.25it/s, now=None]\u001b[A\n",
      "t:  38%|███▊      | 38/100 [00:00<00:00, 126.23it/s, now=None]\u001b[A\n",
      "t:  50%|█████     | 50/100 [00:00<00:00, 123.61it/s, now=None]\u001b[A\n",
      "t:  62%|██████▏   | 62/100 [00:00<00:00, 122.36it/s, now=None]\u001b[A\n",
      "t:  74%|███████▍  | 74/100 [00:00<00:00, 121.02it/s, now=None]\u001b[A\n",
      "t:  87%|████████▋ | 87/100 [00:00<00:00, 121.71it/s, now=None]\u001b[A\n",
      "t: 100%|██████████| 100/100 [00:00<00:00, 121.46it/s, now=None]\u001b[A\n",
      "Episode 16300:  81%|████████▏ | 16300/20001 [2:39:39<35:20,  1.75it/s, episode_loss=tf.Tensor(5.9303613, shape=(), dtype=float32), episode_reward=tf.Tensor(89.0, shape=(), dtype=float32)]   \n",
      "t:   0%|          | 0/100 [00:00<?, ?it/s, now=None]\u001b[A\n",
      "t:  15%|█▌        | 15/100 [00:00<00:00, 145.06it/s, now=None]\u001b[A"
     ]
    },
    {
     "name": "stdout",
     "output_type": "stream",
     "text": [
      "MoviePy - Building file keras_train_1006-182031/frames/train_16300.gif with imageio.\n"
     ]
    },
    {
     "name": "stderr",
     "output_type": "stream",
     "text": [
      "\n",
      "t:  29%|██▉       | 29/100 [00:00<00:00, 140.64it/s, now=None]\u001b[A\n",
      "t:  42%|████▏     | 42/100 [00:00<00:00, 136.92it/s, now=None]\u001b[A\n",
      "t:  56%|█████▌    | 56/100 [00:00<00:00, 137.05it/s, now=None]\u001b[A\n",
      "t:  70%|███████   | 70/100 [00:00<00:00, 135.07it/s, now=None]\u001b[A\n",
      "t:  83%|████████▎ | 83/100 [00:00<00:00, 133.06it/s, now=None]\u001b[A\n",
      "t:  97%|█████████▋| 97/100 [00:00<00:00, 133.46it/s, now=None]\u001b[A\n",
      "Episode 16400:  82%|████████▏ | 16400/20001 [2:40:36<33:23,  1.80it/s, episode_loss=tf.Tensor(9.832508, shape=(), dtype=float32), episode_reward=tf.Tensor(77.0, shape=(), dtype=float32)]   \n",
      "t:   0%|          | 0/100 [00:00<?, ?it/s, now=None]\u001b[A\n",
      "t:  14%|█▍        | 14/100 [00:00<00:00, 132.34it/s, now=None]\u001b[A"
     ]
    },
    {
     "name": "stdout",
     "output_type": "stream",
     "text": [
      "MoviePy - Building file keras_train_1006-182031/frames/train_16400.gif with imageio.\n"
     ]
    },
    {
     "name": "stderr",
     "output_type": "stream",
     "text": [
      "\n",
      "t:  26%|██▌       | 26/100 [00:00<00:00, 127.49it/s, now=None]\u001b[A\n",
      "t:  39%|███▉      | 39/100 [00:00<00:00, 125.25it/s, now=None]\u001b[A\n",
      "t:  51%|█████     | 51/100 [00:00<00:00, 123.37it/s, now=None]\u001b[A\n",
      "t:  64%|██████▍   | 64/100 [00:00<00:00, 123.39it/s, now=None]\u001b[A\n",
      "t:  77%|███████▋  | 77/100 [00:00<00:00, 123.36it/s, now=None]\u001b[A\n",
      "t:  90%|█████████ | 90/100 [00:00<00:00, 122.66it/s, now=None]\u001b[A\n",
      "Episode 16500:  82%|████████▏ | 16500/20001 [2:41:33<32:32,  1.79it/s, episode_loss=tf.Tensor(1.5111449, shape=(), dtype=float32), episode_reward=tf.Tensor(75.0, shape=(), dtype=float32)]  \n",
      "t:   0%|          | 0/100 [00:00<?, ?it/s, now=None]\u001b[A\n",
      "t:  15%|█▌        | 15/100 [00:00<00:00, 148.81it/s, now=None]\u001b[A"
     ]
    },
    {
     "name": "stdout",
     "output_type": "stream",
     "text": [
      "MoviePy - Building file keras_train_1006-182031/frames/train_16500.gif with imageio.\n"
     ]
    },
    {
     "name": "stderr",
     "output_type": "stream",
     "text": [
      "\n",
      "t:  29%|██▉       | 29/100 [00:00<00:00, 143.31it/s, now=None]\u001b[A\n",
      "t:  43%|████▎     | 43/100 [00:00<00:00, 139.53it/s, now=None]\u001b[A\n",
      "t:  57%|█████▋    | 57/100 [00:00<00:00, 138.42it/s, now=None]\u001b[A\n",
      "t:  71%|███████   | 71/100 [00:00<00:00, 136.62it/s, now=None]\u001b[A\n",
      "t:  85%|████████▌ | 85/100 [00:00<00:00, 135.18it/s, now=None]\u001b[A\n",
      "t:  99%|█████████▉| 99/100 [00:00<00:00, 133.89it/s, now=None]\u001b[A\n",
      "Episode 16600:  83%|████████▎ | 16600/20001 [2:42:30<32:32,  1.74it/s, episode_loss=tf.Tensor(7.2020717, shape=(), dtype=float32), episode_reward=tf.Tensor(89.0, shape=(), dtype=float32)] \n",
      "t:   0%|          | 0/100 [00:00<?, ?it/s, now=None]\u001b[A\n",
      "t:  15%|█▌        | 15/100 [00:00<00:00, 141.92it/s, now=None]\u001b[A"
     ]
    },
    {
     "name": "stdout",
     "output_type": "stream",
     "text": [
      "MoviePy - Building file keras_train_1006-182031/frames/train_16600.gif with imageio.\n"
     ]
    },
    {
     "name": "stderr",
     "output_type": "stream",
     "text": [
      "\n",
      "t:  28%|██▊       | 28/100 [00:00<00:00, 138.07it/s, now=None]\u001b[A\n",
      "t:  42%|████▏     | 42/100 [00:00<00:00, 137.03it/s, now=None]\u001b[A\n",
      "t:  56%|█████▌    | 56/100 [00:00<00:00, 135.27it/s, now=None]\u001b[A\n",
      "t:  70%|███████   | 70/100 [00:00<00:00, 135.62it/s, now=None]\u001b[A\n",
      "t:  84%|████████▍ | 84/100 [00:00<00:00, 135.73it/s, now=None]\u001b[A\n",
      "t:  98%|█████████▊| 98/100 [00:00<00:00, 135.64it/s, now=None]\u001b[A\n",
      "Episode 16700:  83%|████████▎ | 16700/20001 [2:43:27<31:02,  1.77it/s, episode_loss=tf.Tensor(8.785764, shape=(), dtype=float32), episode_reward=tf.Tensor(96.0, shape=(), dtype=float32)]   \n",
      "t:   0%|          | 0/100 [00:00<?, ?it/s, now=None]\u001b[A\n",
      "t:  15%|█▌        | 15/100 [00:00<00:00, 147.90it/s, now=None]\u001b[A"
     ]
    },
    {
     "name": "stdout",
     "output_type": "stream",
     "text": [
      "MoviePy - Building file keras_train_1006-182031/frames/train_16700.gif with imageio.\n"
     ]
    },
    {
     "name": "stderr",
     "output_type": "stream",
     "text": [
      "\n",
      "t:  29%|██▉       | 29/100 [00:00<00:00, 143.16it/s, now=None]\u001b[A\n",
      "t:  43%|████▎     | 43/100 [00:00<00:00, 139.40it/s, now=None]\u001b[A\n",
      "t:  57%|█████▋    | 57/100 [00:00<00:00, 137.04it/s, now=None]\u001b[A\n",
      "t:  70%|███████   | 70/100 [00:00<00:00, 134.69it/s, now=None]\u001b[A\n",
      "t:  84%|████████▍ | 84/100 [00:00<00:00, 134.15it/s, now=None]\u001b[A\n",
      "t:  98%|█████████▊| 98/100 [00:00<00:00, 134.30it/s, now=None]\u001b[A\n",
      "Episode 16800:  84%|████████▍ | 16800/20001 [2:44:24<29:43,  1.79it/s, episode_loss=tf.Tensor(-5.2988114, shape=(), dtype=float32), episode_reward=tf.Tensor(49.0, shape=(), dtype=float32)] \n",
      "t:   0%|          | 0/100 [00:00<?, ?it/s, now=None]\u001b[A\n",
      "t:  15%|█▌        | 15/100 [00:00<00:00, 144.02it/s, now=None]\u001b[A"
     ]
    },
    {
     "name": "stdout",
     "output_type": "stream",
     "text": [
      "MoviePy - Building file keras_train_1006-182031/frames/train_16800.gif with imageio.\n"
     ]
    },
    {
     "name": "stderr",
     "output_type": "stream",
     "text": [
      "\n",
      "t:  29%|██▉       | 29/100 [00:00<00:00, 140.69it/s, now=None]\u001b[A\n",
      "t:  43%|████▎     | 43/100 [00:00<00:00, 138.37it/s, now=None]\u001b[A\n",
      "t:  57%|█████▋    | 57/100 [00:00<00:00, 137.09it/s, now=None]\u001b[A\n",
      "t:  71%|███████   | 71/100 [00:00<00:00, 135.66it/s, now=None]\u001b[A\n",
      "t:  85%|████████▌ | 85/100 [00:00<00:00, 134.76it/s, now=None]\u001b[A\n",
      "t:  99%|█████████▉| 99/100 [00:00<00:00, 134.41it/s, now=None]\u001b[A\n",
      "Episode 16900:  84%|████████▍ | 16900/20001 [2:45:21<28:44,  1.80it/s, episode_loss=tf.Tensor(-7.5419674, shape=(), dtype=float32), episode_reward=tf.Tensor(66.0, shape=(), dtype=float32)]  \n",
      "t:   0%|          | 0/100 [00:00<?, ?it/s, now=None]\u001b[A\n",
      "t:  15%|█▌        | 15/100 [00:00<00:00, 140.18it/s, now=None]\u001b[A"
     ]
    },
    {
     "name": "stdout",
     "output_type": "stream",
     "text": [
      "MoviePy - Building file keras_train_1006-182031/frames/train_16900.gif with imageio.\n"
     ]
    },
    {
     "name": "stderr",
     "output_type": "stream",
     "text": [
      "\n",
      "t:  28%|██▊       | 28/100 [00:00<00:00, 136.12it/s, now=None]\u001b[A\n",
      "t:  42%|████▏     | 42/100 [00:00<00:00, 134.66it/s, now=None]\u001b[A\n",
      "t:  56%|█████▌    | 56/100 [00:00<00:00, 134.07it/s, now=None]\u001b[A\n",
      "t:  70%|███████   | 70/100 [00:00<00:00, 133.33it/s, now=None]\u001b[A\n",
      "t:  84%|████████▍ | 84/100 [00:00<00:00, 133.17it/s, now=None]\u001b[A\n",
      "t:  98%|█████████▊| 98/100 [00:00<00:00, 132.92it/s, now=None]\u001b[A\n",
      "Episode 17000:  85%|████████▍ | 17000/20001 [2:46:18<28:32,  1.75it/s, episode_loss=tf.Tensor(5.8960714, shape=(), dtype=float32), episode_reward=tf.Tensor(73.0, shape=(), dtype=float32)]   \n",
      "t:   0%|          | 0/100 [00:00<?, ?it/s, now=None]\u001b[A\n",
      "t:  14%|█▍        | 14/100 [00:00<00:00, 129.85it/s, now=None]\u001b[A"
     ]
    },
    {
     "name": "stdout",
     "output_type": "stream",
     "text": [
      "MoviePy - Building file keras_train_1006-182031/frames/train_17000.gif with imageio.\n"
     ]
    },
    {
     "name": "stderr",
     "output_type": "stream",
     "text": [
      "\n",
      "t:  27%|██▋       | 27/100 [00:00<00:00, 127.77it/s, now=None]\u001b[A\n",
      "t:  39%|███▉      | 39/100 [00:00<00:00, 124.04it/s, now=None]\u001b[A\n",
      "t:  52%|█████▏    | 52/100 [00:00<00:00, 123.90it/s, now=None]\u001b[A\n",
      "t:  65%|██████▌   | 65/100 [00:00<00:00, 123.36it/s, now=None]\u001b[A\n",
      "t:  77%|███████▋  | 77/100 [00:00<00:00, 121.73it/s, now=None]\u001b[A\n",
      "t:  89%|████████▉ | 89/100 [00:00<00:00, 120.90it/s, now=None]\u001b[A\n",
      "Episode 17100:  85%|████████▌ | 17100/20001 [2:47:15<27:00,  1.79it/s, episode_loss=tf.Tensor(-22.628448, shape=(), dtype=float32), episode_reward=tf.Tensor(42.0, shape=(), dtype=float32)] \n",
      "t:   0%|          | 0/100 [00:00<?, ?it/s, now=None]\u001b[A\n",
      "t:  15%|█▌        | 15/100 [00:00<00:00, 149.66it/s, now=None]\u001b[A"
     ]
    },
    {
     "name": "stdout",
     "output_type": "stream",
     "text": [
      "MoviePy - Building file keras_train_1006-182031/frames/train_17100.gif with imageio.\n"
     ]
    },
    {
     "name": "stderr",
     "output_type": "stream",
     "text": [
      "\n",
      "t:  28%|██▊       | 28/100 [00:00<00:00, 143.14it/s, now=None]\u001b[A\n",
      "t:  42%|████▏     | 42/100 [00:00<00:00, 139.11it/s, now=None]\u001b[A\n",
      "t:  56%|█████▌    | 56/100 [00:00<00:00, 137.89it/s, now=None]\u001b[A\n",
      "t:  70%|███████   | 70/100 [00:00<00:00, 136.67it/s, now=None]\u001b[A\n",
      "t:  84%|████████▍ | 84/100 [00:00<00:00, 135.33it/s, now=None]\u001b[A\n",
      "t:  98%|█████████▊| 98/100 [00:00<00:00, 134.32it/s, now=None]\u001b[A\n",
      "Episode 17200:  86%|████████▌ | 17200/20001 [2:48:12<25:51,  1.81it/s, episode_loss=tf.Tensor(11.120324, shape=(), dtype=float32), episode_reward=tf.Tensor(62.0, shape=(), dtype=float32)] \n",
      "t:   0%|          | 0/100 [00:00<?, ?it/s, now=None]\u001b[A\n",
      "t:  14%|█▍        | 14/100 [00:00<00:00, 130.98it/s, now=None]\u001b[A"
     ]
    },
    {
     "name": "stdout",
     "output_type": "stream",
     "text": [
      "MoviePy - Building file keras_train_1006-182031/frames/train_17200.gif with imageio.\n"
     ]
    },
    {
     "name": "stderr",
     "output_type": "stream",
     "text": [
      "\n",
      "t:  26%|██▌       | 26/100 [00:00<00:00, 126.94it/s, now=None]\u001b[A\n",
      "t:  38%|███▊      | 38/100 [00:00<00:00, 124.05it/s, now=None]\u001b[A\n",
      "t:  50%|█████     | 50/100 [00:00<00:00, 122.41it/s, now=None]\u001b[A\n",
      "t:  62%|██████▏   | 62/100 [00:00<00:00, 121.22it/s, now=None]\u001b[A\n",
      "t:  74%|███████▍  | 74/100 [00:00<00:00, 120.25it/s, now=None]\u001b[A\n",
      "t:  86%|████████▌ | 86/100 [00:00<00:00, 119.97it/s, now=None]\u001b[A\n",
      "t:  98%|█████████▊| 98/100 [00:00<00:00, 119.73it/s, now=None]\u001b[A\n",
      "Episode 17300:  86%|████████▋ | 17300/20001 [2:49:09<25:04,  1.80it/s, episode_loss=tf.Tensor(9.266773, shape=(), dtype=float32), episode_reward=tf.Tensor(45.0, shape=(), dtype=float32)]  \n",
      "t:   0%|          | 0/100 [00:00<?, ?it/s, now=None]\u001b[A\n",
      "t:  14%|█▍        | 14/100 [00:00<00:00, 134.16it/s, now=None]\u001b[A"
     ]
    },
    {
     "name": "stdout",
     "output_type": "stream",
     "text": [
      "MoviePy - Building file keras_train_1006-182031/frames/train_17300.gif with imageio.\n"
     ]
    },
    {
     "name": "stderr",
     "output_type": "stream",
     "text": [
      "\n",
      "t:  27%|██▋       | 27/100 [00:00<00:00, 129.94it/s, now=None]\u001b[A\n",
      "t:  40%|████      | 40/100 [00:00<00:00, 127.78it/s, now=None]\u001b[A\n",
      "t:  53%|█████▎    | 53/100 [00:00<00:00, 126.10it/s, now=None]\u001b[A\n",
      "t:  66%|██████▌   | 66/100 [00:00<00:00, 124.99it/s, now=None]\u001b[A\n",
      "t:  79%|███████▉  | 79/100 [00:00<00:00, 123.96it/s, now=None]\u001b[A\n",
      "t:  92%|█████████▏| 92/100 [00:00<00:00, 124.08it/s, now=None]\u001b[A\n",
      "Episode 17400:  87%|████████▋ | 17400/20001 [2:50:06<24:23,  1.78it/s, episode_loss=tf.Tensor(5.581766, shape=(), dtype=float32), episode_reward=tf.Tensor(51.0, shape=(), dtype=float32)]  \n",
      "t:   0%|          | 0/100 [00:00<?, ?it/s, now=None]\u001b[A\n",
      "t:  14%|█▍        | 14/100 [00:00<00:00, 134.63it/s, now=None]\u001b[A"
     ]
    },
    {
     "name": "stdout",
     "output_type": "stream",
     "text": [
      "MoviePy - Building file keras_train_1006-182031/frames/train_17400.gif with imageio.\n"
     ]
    },
    {
     "name": "stderr",
     "output_type": "stream",
     "text": [
      "\n",
      "t:  27%|██▋       | 27/100 [00:00<00:00, 130.58it/s, now=None]\u001b[A\n",
      "t:  40%|████      | 40/100 [00:00<00:00, 127.82it/s, now=None]\u001b[A\n",
      "t:  52%|█████▏    | 52/100 [00:00<00:00, 124.88it/s, now=None]\u001b[A\n",
      "t:  65%|██████▌   | 65/100 [00:00<00:00, 123.66it/s, now=None]\u001b[A\n",
      "t:  78%|███████▊  | 78/100 [00:00<00:00, 123.38it/s, now=None]\u001b[A\n",
      "t:  91%|█████████ | 91/100 [00:00<00:00, 123.45it/s, now=None]\u001b[A\n",
      "Episode 17500:  87%|████████▋ | 17500/20001 [2:51:03<23:22,  1.78it/s, episode_loss=tf.Tensor(12.200382, shape=(), dtype=float32), episode_reward=tf.Tensor(53.0, shape=(), dtype=float32)] \n",
      "t:   0%|          | 0/100 [00:00<?, ?it/s, now=None]\u001b[A\n",
      "t:  14%|█▍        | 14/100 [00:00<00:00, 133.75it/s, now=None]\u001b[A"
     ]
    },
    {
     "name": "stdout",
     "output_type": "stream",
     "text": [
      "MoviePy - Building file keras_train_1006-182031/frames/train_17500.gif with imageio.\n"
     ]
    },
    {
     "name": "stderr",
     "output_type": "stream",
     "text": [
      "\n",
      "t:  27%|██▋       | 27/100 [00:00<00:00, 129.88it/s, now=None]\u001b[A\n",
      "t:  40%|████      | 40/100 [00:00<00:00, 127.50it/s, now=None]\u001b[A\n",
      "t:  53%|█████▎    | 53/100 [00:00<00:00, 126.42it/s, now=None]\u001b[A\n",
      "t:  65%|██████▌   | 65/100 [00:00<00:00, 124.31it/s, now=None]\u001b[A\n",
      "t:  78%|███████▊  | 78/100 [00:00<00:00, 123.16it/s, now=None]\u001b[A\n",
      "t:  91%|█████████ | 91/100 [00:00<00:00, 123.52it/s, now=None]\u001b[A\n",
      "Episode 17600:  88%|████████▊ | 17600/20001 [2:52:00<22:37,  1.77it/s, episode_loss=tf.Tensor(3.2002633, shape=(), dtype=float32), episode_reward=tf.Tensor(49.0, shape=(), dtype=float32)] \n",
      "t:   0%|          | 0/100 [00:00<?, ?it/s, now=None]\u001b[A\n",
      "t:  13%|█▎        | 13/100 [00:00<00:00, 124.57it/s, now=None]\u001b[A"
     ]
    },
    {
     "name": "stdout",
     "output_type": "stream",
     "text": [
      "MoviePy - Building file keras_train_1006-182031/frames/train_17600.gif with imageio.\n"
     ]
    },
    {
     "name": "stderr",
     "output_type": "stream",
     "text": [
      "\n",
      "t:  25%|██▌       | 25/100 [00:00<00:00, 121.01it/s, now=None]\u001b[A\n",
      "t:  37%|███▋      | 37/100 [00:00<00:00, 118.80it/s, now=None]\u001b[A\n",
      "t:  49%|████▉     | 49/100 [00:00<00:00, 117.11it/s, now=None]\u001b[A\n",
      "t:  61%|██████    | 61/100 [00:00<00:00, 115.85it/s, now=None]\u001b[A\n",
      "t:  73%|███████▎  | 73/100 [00:00<00:00, 115.33it/s, now=None]\u001b[A\n",
      "t:  85%|████████▌ | 85/100 [00:00<00:00, 114.46it/s, now=None]\u001b[A\n",
      "t:  97%|█████████▋| 97/100 [00:00<00:00, 114.25it/s, now=None]\u001b[A\n",
      "Episode 17700:  88%|████████▊ | 17700/20001 [2:52:57<22:38,  1.69it/s, episode_loss=tf.Tensor(8.975568, shape=(), dtype=float32), episode_reward=tf.Tensor(83.0, shape=(), dtype=float32)]   \n",
      "t:   0%|          | 0/100 [00:00<?, ?it/s, now=None]\u001b[A\n",
      "t:  14%|█▍        | 14/100 [00:00<00:00, 130.00it/s, now=None]\u001b[A"
     ]
    },
    {
     "name": "stdout",
     "output_type": "stream",
     "text": [
      "MoviePy - Building file keras_train_1006-182031/frames/train_17700.gif with imageio.\n"
     ]
    },
    {
     "name": "stderr",
     "output_type": "stream",
     "text": [
      "\n",
      "t:  26%|██▌       | 26/100 [00:00<00:00, 126.53it/s, now=None]\u001b[A\n",
      "t:  39%|███▉      | 39/100 [00:00<00:00, 124.78it/s, now=None]\u001b[A\n",
      "t:  51%|█████     | 51/100 [00:00<00:00, 123.26it/s, now=None]\u001b[A\n",
      "t:  64%|██████▍   | 64/100 [00:00<00:00, 122.61it/s, now=None]\u001b[A\n",
      "t:  77%|███████▋  | 77/100 [00:00<00:00, 122.03it/s, now=None]\u001b[A\n",
      "t:  90%|█████████ | 90/100 [00:00<00:00, 121.85it/s, now=None]\u001b[A\n",
      "Episode 17800:  89%|████████▉ | 17800/20001 [2:53:55<21:52,  1.68it/s, episode_loss=tf.Tensor(3.5847924, shape=(), dtype=float32), episode_reward=tf.Tensor(98.0, shape=(), dtype=float32)]   \n",
      "t:   0%|          | 0/100 [00:00<?, ?it/s, now=None]\u001b[A\n",
      "t:  13%|█▎        | 13/100 [00:00<00:00, 128.75it/s, now=None]\u001b[A"
     ]
    },
    {
     "name": "stdout",
     "output_type": "stream",
     "text": [
      "MoviePy - Building file keras_train_1006-182031/frames/train_17800.gif with imageio.\n"
     ]
    },
    {
     "name": "stderr",
     "output_type": "stream",
     "text": [
      "\n",
      "t:  25%|██▌       | 25/100 [00:00<00:00, 124.64it/s, now=None]\u001b[A\n",
      "t:  37%|███▋      | 37/100 [00:00<00:00, 121.73it/s, now=None]\u001b[A\n",
      "t:  49%|████▉     | 49/100 [00:00<00:00, 120.54it/s, now=None]\u001b[A\n",
      "t:  61%|██████    | 61/100 [00:00<00:00, 119.26it/s, now=None]\u001b[A\n",
      "t:  74%|███████▍  | 74/100 [00:00<00:00, 119.72it/s, now=None]\u001b[A\n",
      "t:  86%|████████▌ | 86/100 [00:00<00:00, 119.25it/s, now=None]\u001b[A\n",
      "t:  99%|█████████▉| 99/100 [00:00<00:00, 119.88it/s, now=None]\u001b[A\n",
      "Episode 17900:  89%|████████▉ | 17900/20001 [2:54:55<20:37,  1.70it/s, episode_loss=tf.Tensor(5.350848, shape=(), dtype=float32), episode_reward=tf.Tensor(89.0, shape=(), dtype=float32)]  \n",
      "t:   0%|          | 0/100 [00:00<?, ?it/s, now=None]\u001b[A\n",
      "t:  15%|█▌        | 15/100 [00:00<00:00, 139.58it/s, now=None]\u001b[A"
     ]
    },
    {
     "name": "stdout",
     "output_type": "stream",
     "text": [
      "MoviePy - Building file keras_train_1006-182031/frames/train_17900.gif with imageio.\n"
     ]
    },
    {
     "name": "stderr",
     "output_type": "stream",
     "text": [
      "\n",
      "t:  28%|██▊       | 28/100 [00:00<00:00, 136.21it/s, now=None]\u001b[A\n",
      "t:  41%|████      | 41/100 [00:00<00:00, 133.76it/s, now=None]\u001b[A\n",
      "t:  54%|█████▍    | 54/100 [00:00<00:00, 132.21it/s, now=None]\u001b[A\n",
      "t:  68%|██████▊   | 68/100 [00:00<00:00, 132.00it/s, now=None]\u001b[A\n",
      "t:  82%|████████▏ | 82/100 [00:00<00:00, 132.84it/s, now=None]\u001b[A\n",
      "t:  96%|█████████▌| 96/100 [00:00<00:00, 132.12it/s, now=None]\u001b[A\n",
      "Episode 18000:  90%|████████▉ | 18000/20001 [2:55:55<19:40,  1.69it/s, episode_loss=tf.Tensor(4.7441463, shape=(), dtype=float32), episode_reward=tf.Tensor(63.0, shape=(), dtype=float32)]   \n",
      "t:   0%|          | 0/100 [00:00<?, ?it/s, now=None]\u001b[A\n",
      "t:  13%|█▎        | 13/100 [00:00<00:00, 127.76it/s, now=None]\u001b[A"
     ]
    },
    {
     "name": "stdout",
     "output_type": "stream",
     "text": [
      "MoviePy - Building file keras_train_1006-182031/frames/train_18000.gif with imageio.\n"
     ]
    },
    {
     "name": "stderr",
     "output_type": "stream",
     "text": [
      "\n",
      "t:  25%|██▌       | 25/100 [00:00<00:00, 122.20it/s, now=None]\u001b[A\n",
      "t:  37%|███▋      | 37/100 [00:00<00:00, 119.20it/s, now=None]\u001b[A\n",
      "t:  49%|████▉     | 49/100 [00:00<00:00, 117.12it/s, now=None]\u001b[A\n",
      "t:  61%|██████    | 61/100 [00:00<00:00, 115.51it/s, now=None]\u001b[A\n",
      "t:  73%|███████▎  | 73/100 [00:00<00:00, 114.59it/s, now=None]\u001b[A\n",
      "t:  85%|████████▌ | 85/100 [00:00<00:00, 113.93it/s, now=None]\u001b[A\n",
      "t:  97%|█████████▋| 97/100 [00:00<00:00, 115.08it/s, now=None]\u001b[A\n",
      "Episode 18100:  90%|█████████ | 18100/20001 [2:56:55<19:18,  1.64it/s, episode_loss=tf.Tensor(12.337676, shape=(), dtype=float32), episode_reward=tf.Tensor(61.0, shape=(), dtype=float32)] \n",
      "t:   0%|          | 0/100 [00:00<?, ?it/s, now=None]\u001b[A\n",
      "t:  13%|█▎        | 13/100 [00:00<00:00, 127.63it/s, now=None]\u001b[A"
     ]
    },
    {
     "name": "stdout",
     "output_type": "stream",
     "text": [
      "MoviePy - Building file keras_train_1006-182031/frames/train_18100.gif with imageio.\n"
     ]
    },
    {
     "name": "stderr",
     "output_type": "stream",
     "text": [
      "\n",
      "t:  25%|██▌       | 25/100 [00:00<00:00, 124.32it/s, now=None]\u001b[A\n",
      "t:  38%|███▊      | 38/100 [00:00<00:00, 123.49it/s, now=None]\u001b[A\n",
      "t:  50%|█████     | 50/100 [00:00<00:00, 121.38it/s, now=None]\u001b[A\n",
      "t:  63%|██████▎   | 63/100 [00:00<00:00, 121.34it/s, now=None]\u001b[A\n",
      "t:  75%|███████▌  | 75/100 [00:00<00:00, 120.52it/s, now=None]\u001b[A\n",
      "t:  87%|████████▋ | 87/100 [00:00<00:00, 119.54it/s, now=None]\u001b[A\n",
      "t: 100%|██████████| 100/100 [00:00<00:00, 119.97it/s, now=None]\u001b[A\n",
      "Episode 18200:  91%|█████████ | 18200/20001 [2:57:54<16:56,  1.77it/s, episode_loss=tf.Tensor(3.0199533, shape=(), dtype=float32), episode_reward=tf.Tensor(52.0, shape=(), dtype=float32)] \n",
      "t:   0%|          | 0/100 [00:00<?, ?it/s, now=None]\u001b[A\n",
      "t:  14%|█▍        | 14/100 [00:00<00:00, 130.40it/s, now=None]\u001b[A"
     ]
    },
    {
     "name": "stdout",
     "output_type": "stream",
     "text": [
      "MoviePy - Building file keras_train_1006-182031/frames/train_18200.gif with imageio.\n"
     ]
    },
    {
     "name": "stderr",
     "output_type": "stream",
     "text": [
      "\n",
      "t:  26%|██▌       | 26/100 [00:00<00:00, 126.98it/s, now=None]\u001b[A\n",
      "t:  39%|███▉      | 39/100 [00:00<00:00, 124.89it/s, now=None]\u001b[A\n",
      "t:  52%|█████▏    | 52/100 [00:00<00:00, 123.72it/s, now=None]\u001b[A\n",
      "t:  65%|██████▌   | 65/100 [00:00<00:00, 123.70it/s, now=None]\u001b[A\n",
      "t:  77%|███████▋  | 77/100 [00:00<00:00, 122.48it/s, now=None]\u001b[A\n",
      "t:  89%|████████▉ | 89/100 [00:00<00:00, 121.60it/s, now=None]\u001b[A\n",
      "Episode 18300:  91%|█████████▏| 18300/20001 [2:58:52<16:01,  1.77it/s, episode_loss=tf.Tensor(5.9661713, shape=(), dtype=float32), episode_reward=tf.Tensor(77.0, shape=(), dtype=float32)]  \n",
      "t:   0%|          | 0/100 [00:00<?, ?it/s, now=None]\u001b[A\n",
      "t:  14%|█▍        | 14/100 [00:00<00:00, 132.57it/s, now=None]\u001b[A"
     ]
    },
    {
     "name": "stdout",
     "output_type": "stream",
     "text": [
      "MoviePy - Building file keras_train_1006-182031/frames/train_18300.gif with imageio.\n"
     ]
    },
    {
     "name": "stderr",
     "output_type": "stream",
     "text": [
      "\n",
      "t:  26%|██▌       | 26/100 [00:00<00:00, 127.66it/s, now=None]\u001b[A\n",
      "t:  38%|███▊      | 38/100 [00:00<00:00, 124.81it/s, now=None]\u001b[A\n",
      "t:  50%|█████     | 50/100 [00:00<00:00, 122.60it/s, now=None]\u001b[A\n",
      "t:  62%|██████▏   | 62/100 [00:00<00:00, 121.31it/s, now=None]\u001b[A\n",
      "t:  74%|███████▍  | 74/100 [00:00<00:00, 120.51it/s, now=None]\u001b[A\n",
      "t:  86%|████████▌ | 86/100 [00:00<00:00, 120.04it/s, now=None]\u001b[A\n",
      "t:  98%|█████████▊| 98/100 [00:00<00:00, 119.93it/s, now=None]\u001b[A\n",
      "Episode 18400:  92%|█████████▏| 18400/20001 [2:59:49<15:30,  1.72it/s, episode_loss=tf.Tensor(2.8823247, shape=(), dtype=float32), episode_reward=tf.Tensor(89.0, shape=(), dtype=float32)] \n",
      "t:   0%|          | 0/100 [00:00<?, ?it/s, now=None]\u001b[A\n",
      "t:  13%|█▎        | 13/100 [00:00<00:00, 128.39it/s, now=None]\u001b[A"
     ]
    },
    {
     "name": "stdout",
     "output_type": "stream",
     "text": [
      "MoviePy - Building file keras_train_1006-182031/frames/train_18400.gif with imageio.\n"
     ]
    },
    {
     "name": "stderr",
     "output_type": "stream",
     "text": [
      "\n",
      "t:  25%|██▌       | 25/100 [00:00<00:00, 125.62it/s, now=None]\u001b[A\n",
      "t:  37%|███▋      | 37/100 [00:00<00:00, 123.26it/s, now=None]\u001b[A\n",
      "t:  49%|████▉     | 49/100 [00:00<00:00, 122.23it/s, now=None]\u001b[A\n",
      "t:  61%|██████    | 61/100 [00:00<00:00, 121.15it/s, now=None]\u001b[A\n",
      "t:  73%|███████▎  | 73/100 [00:00<00:00, 120.32it/s, now=None]\u001b[A\n",
      "t:  86%|████████▌ | 86/100 [00:00<00:00, 121.74it/s, now=None]\u001b[A\n",
      "t:  99%|█████████▉| 99/100 [00:00<00:00, 122.48it/s, now=None]\u001b[A\n",
      "Episode 18500:  92%|█████████▏| 18500/20001 [3:00:47<14:04,  1.78it/s, episode_loss=tf.Tensor(3.73249, shape=(), dtype=float32), episode_reward=tf.Tensor(78.0, shape=(), dtype=float32)]  \n",
      "t:   0%|          | 0/100 [00:00<?, ?it/s, now=None]\u001b[A\n",
      "t:  14%|█▍        | 14/100 [00:00<00:00, 129.91it/s, now=None]\u001b[A"
     ]
    },
    {
     "name": "stdout",
     "output_type": "stream",
     "text": [
      "MoviePy - Building file keras_train_1006-182031/frames/train_18500.gif with imageio.\n"
     ]
    },
    {
     "name": "stderr",
     "output_type": "stream",
     "text": [
      "\n",
      "t:  26%|██▌       | 26/100 [00:00<00:00, 126.41it/s, now=None]\u001b[A\n",
      "t:  38%|███▊      | 38/100 [00:00<00:00, 123.42it/s, now=None]\u001b[A\n",
      "t:  50%|█████     | 50/100 [00:00<00:00, 121.90it/s, now=None]\u001b[A\n",
      "t:  63%|██████▎   | 63/100 [00:00<00:00, 121.45it/s, now=None]\u001b[A\n",
      "t:  75%|███████▌  | 75/100 [00:00<00:00, 120.76it/s, now=None]\u001b[A\n",
      "t:  88%|████████▊ | 88/100 [00:00<00:00, 121.15it/s, now=None]\u001b[A\n",
      "Episode 18600:  93%|█████████▎| 18600/20001 [3:01:44<13:02,  1.79it/s, episode_loss=tf.Tensor(0.037923336, shape=(), dtype=float32), episode_reward=tf.Tensor(44.0, shape=(), dtype=float32)]\n",
      "t:   0%|          | 0/100 [00:00<?, ?it/s, now=None]\u001b[A\n",
      "t:  13%|█▎        | 13/100 [00:00<00:00, 128.32it/s, now=None]\u001b[A"
     ]
    },
    {
     "name": "stdout",
     "output_type": "stream",
     "text": [
      "MoviePy - Building file keras_train_1006-182031/frames/train_18600.gif with imageio.\n"
     ]
    },
    {
     "name": "stderr",
     "output_type": "stream",
     "text": [
      "\n",
      "t:  25%|██▌       | 25/100 [00:00<00:00, 125.01it/s, now=None]\u001b[A\n",
      "t:  37%|███▋      | 37/100 [00:00<00:00, 122.51it/s, now=None]\u001b[A\n",
      "t:  50%|█████     | 50/100 [00:00<00:00, 121.94it/s, now=None]\u001b[A\n",
      "t:  63%|██████▎   | 63/100 [00:00<00:00, 122.04it/s, now=None]\u001b[A\n",
      "t:  76%|███████▌  | 76/100 [00:00<00:00, 122.12it/s, now=None]\u001b[A\n",
      "t:  89%|████████▉ | 89/100 [00:00<00:00, 121.61it/s, now=None]\u001b[A\n",
      "Episode 18700:  93%|█████████▎| 18700/20001 [3:02:41<12:07,  1.79it/s, episode_loss=tf.Tensor(6.458347, shape=(), dtype=float32), episode_reward=tf.Tensor(94.0, shape=(), dtype=float32)]   \n",
      "t:   0%|          | 0/100 [00:00<?, ?it/s, now=None]\u001b[A\n",
      "t:  14%|█▍        | 14/100 [00:00<00:00, 131.94it/s, now=None]\u001b[A"
     ]
    },
    {
     "name": "stdout",
     "output_type": "stream",
     "text": [
      "MoviePy - Building file keras_train_1006-182031/frames/train_18700.gif with imageio.\n"
     ]
    },
    {
     "name": "stderr",
     "output_type": "stream",
     "text": [
      "\n",
      "t:  26%|██▌       | 26/100 [00:00<00:00, 127.36it/s, now=None]\u001b[A\n",
      "t:  39%|███▉      | 39/100 [00:00<00:00, 125.26it/s, now=None]\u001b[A\n",
      "t:  51%|█████     | 51/100 [00:00<00:00, 123.42it/s, now=None]\u001b[A\n",
      "t:  63%|██████▎   | 63/100 [00:00<00:00, 122.09it/s, now=None]\u001b[A\n",
      "t:  75%|███████▌  | 75/100 [00:00<00:00, 121.11it/s, now=None]\u001b[A\n",
      "t:  88%|████████▊ | 88/100 [00:00<00:00, 121.69it/s, now=None]\u001b[A\n",
      "Episode 18800:  94%|█████████▍| 18800/20001 [3:03:38<11:25,  1.75it/s, episode_loss=tf.Tensor(-1.2877865, shape=(), dtype=float32), episode_reward=tf.Tensor(45.0, shape=(), dtype=float32)] \n",
      "t:   0%|          | 0/100 [00:00<?, ?it/s, now=None]\u001b[A\n",
      "t:  14%|█▍        | 14/100 [00:00<00:00, 135.59it/s, now=None]\u001b[A"
     ]
    },
    {
     "name": "stdout",
     "output_type": "stream",
     "text": [
      "MoviePy - Building file keras_train_1006-182031/frames/train_18800.gif with imageio.\n"
     ]
    },
    {
     "name": "stderr",
     "output_type": "stream",
     "text": [
      "\n",
      "t:  27%|██▋       | 27/100 [00:00<00:00, 130.97it/s, now=None]\u001b[A\n",
      "t:  39%|███▉      | 39/100 [00:00<00:00, 126.57it/s, now=None]\u001b[A\n",
      "t:  51%|█████     | 51/100 [00:00<00:00, 124.32it/s, now=None]\u001b[A\n",
      "t:  63%|██████▎   | 63/100 [00:00<00:00, 122.77it/s, now=None]\u001b[A\n",
      "t:  75%|███████▌  | 75/100 [00:00<00:00, 121.49it/s, now=None]\u001b[A\n",
      "t:  87%|████████▋ | 87/100 [00:00<00:00, 120.92it/s, now=None]\u001b[A\n",
      "t: 100%|██████████| 100/100 [00:00<00:00, 121.40it/s, now=None]\u001b[A\n",
      "Episode 18900:  94%|█████████▍| 18900/20001 [3:04:35<10:20,  1.77it/s, episode_loss=tf.Tensor(10.05344, shape=(), dtype=float32), episode_reward=tf.Tensor(60.0, shape=(), dtype=float32)]   \n",
      "t:   0%|          | 0/100 [00:00<?, ?it/s, now=None]\u001b[A\n",
      "t:  14%|█▍        | 14/100 [00:00<00:00, 129.87it/s, now=None]\u001b[A"
     ]
    },
    {
     "name": "stdout",
     "output_type": "stream",
     "text": [
      "MoviePy - Building file keras_train_1006-182031/frames/train_18900.gif with imageio.\n"
     ]
    },
    {
     "name": "stderr",
     "output_type": "stream",
     "text": [
      "\n",
      "t:  26%|██▌       | 26/100 [00:00<00:00, 125.06it/s, now=None]\u001b[A\n",
      "t:  38%|███▊      | 38/100 [00:00<00:00, 123.25it/s, now=None]\u001b[A\n",
      "t:  50%|█████     | 50/100 [00:00<00:00, 120.57it/s, now=None]\u001b[A\n",
      "t:  62%|██████▏   | 62/100 [00:00<00:00, 119.52it/s, now=None]\u001b[A\n",
      "t:  74%|███████▍  | 74/100 [00:00<00:00, 119.53it/s, now=None]\u001b[A\n",
      "t:  86%|████████▌ | 86/100 [00:00<00:00, 118.56it/s, now=None]\u001b[A\n",
      "t:  98%|█████████▊| 98/100 [00:00<00:00, 118.80it/s, now=None]\u001b[A\n",
      "Episode 19000:  95%|█████████▍| 19000/20001 [3:05:33<09:22,  1.78it/s, episode_loss=tf.Tensor(7.105125, shape=(), dtype=float32), episode_reward=tf.Tensor(65.0, shape=(), dtype=float32)]  \n",
      "t:   0%|          | 0/100 [00:00<?, ?it/s, now=None]\u001b[A\n",
      "t:  15%|█▌        | 15/100 [00:00<00:00, 140.71it/s, now=None]\u001b[A"
     ]
    },
    {
     "name": "stdout",
     "output_type": "stream",
     "text": [
      "MoviePy - Building file keras_train_1006-182031/frames/train_19000.gif with imageio.\n"
     ]
    },
    {
     "name": "stderr",
     "output_type": "stream",
     "text": [
      "\n",
      "t:  28%|██▊       | 28/100 [00:00<00:00, 136.37it/s, now=None]\u001b[A\n",
      "t:  42%|████▏     | 42/100 [00:00<00:00, 134.75it/s, now=None]\u001b[A\n",
      "t:  56%|█████▌    | 56/100 [00:00<00:00, 133.85it/s, now=None]\u001b[A\n",
      "t:  69%|██████▉   | 69/100 [00:00<00:00, 132.53it/s, now=None]\u001b[A\n",
      "t:  83%|████████▎ | 83/100 [00:00<00:00, 133.66it/s, now=None]\u001b[A\n",
      "t:  97%|█████████▋| 97/100 [00:00<00:00, 133.31it/s, now=None]\u001b[A\n",
      "Episode 19100:  95%|█████████▌| 19100/20001 [3:06:30<08:38,  1.74it/s, episode_loss=tf.Tensor(6.3913474, shape=(), dtype=float32), episode_reward=tf.Tensor(91.0, shape=(), dtype=float32)] \n",
      "t:   0%|          | 0/100 [00:00<?, ?it/s, now=None]\u001b[A\n",
      "t:  15%|█▌        | 15/100 [00:00<00:00, 148.06it/s, now=None]\u001b[A"
     ]
    },
    {
     "name": "stdout",
     "output_type": "stream",
     "text": [
      "MoviePy - Building file keras_train_1006-182031/frames/train_19100.gif with imageio.\n"
     ]
    },
    {
     "name": "stderr",
     "output_type": "stream",
     "text": [
      "\n",
      "t:  29%|██▉       | 29/100 [00:00<00:00, 143.27it/s, now=None]\u001b[A\n",
      "t:  43%|████▎     | 43/100 [00:00<00:00, 140.34it/s, now=None]\u001b[A\n",
      "t:  57%|█████▋    | 57/100 [00:00<00:00, 137.72it/s, now=None]\u001b[A\n",
      "t:  71%|███████   | 71/100 [00:00<00:00, 135.53it/s, now=None]\u001b[A\n",
      "t:  85%|████████▌ | 85/100 [00:00<00:00, 134.58it/s, now=None]\u001b[A\n",
      "t:  99%|█████████▉| 99/100 [00:00<00:00, 134.67it/s, now=None]\u001b[A\n",
      "Episode 19200:  96%|█████████▌| 19200/20001 [3:07:27<07:25,  1.80it/s, episode_loss=tf.Tensor(8.250565, shape=(), dtype=float32), episode_reward=tf.Tensor(55.0, shape=(), dtype=float32)]  \n",
      "t:   0%|          | 0/100 [00:00<?, ?it/s, now=None]\u001b[A\n",
      "t:  13%|█▎        | 13/100 [00:00<00:00, 128.48it/s, now=None]\u001b[A"
     ]
    },
    {
     "name": "stdout",
     "output_type": "stream",
     "text": [
      "MoviePy - Building file keras_train_1006-182031/frames/train_19200.gif with imageio.\n"
     ]
    },
    {
     "name": "stderr",
     "output_type": "stream",
     "text": [
      "\n",
      "t:  25%|██▌       | 25/100 [00:00<00:00, 125.21it/s, now=None]\u001b[A\n",
      "t:  37%|███▋      | 37/100 [00:00<00:00, 122.91it/s, now=None]\u001b[A\n",
      "t:  50%|█████     | 50/100 [00:00<00:00, 122.42it/s, now=None]\u001b[A\n",
      "t:  63%|██████▎   | 63/100 [00:00<00:00, 122.01it/s, now=None]\u001b[A\n",
      "t:  75%|███████▌  | 75/100 [00:00<00:00, 120.96it/s, now=None]\u001b[A\n",
      "t:  87%|████████▋ | 87/100 [00:00<00:00, 120.19it/s, now=None]\u001b[A\n",
      "t: 100%|██████████| 100/100 [00:00<00:00, 120.56it/s, now=None]\u001b[A\n",
      "Episode 19300:  96%|█████████▋| 19300/20001 [3:08:24<06:31,  1.79it/s, episode_loss=tf.Tensor(10.976564, shape=(), dtype=float32), episode_reward=tf.Tensor(59.0, shape=(), dtype=float32)] \n",
      "t:   0%|          | 0/100 [00:00<?, ?it/s, now=None]\u001b[A\n",
      "t:  13%|█▎        | 13/100 [00:00<00:00, 129.40it/s, now=None]\u001b[A"
     ]
    },
    {
     "name": "stdout",
     "output_type": "stream",
     "text": [
      "MoviePy - Building file keras_train_1006-182031/frames/train_19300.gif with imageio.\n"
     ]
    },
    {
     "name": "stderr",
     "output_type": "stream",
     "text": [
      "\n",
      "t:  25%|██▌       | 25/100 [00:00<00:00, 125.46it/s, now=None]\u001b[A\n",
      "t:  38%|███▊      | 38/100 [00:00<00:00, 124.24it/s, now=None]\u001b[A\n",
      "t:  50%|█████     | 50/100 [00:00<00:00, 121.66it/s, now=None]\u001b[A\n",
      "t:  62%|██████▏   | 62/100 [00:00<00:00, 120.72it/s, now=None]\u001b[A\n",
      "t:  74%|███████▍  | 74/100 [00:00<00:00, 119.64it/s, now=None]\u001b[A\n",
      "t:  86%|████████▌ | 86/100 [00:00<00:00, 119.25it/s, now=None]\u001b[A\n",
      "t:  98%|█████████▊| 98/100 [00:00<00:00, 118.59it/s, now=None]\u001b[A\n",
      "Episode 19400:  97%|█████████▋| 19400/20001 [3:09:21<05:34,  1.80it/s, episode_loss=tf.Tensor(4.911773, shape=(), dtype=float32), episode_reward=tf.Tensor(89.0, shape=(), dtype=float32)]  \n",
      "t:   0%|          | 0/100 [00:00<?, ?it/s, now=None]\u001b[A\n",
      "t:  15%|█▌        | 15/100 [00:00<00:00, 148.66it/s, now=None]\u001b[A"
     ]
    },
    {
     "name": "stdout",
     "output_type": "stream",
     "text": [
      "MoviePy - Building file keras_train_1006-182031/frames/train_19400.gif with imageio.\n"
     ]
    },
    {
     "name": "stderr",
     "output_type": "stream",
     "text": [
      "\n",
      "t:  29%|██▉       | 29/100 [00:00<00:00, 143.10it/s, now=None]\u001b[A\n",
      "t:  43%|████▎     | 43/100 [00:00<00:00, 140.53it/s, now=None]\u001b[A\n",
      "t:  57%|█████▋    | 57/100 [00:00<00:00, 138.08it/s, now=None]\u001b[A\n",
      "t:  71%|███████   | 71/100 [00:00<00:00, 136.55it/s, now=None]\u001b[A\n",
      "t:  85%|████████▌ | 85/100 [00:00<00:00, 136.14it/s, now=None]\u001b[A\n",
      "t:  98%|█████████▊| 98/100 [00:00<00:00, 133.89it/s, now=None]\u001b[A\n",
      "Episode 19500:  97%|█████████▋| 19500/20001 [3:10:18<04:45,  1.76it/s, episode_loss=tf.Tensor(14.7591915, shape=(), dtype=float32), episode_reward=tf.Tensor(43.0, shape=(), dtype=float32)] \n",
      "t:   0%|          | 0/100 [00:00<?, ?it/s, now=None]\u001b[A\n",
      "t:  13%|█▎        | 13/100 [00:00<00:00, 128.31it/s, now=None]\u001b[A"
     ]
    },
    {
     "name": "stdout",
     "output_type": "stream",
     "text": [
      "MoviePy - Building file keras_train_1006-182031/frames/train_19500.gif with imageio.\n"
     ]
    },
    {
     "name": "stderr",
     "output_type": "stream",
     "text": [
      "\n",
      "t:  25%|██▌       | 25/100 [00:00<00:00, 124.79it/s, now=None]\u001b[A\n",
      "t:  37%|███▋      | 37/100 [00:00<00:00, 121.69it/s, now=None]\u001b[A\n",
      "t:  50%|█████     | 50/100 [00:00<00:00, 121.92it/s, now=None]\u001b[A\n",
      "t:  63%|██████▎   | 63/100 [00:00<00:00, 122.01it/s, now=None]\u001b[A\n",
      "t:  75%|███████▌  | 75/100 [00:00<00:00, 120.40it/s, now=None]\u001b[A\n",
      "t:  88%|████████▊ | 88/100 [00:00<00:00, 120.60it/s, now=None]\u001b[A\n",
      "Episode 19600:  98%|█████████▊| 19600/20001 [3:11:15<03:43,  1.79it/s, episode_loss=tf.Tensor(4.793192, shape=(), dtype=float32), episode_reward=tf.Tensor(88.0, shape=(), dtype=float32)]   \n",
      "t:   0%|          | 0/100 [00:00<?, ?it/s, now=None]\u001b[A\n",
      "t:  14%|█▍        | 14/100 [00:00<00:00, 129.67it/s, now=None]\u001b[A"
     ]
    },
    {
     "name": "stdout",
     "output_type": "stream",
     "text": [
      "MoviePy - Building file keras_train_1006-182031/frames/train_19600.gif with imageio.\n"
     ]
    },
    {
     "name": "stderr",
     "output_type": "stream",
     "text": [
      "\n",
      "t:  27%|██▋       | 27/100 [00:00<00:00, 126.80it/s, now=None]\u001b[A\n",
      "t:  39%|███▉      | 39/100 [00:00<00:00, 124.18it/s, now=None]\u001b[A\n",
      "t:  52%|█████▏    | 52/100 [00:00<00:00, 123.13it/s, now=None]\u001b[A\n",
      "t:  64%|██████▍   | 64/100 [00:00<00:00, 122.08it/s, now=None]\u001b[A\n",
      "t:  77%|███████▋  | 77/100 [00:00<00:00, 121.61it/s, now=None]\u001b[A\n",
      "t:  90%|█████████ | 90/100 [00:00<00:00, 121.70it/s, now=None]\u001b[A\n",
      "Episode 19700:  98%|█████████▊| 19700/20001 [3:12:12<02:47,  1.80it/s, episode_loss=tf.Tensor(23.353622, shape=(), dtype=float32), episode_reward=tf.Tensor(59.0, shape=(), dtype=float32)] \n",
      "t:   0%|          | 0/100 [00:00<?, ?it/s, now=None]\u001b[A\n",
      "t:  14%|█▍        | 14/100 [00:00<00:00, 134.24it/s, now=None]\u001b[A"
     ]
    },
    {
     "name": "stdout",
     "output_type": "stream",
     "text": [
      "MoviePy - Building file keras_train_1006-182031/frames/train_19700.gif with imageio.\n"
     ]
    },
    {
     "name": "stderr",
     "output_type": "stream",
     "text": [
      "\n",
      "t:  26%|██▌       | 26/100 [00:00<00:00, 128.45it/s, now=None]\u001b[A\n",
      "t:  38%|███▊      | 38/100 [00:00<00:00, 125.43it/s, now=None]\u001b[A\n",
      "t:  51%|█████     | 51/100 [00:00<00:00, 124.71it/s, now=None]\u001b[A\n",
      "t:  64%|██████▍   | 64/100 [00:00<00:00, 123.34it/s, now=None]\u001b[A\n",
      "t:  77%|███████▋  | 77/100 [00:00<00:00, 123.02it/s, now=None]\u001b[A\n",
      "t:  90%|█████████ | 90/100 [00:00<00:00, 123.22it/s, now=None]\u001b[A\n",
      "Episode 19800:  99%|█████████▉| 19800/20001 [3:13:09<01:55,  1.75it/s, episode_loss=tf.Tensor(6.6851406, shape=(), dtype=float32), episode_reward=tf.Tensor(63.0, shape=(), dtype=float32)]  \n",
      "t:   0%|          | 0/100 [00:00<?, ?it/s, now=None]\u001b[A\n",
      "t:  14%|█▍        | 14/100 [00:00<00:00, 132.93it/s, now=None]\u001b[A"
     ]
    },
    {
     "name": "stdout",
     "output_type": "stream",
     "text": [
      "MoviePy - Building file keras_train_1006-182031/frames/train_19800.gif with imageio.\n"
     ]
    },
    {
     "name": "stderr",
     "output_type": "stream",
     "text": [
      "\n",
      "t:  26%|██▌       | 26/100 [00:00<00:00, 128.08it/s, now=None]\u001b[A\n",
      "t:  39%|███▉      | 39/100 [00:00<00:00, 125.94it/s, now=None]\u001b[A\n",
      "t:  52%|█████▏    | 52/100 [00:00<00:00, 124.76it/s, now=None]\u001b[A\n",
      "t:  65%|██████▌   | 65/100 [00:00<00:00, 123.69it/s, now=None]\u001b[A\n",
      "t:  77%|███████▋  | 77/100 [00:00<00:00, 122.29it/s, now=None]\u001b[A\n",
      "t:  89%|████████▉ | 89/100 [00:00<00:00, 121.41it/s, now=None]\u001b[A\n",
      "Episode 19900:  99%|█████████▉| 19900/20001 [3:14:06<00:56,  1.79it/s, episode_loss=tf.Tensor(2.1686108, shape=(), dtype=float32), episode_reward=tf.Tensor(85.0, shape=(), dtype=float32)]  \n",
      "t:   0%|          | 0/100 [00:00<?, ?it/s, now=None]\u001b[A\n",
      "t:  15%|█▌        | 15/100 [00:00<00:00, 143.74it/s, now=None]\u001b[A"
     ]
    },
    {
     "name": "stdout",
     "output_type": "stream",
     "text": [
      "MoviePy - Building file keras_train_1006-182031/frames/train_19900.gif with imageio.\n"
     ]
    },
    {
     "name": "stderr",
     "output_type": "stream",
     "text": [
      "\n",
      "t:  29%|██▉       | 29/100 [00:00<00:00, 139.88it/s, now=None]\u001b[A\n",
      "t:  43%|████▎     | 43/100 [00:00<00:00, 138.69it/s, now=None]\u001b[A\n",
      "t:  57%|█████▋    | 57/100 [00:00<00:00, 137.61it/s, now=None]\u001b[A\n",
      "t:  71%|███████   | 71/100 [00:00<00:00, 135.73it/s, now=None]\u001b[A\n",
      "t:  85%|████████▌ | 85/100 [00:00<00:00, 136.25it/s, now=None]\u001b[A\n",
      "t:  99%|█████████▉| 99/100 [00:00<00:00, 136.57it/s, now=None]\u001b[A\n",
      "Episode 20000: 100%|█████████▉| 20000/20001 [3:15:02<00:00,  1.80it/s, episode_loss=tf.Tensor(-6.3868074, shape=(), dtype=float32), episode_reward=tf.Tensor(54.0, shape=(), dtype=float32)] \n",
      "t:   0%|          | 0/100 [00:00<?, ?it/s, now=None]\u001b[A\n",
      "t:  14%|█▍        | 14/100 [00:00<00:00, 129.70it/s, now=None]\u001b[A"
     ]
    },
    {
     "name": "stdout",
     "output_type": "stream",
     "text": [
      "MoviePy - Building file keras_train_1006-182031/frames/train_20000.gif with imageio.\n"
     ]
    },
    {
     "name": "stderr",
     "output_type": "stream",
     "text": [
      "\n",
      "t:  26%|██▌       | 26/100 [00:00<00:00, 126.53it/s, now=None]\u001b[A\n",
      "t:  39%|███▉      | 39/100 [00:00<00:00, 125.01it/s, now=None]\u001b[A\n",
      "t:  51%|█████     | 51/100 [00:00<00:00, 123.10it/s, now=None]\u001b[A\n",
      "t:  64%|██████▍   | 64/100 [00:00<00:00, 122.79it/s, now=None]\u001b[A\n",
      "t:  77%|███████▋  | 77/100 [00:00<00:00, 123.14it/s, now=None]\u001b[A\n",
      "t:  89%|████████▉ | 89/100 [00:00<00:00, 121.88it/s, now=None]\u001b[A\n",
      "Episode 20000: 100%|██████████| 20001/20001 [3:15:03<00:00,  1.71it/s, episode_loss=tf.Tensor(-6.3868074, shape=(), dtype=float32), episode_reward=tf.Tensor(54.0, shape=(), dtype=float32)]"
     ]
    },
    {
     "name": "stdout",
     "output_type": "stream",
     "text": [
      "\n",
      " episode 20000: average reward: 0.00!\n",
      "CPU times: user 3h 27min 19s, sys: 3min 33s, total: 3h 30min 53s\n",
      "Wall time: 3h 15min 3s\n"
     ]
    },
    {
     "name": "stderr",
     "output_type": "stream",
     "text": [
      "\n"
     ]
    }
   ],
   "source": [
    "%%time\n",
    "\n",
    "max_episodes = 20001\n",
    "max_steps_per_episode = 100\n",
    "train = True\n",
    "running_reward = 0\n",
    "# Discount factor for future rewards\n",
    "gamma = 0.9\n",
    "\n",
    "with tqdm.trange(max_episodes) as t:\n",
    "    for i in t:\n",
    "        env.reset()\n",
    "        rand_act = np.random.choice([0,1])\n",
    "        init_rew = 1 if np.random.uniform() < env.bandit[rand_act] else 0\n",
    "        initial_obs = tf.concat([[init_rew], \n",
    "                                 tf.one_hot(rand_act, num_actions, dtype=tf.float32)],0)\n",
    "        initial_state = [tf.zeros([1,num_hidden_units],tf.float32),\n",
    "                        tf.zeros([1,num_hidden_units],tf.float32)]\n",
    "        # Run the model for one episode to collect training data\n",
    "        if train==True:\n",
    "            obs_seq, actions, timesteps, rew_probs, rewards, values = run_episode(\n",
    "                initial_obs, initial_state, model, max_steps_per_episode)\n",
    "            \n",
    "            returns = get_expected_return(rewards, gamma)\n",
    "            \n",
    "            advantages = returns - values\n",
    "            \n",
    "            episode_loss = train_step(obs_seq, actions, returns, advantages, initial_state, model)\n",
    "\n",
    "        else: \n",
    "            obs_seq, actions, timesteps, rew_probs, rewards, values = run_episode(\n",
    "                initial_obs, initial_state, model, max_steps_per_episode)\n",
    "\n",
    "        episode_reward = tf.math.reduce_sum(rewards)\n",
    "\n",
    "        t.set_description(f'Episode {i}')\n",
    "        t.set_postfix(\n",
    "            episode_reward=episode_reward, episode_loss=episode_loss)\n",
    "\n",
    "        # Show average episode reward every 10 episodes\n",
    "        if i % 100 == 0:\n",
    "            episode_frames = [rewards.numpy(),rew_probs.numpy(),\n",
    "                              actions.numpy(),timesteps.numpy()]\n",
    "            img_list = create_gif(episode_frames)\n",
    "            ep_type = \"/train_\" if train == True else \"/test_\"\n",
    "            make_gif(img_list,frame_path+ep_type+str(i)+'.gif',\n",
    "                            duration=len(img_list)*0.1,true_image=True)\n",
    "          \n",
    "            if i % 1000 == 0 and train == True:\n",
    "                model.save_weights(model_path+'/model-'+str(i)+'/model-'+str(i))\n",
    "                \n",
    "print(f'\\n episode {i}: average reward: {running_reward:.2f}!')"
   ]
  },
  {
   "cell_type": "code",
   "execution_count": null,
   "metadata": {},
   "outputs": [],
   "source": []
  }
 ],
 "metadata": {
  "kernelspec": {
   "display_name": "Python 3",
   "language": "python",
   "name": "python3"
  },
  "language_info": {
   "codemirror_mode": {
    "name": "ipython",
    "version": 3
   },
   "file_extension": ".py",
   "mimetype": "text/x-python",
   "name": "python",
   "nbconvert_exporter": "python",
   "pygments_lexer": "ipython3",
   "version": "3.6.8"
  },
  "latex_envs": {
   "LaTeX_envs_menu_present": true,
   "autoclose": false,
   "autocomplete": true,
   "bibliofile": "biblio.bib",
   "cite_by": "apalike",
   "current_citInitial": 1,
   "eqLabelWithNumbers": true,
   "eqNumInitial": 1,
   "hotkeys": {
    "equation": "Ctrl-E",
    "itemize": "Ctrl-I"
   },
   "labels_anchors": false,
   "latex_user_defs": false,
   "report_style_numbering": false,
   "user_envs_cfg": false
  },
  "varInspector": {
   "cols": {
    "lenName": 16,
    "lenType": 16,
    "lenVar": 40
   },
   "kernels_config": {
    "python": {
     "delete_cmd_postfix": "",
     "delete_cmd_prefix": "del ",
     "library": "var_list.py",
     "varRefreshCmd": "print(var_dic_list())"
    },
    "r": {
     "delete_cmd_postfix": ") ",
     "delete_cmd_prefix": "rm(",
     "library": "var_list.r",
     "varRefreshCmd": "cat(var_dic_list()) "
    }
   },
   "types_to_exclude": [
    "module",
    "function",
    "builtin_function_or_method",
    "instance",
    "_Feature"
   ],
   "window_display": false
  }
 },
 "nbformat": 4,
 "nbformat_minor": 4
}